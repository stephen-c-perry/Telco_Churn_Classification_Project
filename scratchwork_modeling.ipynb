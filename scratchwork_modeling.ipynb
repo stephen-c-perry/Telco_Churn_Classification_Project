{
 "cells": [
  {
   "cell_type": "code",
   "execution_count": 1,
   "metadata": {},
   "outputs": [],
   "source": [
    "import warnings\n",
    "warnings.filterwarnings(\"ignore\")\n",
    "import numpy as np\n",
    "import pandas as pd\n",
    "from pydataset import data\n",
    "from sklearn.model_selection import train_test_split\n",
    "from sklearn.tree import DecisionTreeClassifier, plot_tree\n",
    "from sklearn.metrics import classification_report\n",
    "from sklearn.metrics import confusion_matrix\n",
    "import matplotlib.pyplot as plt\n",
    "import seaborn as sns\n",
    "from sklearn.ensemble import RandomForestClassifier\n",
    "from sklearn.neighbors import KNeighborsClassifier\n",
    "%matplotlib inline\n",
    "%config InlineBackend.figure_format = 'svg'\n",
    "\n",
    "import model_functions\n",
    "\n",
    "#acquire train csv from local drive\n",
    "train = pd.read_csv('Telco_Train_CSV.csv', index_col=0)\n",
    "validate = pd.read_csv('Telco_Validate_CSV.csv', index_col=0)\n",
    "test = pd.read_csv('Telco_Test_CSV.csv', index_col=0)\n"
   ]
  },
  {
   "cell_type": "code",
   "execution_count": 2,
   "metadata": {},
   "outputs": [],
   "source": [
    "#isolating target variable in train, validate, test sets\n",
    "X_Train = train.drop(columns = ['churn_Yes', 'customer_id'])\n",
    "y_Train = train.churn_Yes\n",
    "\n",
    "X_val = validate.drop(columns = ['churn_Yes', 'customer_id'])\n",
    "y_val = validate.churn_Yes\n",
    "\n",
    "X_test = test.drop(columns = ['churn_Yes', 'customer_id'])\n",
    "y_test = test.churn_Yes"
   ]
  },
  {
   "cell_type": "code",
   "execution_count": 3,
   "metadata": {},
   "outputs": [
    {
     "name": "stdout",
     "output_type": "stream",
     "text": [
      "Best Model: Random Forest\n",
      "Test Accuracy: 81.05%\n"
     ]
    }
   ],
   "source": [
    "#testing if functions work from import model_functions \n",
    "model_functions.best_performing_model(X_Train, y_Train, X_test, y_test)"
   ]
  },
  {
   "cell_type": "code",
   "execution_count": null,
   "metadata": {},
   "outputs": [],
   "source": []
  },
  {
   "attachments": {},
   "cell_type": "markdown",
   "metadata": {},
   "source": [
    "- - -\n",
    "### Decision Tree\n",
    "- - -"
   ]
  },
  {
   "cell_type": "code",
   "execution_count": 4,
   "metadata": {},
   "outputs": [
    {
     "data": {
      "text/plain": [
       "0.7347197565305605"
      ]
     },
     "execution_count": 4,
     "metadata": {},
     "output_type": "execute_result"
    }
   ],
   "source": [
    "#y_Train[churn_Yes].mean()\n",
    "#baseline\n",
    "1 - train.churn_Yes.mean()"
   ]
  },
  {
   "cell_type": "code",
   "execution_count": 5,
   "metadata": {},
   "outputs": [],
   "source": [
    "seed=35\n",
    "clf = DecisionTreeClassifier(max_depth=3, random_state=123)"
   ]
  },
  {
   "cell_type": "code",
   "execution_count": 6,
   "metadata": {},
   "outputs": [
    {
     "data": {
      "text/html": [
       "<style>#sk-container-id-1 {color: black;background-color: white;}#sk-container-id-1 pre{padding: 0;}#sk-container-id-1 div.sk-toggleable {background-color: white;}#sk-container-id-1 label.sk-toggleable__label {cursor: pointer;display: block;width: 100%;margin-bottom: 0;padding: 0.3em;box-sizing: border-box;text-align: center;}#sk-container-id-1 label.sk-toggleable__label-arrow:before {content: \"▸\";float: left;margin-right: 0.25em;color: #696969;}#sk-container-id-1 label.sk-toggleable__label-arrow:hover:before {color: black;}#sk-container-id-1 div.sk-estimator:hover label.sk-toggleable__label-arrow:before {color: black;}#sk-container-id-1 div.sk-toggleable__content {max-height: 0;max-width: 0;overflow: hidden;text-align: left;background-color: #f0f8ff;}#sk-container-id-1 div.sk-toggleable__content pre {margin: 0.2em;color: black;border-radius: 0.25em;background-color: #f0f8ff;}#sk-container-id-1 input.sk-toggleable__control:checked~div.sk-toggleable__content {max-height: 200px;max-width: 100%;overflow: auto;}#sk-container-id-1 input.sk-toggleable__control:checked~label.sk-toggleable__label-arrow:before {content: \"▾\";}#sk-container-id-1 div.sk-estimator input.sk-toggleable__control:checked~label.sk-toggleable__label {background-color: #d4ebff;}#sk-container-id-1 div.sk-label input.sk-toggleable__control:checked~label.sk-toggleable__label {background-color: #d4ebff;}#sk-container-id-1 input.sk-hidden--visually {border: 0;clip: rect(1px 1px 1px 1px);clip: rect(1px, 1px, 1px, 1px);height: 1px;margin: -1px;overflow: hidden;padding: 0;position: absolute;width: 1px;}#sk-container-id-1 div.sk-estimator {font-family: monospace;background-color: #f0f8ff;border: 1px dotted black;border-radius: 0.25em;box-sizing: border-box;margin-bottom: 0.5em;}#sk-container-id-1 div.sk-estimator:hover {background-color: #d4ebff;}#sk-container-id-1 div.sk-parallel-item::after {content: \"\";width: 100%;border-bottom: 1px solid gray;flex-grow: 1;}#sk-container-id-1 div.sk-label:hover label.sk-toggleable__label {background-color: #d4ebff;}#sk-container-id-1 div.sk-serial::before {content: \"\";position: absolute;border-left: 1px solid gray;box-sizing: border-box;top: 0;bottom: 0;left: 50%;z-index: 0;}#sk-container-id-1 div.sk-serial {display: flex;flex-direction: column;align-items: center;background-color: white;padding-right: 0.2em;padding-left: 0.2em;position: relative;}#sk-container-id-1 div.sk-item {position: relative;z-index: 1;}#sk-container-id-1 div.sk-parallel {display: flex;align-items: stretch;justify-content: center;background-color: white;position: relative;}#sk-container-id-1 div.sk-item::before, #sk-container-id-1 div.sk-parallel-item::before {content: \"\";position: absolute;border-left: 1px solid gray;box-sizing: border-box;top: 0;bottom: 0;left: 50%;z-index: -1;}#sk-container-id-1 div.sk-parallel-item {display: flex;flex-direction: column;z-index: 1;position: relative;background-color: white;}#sk-container-id-1 div.sk-parallel-item:first-child::after {align-self: flex-end;width: 50%;}#sk-container-id-1 div.sk-parallel-item:last-child::after {align-self: flex-start;width: 50%;}#sk-container-id-1 div.sk-parallel-item:only-child::after {width: 0;}#sk-container-id-1 div.sk-dashed-wrapped {border: 1px dashed gray;margin: 0 0.4em 0.5em 0.4em;box-sizing: border-box;padding-bottom: 0.4em;background-color: white;}#sk-container-id-1 div.sk-label label {font-family: monospace;font-weight: bold;display: inline-block;line-height: 1.2em;}#sk-container-id-1 div.sk-label-container {text-align: center;}#sk-container-id-1 div.sk-container {/* jupyter's `normalize.less` sets `[hidden] { display: none; }` but bootstrap.min.css set `[hidden] { display: none !important; }` so we also need the `!important` here to be able to override the default hidden behavior on the sphinx rendered scikit-learn.org. See: https://github.com/scikit-learn/scikit-learn/issues/21755 */display: inline-block !important;position: relative;}#sk-container-id-1 div.sk-text-repr-fallback {display: none;}</style><div id=\"sk-container-id-1\" class=\"sk-top-container\"><div class=\"sk-text-repr-fallback\"><pre>DecisionTreeClassifier(max_depth=3, random_state=123)</pre><b>In a Jupyter environment, please rerun this cell to show the HTML representation or trust the notebook. <br />On GitHub, the HTML representation is unable to render, please try loading this page with nbviewer.org.</b></div><div class=\"sk-container\" hidden><div class=\"sk-item\"><div class=\"sk-estimator sk-toggleable\"><input class=\"sk-toggleable__control sk-hidden--visually\" id=\"sk-estimator-id-1\" type=\"checkbox\" checked><label for=\"sk-estimator-id-1\" class=\"sk-toggleable__label sk-toggleable__label-arrow\">DecisionTreeClassifier</label><div class=\"sk-toggleable__content\"><pre>DecisionTreeClassifier(max_depth=3, random_state=123)</pre></div></div></div></div></div>"
      ],
      "text/plain": [
       "DecisionTreeClassifier(max_depth=3, random_state=123)"
      ]
     },
     "execution_count": 6,
     "metadata": {},
     "output_type": "execute_result"
    }
   ],
   "source": [
    "clf.fit(X_Train, y_Train)"
   ]
  },
  {
   "cell_type": "code",
   "execution_count": 7,
   "metadata": {},
   "outputs": [
    {
     "data": {
      "text/plain": [
       "0.7874714684250571"
      ]
     },
     "execution_count": 7,
     "metadata": {},
     "output_type": "execute_result"
    }
   ],
   "source": [
    "clf.score(X_Train, y_Train)"
   ]
  },
  {
   "cell_type": "code",
   "execution_count": 8,
   "metadata": {},
   "outputs": [
    {
     "data": {
      "image/svg+xml": "<?xml version=\"1.0\" encoding=\"utf-8\" standalone=\"no\"?>\n<!DOCTYPE svg PUBLIC \"-//W3C//DTD SVG 1.1//EN\"\n  \"http://www.w3.org/Graphics/SVG/1.1/DTD/svg11.dtd\">\n<svg xmlns:xlink=\"http://www.w3.org/1999/xlink\" width=\"739.8pt\" height=\"402.48pt\" viewBox=\"0 0 739.8 402.48\" xmlns=\"http://www.w3.org/2000/svg\" version=\"1.1\">\n <metadata>\n  <rdf:RDF xmlns:dc=\"http://purl.org/dc/elements/1.1/\" xmlns:cc=\"http://creativecommons.org/ns#\" xmlns:rdf=\"http://www.w3.org/1999/02/22-rdf-syntax-ns#\">\n   <cc:Work>\n    <dc:type rdf:resource=\"http://purl.org/dc/dcmitype/StillImage\"/>\n    <dc:date>2023-01-05T20:35:31.569838</dc:date>\n    <dc:format>image/svg+xml</dc:format>\n    <dc:creator>\n     <cc:Agent>\n      <dc:title>Matplotlib v3.5.2, https://matplotlib.org/</dc:title>\n     </cc:Agent>\n    </dc:creator>\n   </cc:Work>\n  </rdf:RDF>\n </metadata>\n <defs>\n  <style type=\"text/css\">*{stroke-linejoin: round; stroke-linecap: butt}</style>\n </defs>\n <g id=\"figure_1\">\n  <g id=\"patch_1\">\n   <path d=\"M 0 402.48 \nL 739.8 402.48 \nL 739.8 -0 \nL 0 -0 \nz\n\" style=\"fill: #ffffff\"/>\n  </g>\n  <g id=\"axes_1\">\n   <g id=\"patch_2\">\n    <path d=\"M 57.930261 335.229758 \nQ 77.242273 293.903012 97.027612 251.563368 \n\" style=\"fill: none; stroke: #000000; stroke-linecap: round\"/>\n    <path d=\"M 59.442311 334.031828 \nL 57.930261 335.229758 \nL 57.879147 333.30136 \n\" style=\"fill: none; stroke: #000000; stroke-linecap: round\"/>\n   </g>\n   <g id=\"text_1\">\n    <g id=\"patch_3\">\n     <path d=\"M 32.180607 354.981639 \nL 72.894393 354.981639 \nQ 74.188456 354.981639 74.188456 353.687576 \nL 74.188456 339.852424 \nQ 74.188456 338.558361 72.894393 338.558361 \nL 32.180607 338.558361 \nQ 30.886544 338.558361 30.886544 339.852424 \nL 30.886544 353.687576 \nQ 30.886544 354.981639 32.180607 354.981639 \nz\n\" style=\"fill: #ffffff; stroke: #000000; stroke-linejoin: miter\"/>\n    </g>\n    <!-- gini = 0.489 -->\n    <g transform=\"translate(39.250438 343.130043)scale(0.043135 -0.043135)\">\n     <defs>\n      <path id=\"DejaVuSans-67\" d=\"M 2906 1791 \nQ 2906 2416 2648 2759 \nQ 2391 3103 1925 3103 \nQ 1463 3103 1205 2759 \nQ 947 2416 947 1791 \nQ 947 1169 1205 825 \nQ 1463 481 1925 481 \nQ 2391 481 2648 825 \nQ 2906 1169 2906 1791 \nz\nM 3481 434 \nQ 3481 -459 3084 -895 \nQ 2688 -1331 1869 -1331 \nQ 1566 -1331 1297 -1286 \nQ 1028 -1241 775 -1147 \nL 775 -588 \nQ 1028 -725 1275 -790 \nQ 1522 -856 1778 -856 \nQ 2344 -856 2625 -561 \nQ 2906 -266 2906 331 \nL 2906 616 \nQ 2728 306 2450 153 \nQ 2172 0 1784 0 \nQ 1141 0 747 490 \nQ 353 981 353 1791 \nQ 353 2603 747 3093 \nQ 1141 3584 1784 3584 \nQ 2172 3584 2450 3431 \nQ 2728 3278 2906 2969 \nL 2906 3500 \nL 3481 3500 \nL 3481 434 \nz\n\" transform=\"scale(0.015625)\"/>\n      <path id=\"DejaVuSans-69\" d=\"M 603 3500 \nL 1178 3500 \nL 1178 0 \nL 603 0 \nL 603 3500 \nz\nM 603 4863 \nL 1178 4863 \nL 1178 4134 \nL 603 4134 \nL 603 4863 \nz\n\" transform=\"scale(0.015625)\"/>\n      <path id=\"DejaVuSans-6e\" d=\"M 3513 2113 \nL 3513 0 \nL 2938 0 \nL 2938 2094 \nQ 2938 2591 2744 2837 \nQ 2550 3084 2163 3084 \nQ 1697 3084 1428 2787 \nQ 1159 2491 1159 1978 \nL 1159 0 \nL 581 0 \nL 581 3500 \nL 1159 3500 \nL 1159 2956 \nQ 1366 3272 1645 3428 \nQ 1925 3584 2291 3584 \nQ 2894 3584 3203 3211 \nQ 3513 2838 3513 2113 \nz\n\" transform=\"scale(0.015625)\"/>\n      <path id=\"DejaVuSans-20\" transform=\"scale(0.015625)\"/>\n      <path id=\"DejaVuSans-3d\" d=\"M 678 2906 \nL 4684 2906 \nL 4684 2381 \nL 678 2381 \nL 678 2906 \nz\nM 678 1631 \nL 4684 1631 \nL 4684 1100 \nL 678 1100 \nL 678 1631 \nz\n\" transform=\"scale(0.015625)\"/>\n      <path id=\"DejaVuSans-30\" d=\"M 2034 4250 \nQ 1547 4250 1301 3770 \nQ 1056 3291 1056 2328 \nQ 1056 1369 1301 889 \nQ 1547 409 2034 409 \nQ 2525 409 2770 889 \nQ 3016 1369 3016 2328 \nQ 3016 3291 2770 3770 \nQ 2525 4250 2034 4250 \nz\nM 2034 4750 \nQ 2819 4750 3233 4129 \nQ 3647 3509 3647 2328 \nQ 3647 1150 3233 529 \nQ 2819 -91 2034 -91 \nQ 1250 -91 836 529 \nQ 422 1150 422 2328 \nQ 422 3509 836 4129 \nQ 1250 4750 2034 4750 \nz\n\" transform=\"scale(0.015625)\"/>\n      <path id=\"DejaVuSans-2e\" d=\"M 684 794 \nL 1344 794 \nL 1344 0 \nL 684 0 \nL 684 794 \nz\n\" transform=\"scale(0.015625)\"/>\n      <path id=\"DejaVuSans-34\" d=\"M 2419 4116 \nL 825 1625 \nL 2419 1625 \nL 2419 4116 \nz\nM 2253 4666 \nL 3047 4666 \nL 3047 1625 \nL 3713 1625 \nL 3713 1100 \nL 3047 1100 \nL 3047 0 \nL 2419 0 \nL 2419 1100 \nL 313 1100 \nL 313 1709 \nL 2253 4666 \nz\n\" transform=\"scale(0.015625)\"/>\n      <path id=\"DejaVuSans-38\" d=\"M 2034 2216 \nQ 1584 2216 1326 1975 \nQ 1069 1734 1069 1313 \nQ 1069 891 1326 650 \nQ 1584 409 2034 409 \nQ 2484 409 2743 651 \nQ 3003 894 3003 1313 \nQ 3003 1734 2745 1975 \nQ 2488 2216 2034 2216 \nz\nM 1403 2484 \nQ 997 2584 770 2862 \nQ 544 3141 544 3541 \nQ 544 4100 942 4425 \nQ 1341 4750 2034 4750 \nQ 2731 4750 3128 4425 \nQ 3525 4100 3525 3541 \nQ 3525 3141 3298 2862 \nQ 3072 2584 2669 2484 \nQ 3125 2378 3379 2068 \nQ 3634 1759 3634 1313 \nQ 3634 634 3220 271 \nQ 2806 -91 2034 -91 \nQ 1263 -91 848 271 \nQ 434 634 434 1313 \nQ 434 1759 690 2068 \nQ 947 2378 1403 2484 \nz\nM 1172 3481 \nQ 1172 3119 1398 2916 \nQ 1625 2713 2034 2713 \nQ 2441 2713 2670 2916 \nQ 2900 3119 2900 3481 \nQ 2900 3844 2670 4047 \nQ 2441 4250 2034 4250 \nQ 1625 4250 1398 4047 \nQ 1172 3844 1172 3481 \nz\n\" transform=\"scale(0.015625)\"/>\n      <path id=\"DejaVuSans-39\" d=\"M 703 97 \nL 703 672 \nQ 941 559 1184 500 \nQ 1428 441 1663 441 \nQ 2288 441 2617 861 \nQ 2947 1281 2994 2138 \nQ 2813 1869 2534 1725 \nQ 2256 1581 1919 1581 \nQ 1219 1581 811 2004 \nQ 403 2428 403 3163 \nQ 403 3881 828 4315 \nQ 1253 4750 1959 4750 \nQ 2769 4750 3195 4129 \nQ 3622 3509 3622 2328 \nQ 3622 1225 3098 567 \nQ 2575 -91 1691 -91 \nQ 1453 -91 1209 -44 \nQ 966 3 703 97 \nz\nM 1959 2075 \nQ 2384 2075 2632 2365 \nQ 2881 2656 2881 3163 \nQ 2881 3666 2632 3958 \nQ 2384 4250 1959 4250 \nQ 1534 4250 1286 3958 \nQ 1038 3666 1038 3163 \nQ 1038 2656 1286 2365 \nQ 1534 2075 1959 2075 \nz\n\" transform=\"scale(0.015625)\"/>\n     </defs>\n     <use xlink:href=\"#DejaVuSans-67\"/>\n     <use xlink:href=\"#DejaVuSans-69\" x=\"63.476562\"/>\n     <use xlink:href=\"#DejaVuSans-6e\" x=\"91.259766\"/>\n     <use xlink:href=\"#DejaVuSans-69\" x=\"154.638672\"/>\n     <use xlink:href=\"#DejaVuSans-20\" x=\"182.421875\"/>\n     <use xlink:href=\"#DejaVuSans-3d\" x=\"214.208984\"/>\n     <use xlink:href=\"#DejaVuSans-20\" x=\"297.998047\"/>\n     <use xlink:href=\"#DejaVuSans-30\" x=\"329.785156\"/>\n     <use xlink:href=\"#DejaVuSans-2e\" x=\"393.408203\"/>\n     <use xlink:href=\"#DejaVuSans-34\" x=\"425.195312\"/>\n     <use xlink:href=\"#DejaVuSans-38\" x=\"488.818359\"/>\n     <use xlink:href=\"#DejaVuSans-39\" x=\"552.441406\"/>\n    </g>\n    <!-- samples = 397 -->\n    <g transform=\"translate(36.277463 347.960268)scale(0.043135 -0.043135)\">\n     <defs>\n      <path id=\"DejaVuSans-73\" d=\"M 2834 3397 \nL 2834 2853 \nQ 2591 2978 2328 3040 \nQ 2066 3103 1784 3103 \nQ 1356 3103 1142 2972 \nQ 928 2841 928 2578 \nQ 928 2378 1081 2264 \nQ 1234 2150 1697 2047 \nL 1894 2003 \nQ 2506 1872 2764 1633 \nQ 3022 1394 3022 966 \nQ 3022 478 2636 193 \nQ 2250 -91 1575 -91 \nQ 1294 -91 989 -36 \nQ 684 19 347 128 \nL 347 722 \nQ 666 556 975 473 \nQ 1284 391 1588 391 \nQ 1994 391 2212 530 \nQ 2431 669 2431 922 \nQ 2431 1156 2273 1281 \nQ 2116 1406 1581 1522 \nL 1381 1569 \nQ 847 1681 609 1914 \nQ 372 2147 372 2553 \nQ 372 3047 722 3315 \nQ 1072 3584 1716 3584 \nQ 2034 3584 2315 3537 \nQ 2597 3491 2834 3397 \nz\n\" transform=\"scale(0.015625)\"/>\n      <path id=\"DejaVuSans-61\" d=\"M 2194 1759 \nQ 1497 1759 1228 1600 \nQ 959 1441 959 1056 \nQ 959 750 1161 570 \nQ 1363 391 1709 391 \nQ 2188 391 2477 730 \nQ 2766 1069 2766 1631 \nL 2766 1759 \nL 2194 1759 \nz\nM 3341 1997 \nL 3341 0 \nL 2766 0 \nL 2766 531 \nQ 2569 213 2275 61 \nQ 1981 -91 1556 -91 \nQ 1019 -91 701 211 \nQ 384 513 384 1019 \nQ 384 1609 779 1909 \nQ 1175 2209 1959 2209 \nL 2766 2209 \nL 2766 2266 \nQ 2766 2663 2505 2880 \nQ 2244 3097 1772 3097 \nQ 1472 3097 1187 3025 \nQ 903 2953 641 2809 \nL 641 3341 \nQ 956 3463 1253 3523 \nQ 1550 3584 1831 3584 \nQ 2591 3584 2966 3190 \nQ 3341 2797 3341 1997 \nz\n\" transform=\"scale(0.015625)\"/>\n      <path id=\"DejaVuSans-6d\" d=\"M 3328 2828 \nQ 3544 3216 3844 3400 \nQ 4144 3584 4550 3584 \nQ 5097 3584 5394 3201 \nQ 5691 2819 5691 2113 \nL 5691 0 \nL 5113 0 \nL 5113 2094 \nQ 5113 2597 4934 2840 \nQ 4756 3084 4391 3084 \nQ 3944 3084 3684 2787 \nQ 3425 2491 3425 1978 \nL 3425 0 \nL 2847 0 \nL 2847 2094 \nQ 2847 2600 2669 2842 \nQ 2491 3084 2119 3084 \nQ 1678 3084 1418 2786 \nQ 1159 2488 1159 1978 \nL 1159 0 \nL 581 0 \nL 581 3500 \nL 1159 3500 \nL 1159 2956 \nQ 1356 3278 1631 3431 \nQ 1906 3584 2284 3584 \nQ 2666 3584 2933 3390 \nQ 3200 3197 3328 2828 \nz\n\" transform=\"scale(0.015625)\"/>\n      <path id=\"DejaVuSans-70\" d=\"M 1159 525 \nL 1159 -1331 \nL 581 -1331 \nL 581 3500 \nL 1159 3500 \nL 1159 2969 \nQ 1341 3281 1617 3432 \nQ 1894 3584 2278 3584 \nQ 2916 3584 3314 3078 \nQ 3713 2572 3713 1747 \nQ 3713 922 3314 415 \nQ 2916 -91 2278 -91 \nQ 1894 -91 1617 61 \nQ 1341 213 1159 525 \nz\nM 3116 1747 \nQ 3116 2381 2855 2742 \nQ 2594 3103 2138 3103 \nQ 1681 3103 1420 2742 \nQ 1159 2381 1159 1747 \nQ 1159 1113 1420 752 \nQ 1681 391 2138 391 \nQ 2594 391 2855 752 \nQ 3116 1113 3116 1747 \nz\n\" transform=\"scale(0.015625)\"/>\n      <path id=\"DejaVuSans-6c\" d=\"M 603 4863 \nL 1178 4863 \nL 1178 0 \nL 603 0 \nL 603 4863 \nz\n\" transform=\"scale(0.015625)\"/>\n      <path id=\"DejaVuSans-65\" d=\"M 3597 1894 \nL 3597 1613 \nL 953 1613 \nQ 991 1019 1311 708 \nQ 1631 397 2203 397 \nQ 2534 397 2845 478 \nQ 3156 559 3463 722 \nL 3463 178 \nQ 3153 47 2828 -22 \nQ 2503 -91 2169 -91 \nQ 1331 -91 842 396 \nQ 353 884 353 1716 \nQ 353 2575 817 3079 \nQ 1281 3584 2069 3584 \nQ 2775 3584 3186 3129 \nQ 3597 2675 3597 1894 \nz\nM 3022 2063 \nQ 3016 2534 2758 2815 \nQ 2500 3097 2075 3097 \nQ 1594 3097 1305 2825 \nQ 1016 2553 972 2059 \nL 3022 2063 \nz\n\" transform=\"scale(0.015625)\"/>\n      <path id=\"DejaVuSans-33\" d=\"M 2597 2516 \nQ 3050 2419 3304 2112 \nQ 3559 1806 3559 1356 \nQ 3559 666 3084 287 \nQ 2609 -91 1734 -91 \nQ 1441 -91 1130 -33 \nQ 819 25 488 141 \nL 488 750 \nQ 750 597 1062 519 \nQ 1375 441 1716 441 \nQ 2309 441 2620 675 \nQ 2931 909 2931 1356 \nQ 2931 1769 2642 2001 \nQ 2353 2234 1838 2234 \nL 1294 2234 \nL 1294 2753 \nL 1863 2753 \nQ 2328 2753 2575 2939 \nQ 2822 3125 2822 3475 \nQ 2822 3834 2567 4026 \nQ 2313 4219 1838 4219 \nQ 1578 4219 1281 4162 \nQ 984 4106 628 3988 \nL 628 4550 \nQ 988 4650 1302 4700 \nQ 1616 4750 1894 4750 \nQ 2613 4750 3031 4423 \nQ 3450 4097 3450 3541 \nQ 3450 3153 3228 2886 \nQ 3006 2619 2597 2516 \nz\n\" transform=\"scale(0.015625)\"/>\n      <path id=\"DejaVuSans-37\" d=\"M 525 4666 \nL 3525 4666 \nL 3525 4397 \nL 1831 0 \nL 1172 0 \nL 2766 4134 \nL 525 4134 \nL 525 4666 \nz\n\" transform=\"scale(0.015625)\"/>\n     </defs>\n     <use xlink:href=\"#DejaVuSans-73\"/>\n     <use xlink:href=\"#DejaVuSans-61\" x=\"52.099609\"/>\n     <use xlink:href=\"#DejaVuSans-6d\" x=\"113.378906\"/>\n     <use xlink:href=\"#DejaVuSans-70\" x=\"210.791016\"/>\n     <use xlink:href=\"#DejaVuSans-6c\" x=\"274.267578\"/>\n     <use xlink:href=\"#DejaVuSans-65\" x=\"302.050781\"/>\n     <use xlink:href=\"#DejaVuSans-73\" x=\"363.574219\"/>\n     <use xlink:href=\"#DejaVuSans-20\" x=\"415.673828\"/>\n     <use xlink:href=\"#DejaVuSans-3d\" x=\"447.460938\"/>\n     <use xlink:href=\"#DejaVuSans-20\" x=\"531.25\"/>\n     <use xlink:href=\"#DejaVuSans-33\" x=\"563.037109\"/>\n     <use xlink:href=\"#DejaVuSans-39\" x=\"626.660156\"/>\n     <use xlink:href=\"#DejaVuSans-37\" x=\"690.283203\"/>\n    </g>\n    <!-- value = [228, 169] -->\n    <g transform=\"translate(32.180607 352.790494)scale(0.043135 -0.043135)\">\n     <defs>\n      <path id=\"DejaVuSans-76\" d=\"M 191 3500 \nL 800 3500 \nL 1894 563 \nL 2988 3500 \nL 3597 3500 \nL 2284 0 \nL 1503 0 \nL 191 3500 \nz\n\" transform=\"scale(0.015625)\"/>\n      <path id=\"DejaVuSans-75\" d=\"M 544 1381 \nL 544 3500 \nL 1119 3500 \nL 1119 1403 \nQ 1119 906 1312 657 \nQ 1506 409 1894 409 \nQ 2359 409 2629 706 \nQ 2900 1003 2900 1516 \nL 2900 3500 \nL 3475 3500 \nL 3475 0 \nL 2900 0 \nL 2900 538 \nQ 2691 219 2414 64 \nQ 2138 -91 1772 -91 \nQ 1169 -91 856 284 \nQ 544 659 544 1381 \nz\nM 1991 3584 \nL 1991 3584 \nz\n\" transform=\"scale(0.015625)\"/>\n      <path id=\"DejaVuSans-5b\" d=\"M 550 4863 \nL 1875 4863 \nL 1875 4416 \nL 1125 4416 \nL 1125 -397 \nL 1875 -397 \nL 1875 -844 \nL 550 -844 \nL 550 4863 \nz\n\" transform=\"scale(0.015625)\"/>\n      <path id=\"DejaVuSans-32\" d=\"M 1228 531 \nL 3431 531 \nL 3431 0 \nL 469 0 \nL 469 531 \nQ 828 903 1448 1529 \nQ 2069 2156 2228 2338 \nQ 2531 2678 2651 2914 \nQ 2772 3150 2772 3378 \nQ 2772 3750 2511 3984 \nQ 2250 4219 1831 4219 \nQ 1534 4219 1204 4116 \nQ 875 4013 500 3803 \nL 500 4441 \nQ 881 4594 1212 4672 \nQ 1544 4750 1819 4750 \nQ 2544 4750 2975 4387 \nQ 3406 4025 3406 3419 \nQ 3406 3131 3298 2873 \nQ 3191 2616 2906 2266 \nQ 2828 2175 2409 1742 \nQ 1991 1309 1228 531 \nz\n\" transform=\"scale(0.015625)\"/>\n      <path id=\"DejaVuSans-2c\" d=\"M 750 794 \nL 1409 794 \nL 1409 256 \nL 897 -744 \nL 494 -744 \nL 750 256 \nL 750 794 \nz\n\" transform=\"scale(0.015625)\"/>\n      <path id=\"DejaVuSans-31\" d=\"M 794 531 \nL 1825 531 \nL 1825 4091 \nL 703 3866 \nL 703 4441 \nL 1819 4666 \nL 2450 4666 \nL 2450 531 \nL 3481 531 \nL 3481 0 \nL 794 0 \nL 794 531 \nz\n\" transform=\"scale(0.015625)\"/>\n      <path id=\"DejaVuSans-36\" d=\"M 2113 2584 \nQ 1688 2584 1439 2293 \nQ 1191 2003 1191 1497 \nQ 1191 994 1439 701 \nQ 1688 409 2113 409 \nQ 2538 409 2786 701 \nQ 3034 994 3034 1497 \nQ 3034 2003 2786 2293 \nQ 2538 2584 2113 2584 \nz\nM 3366 4563 \nL 3366 3988 \nQ 3128 4100 2886 4159 \nQ 2644 4219 2406 4219 \nQ 1781 4219 1451 3797 \nQ 1122 3375 1075 2522 \nQ 1259 2794 1537 2939 \nQ 1816 3084 2150 3084 \nQ 2853 3084 3261 2657 \nQ 3669 2231 3669 1497 \nQ 3669 778 3244 343 \nQ 2819 -91 2113 -91 \nQ 1303 -91 875 529 \nQ 447 1150 447 2328 \nQ 447 3434 972 4092 \nQ 1497 4750 2381 4750 \nQ 2619 4750 2861 4703 \nQ 3103 4656 3366 4563 \nz\n\" transform=\"scale(0.015625)\"/>\n      <path id=\"DejaVuSans-5d\" d=\"M 1947 4863 \nL 1947 -844 \nL 622 -844 \nL 622 -397 \nL 1369 -397 \nL 1369 4416 \nL 622 4416 \nL 622 4863 \nL 1947 4863 \nz\n\" transform=\"scale(0.015625)\"/>\n     </defs>\n     <use xlink:href=\"#DejaVuSans-76\"/>\n     <use xlink:href=\"#DejaVuSans-61\" x=\"59.179688\"/>\n     <use xlink:href=\"#DejaVuSans-6c\" x=\"120.458984\"/>\n     <use xlink:href=\"#DejaVuSans-75\" x=\"148.242188\"/>\n     <use xlink:href=\"#DejaVuSans-65\" x=\"211.621094\"/>\n     <use xlink:href=\"#DejaVuSans-20\" x=\"273.144531\"/>\n     <use xlink:href=\"#DejaVuSans-3d\" x=\"304.931641\"/>\n     <use xlink:href=\"#DejaVuSans-20\" x=\"388.720703\"/>\n     <use xlink:href=\"#DejaVuSans-5b\" x=\"420.507812\"/>\n     <use xlink:href=\"#DejaVuSans-32\" x=\"459.521484\"/>\n     <use xlink:href=\"#DejaVuSans-32\" x=\"523.144531\"/>\n     <use xlink:href=\"#DejaVuSans-38\" x=\"586.767578\"/>\n     <use xlink:href=\"#DejaVuSans-2c\" x=\"650.390625\"/>\n     <use xlink:href=\"#DejaVuSans-20\" x=\"682.177734\"/>\n     <use xlink:href=\"#DejaVuSans-31\" x=\"713.964844\"/>\n     <use xlink:href=\"#DejaVuSans-36\" x=\"777.587891\"/>\n     <use xlink:href=\"#DejaVuSans-39\" x=\"841.210938\"/>\n     <use xlink:href=\"#DejaVuSans-5d\" x=\"904.833984\"/>\n    </g>\n   </g>\n   <g id=\"patch_4\">\n    <path d=\"M 137.819739 335.229758 \nQ 118.507727 293.903012 98.722388 251.563368 \n\" style=\"fill: none; stroke: #000000; stroke-linecap: round\"/>\n    <path d=\"M 137.870853 333.30136 \nL 137.819739 335.229758 \nL 136.307689 334.031828 \n\" style=\"fill: none; stroke: #000000; stroke-linecap: round\"/>\n   </g>\n   <g id=\"text_2\">\n    <g id=\"patch_5\">\n     <path d=\"M 124.227853 354.981639 \nL 162.197147 354.981639 \nQ 163.49121 354.981639 163.49121 353.687576 \nL 163.49121 339.852424 \nQ 163.49121 338.558361 162.197147 338.558361 \nL 124.227853 338.558361 \nQ 122.93379 338.558361 122.93379 339.852424 \nL 122.93379 353.687576 \nQ 122.93379 354.981639 124.227853 354.981639 \nz\n\" style=\"fill: #ffffff; stroke: #000000; stroke-linejoin: miter\"/>\n    </g>\n    <!-- gini = 0.289 -->\n    <g transform=\"translate(129.925438 343.130043)scale(0.043135 -0.043135)\">\n     <use xlink:href=\"#DejaVuSans-67\"/>\n     <use xlink:href=\"#DejaVuSans-69\" x=\"63.476562\"/>\n     <use xlink:href=\"#DejaVuSans-6e\" x=\"91.259766\"/>\n     <use xlink:href=\"#DejaVuSans-69\" x=\"154.638672\"/>\n     <use xlink:href=\"#DejaVuSans-20\" x=\"182.421875\"/>\n     <use xlink:href=\"#DejaVuSans-3d\" x=\"214.208984\"/>\n     <use xlink:href=\"#DejaVuSans-20\" x=\"297.998047\"/>\n     <use xlink:href=\"#DejaVuSans-30\" x=\"329.785156\"/>\n     <use xlink:href=\"#DejaVuSans-2e\" x=\"393.408203\"/>\n     <use xlink:href=\"#DejaVuSans-32\" x=\"425.195312\"/>\n     <use xlink:href=\"#DejaVuSans-38\" x=\"488.818359\"/>\n     <use xlink:href=\"#DejaVuSans-39\" x=\"552.441406\"/>\n    </g>\n    <!-- samples = 405 -->\n    <g transform=\"translate(126.952463 347.960268)scale(0.043135 -0.043135)\">\n     <defs>\n      <path id=\"DejaVuSans-35\" d=\"M 691 4666 \nL 3169 4666 \nL 3169 4134 \nL 1269 4134 \nL 1269 2991 \nQ 1406 3038 1543 3061 \nQ 1681 3084 1819 3084 \nQ 2600 3084 3056 2656 \nQ 3513 2228 3513 1497 \nQ 3513 744 3044 326 \nQ 2575 -91 1722 -91 \nQ 1428 -91 1123 -41 \nQ 819 9 494 109 \nL 494 744 \nQ 775 591 1075 516 \nQ 1375 441 1709 441 \nQ 2250 441 2565 725 \nQ 2881 1009 2881 1497 \nQ 2881 1984 2565 2268 \nQ 2250 2553 1709 2553 \nQ 1456 2553 1204 2497 \nQ 953 2441 691 2322 \nL 691 4666 \nz\n\" transform=\"scale(0.015625)\"/>\n     </defs>\n     <use xlink:href=\"#DejaVuSans-73\"/>\n     <use xlink:href=\"#DejaVuSans-61\" x=\"52.099609\"/>\n     <use xlink:href=\"#DejaVuSans-6d\" x=\"113.378906\"/>\n     <use xlink:href=\"#DejaVuSans-70\" x=\"210.791016\"/>\n     <use xlink:href=\"#DejaVuSans-6c\" x=\"274.267578\"/>\n     <use xlink:href=\"#DejaVuSans-65\" x=\"302.050781\"/>\n     <use xlink:href=\"#DejaVuSans-73\" x=\"363.574219\"/>\n     <use xlink:href=\"#DejaVuSans-20\" x=\"415.673828\"/>\n     <use xlink:href=\"#DejaVuSans-3d\" x=\"447.460938\"/>\n     <use xlink:href=\"#DejaVuSans-20\" x=\"531.25\"/>\n     <use xlink:href=\"#DejaVuSans-34\" x=\"563.037109\"/>\n     <use xlink:href=\"#DejaVuSans-30\" x=\"626.660156\"/>\n     <use xlink:href=\"#DejaVuSans-35\" x=\"690.283203\"/>\n    </g>\n    <!-- value = [334, 71] -->\n    <g transform=\"translate(124.227853 352.790494)scale(0.043135 -0.043135)\">\n     <use xlink:href=\"#DejaVuSans-76\"/>\n     <use xlink:href=\"#DejaVuSans-61\" x=\"59.179688\"/>\n     <use xlink:href=\"#DejaVuSans-6c\" x=\"120.458984\"/>\n     <use xlink:href=\"#DejaVuSans-75\" x=\"148.242188\"/>\n     <use xlink:href=\"#DejaVuSans-65\" x=\"211.621094\"/>\n     <use xlink:href=\"#DejaVuSans-20\" x=\"273.144531\"/>\n     <use xlink:href=\"#DejaVuSans-3d\" x=\"304.931641\"/>\n     <use xlink:href=\"#DejaVuSans-20\" x=\"388.720703\"/>\n     <use xlink:href=\"#DejaVuSans-5b\" x=\"420.507812\"/>\n     <use xlink:href=\"#DejaVuSans-33\" x=\"459.521484\"/>\n     <use xlink:href=\"#DejaVuSans-33\" x=\"523.144531\"/>\n     <use xlink:href=\"#DejaVuSans-34\" x=\"586.767578\"/>\n     <use xlink:href=\"#DejaVuSans-2c\" x=\"650.390625\"/>\n     <use xlink:href=\"#DejaVuSans-20\" x=\"682.177734\"/>\n     <use xlink:href=\"#DejaVuSans-37\" x=\"713.964844\"/>\n     <use xlink:href=\"#DejaVuSans-31\" x=\"777.587891\"/>\n     <use xlink:href=\"#DejaVuSans-5d\" x=\"841.210938\"/>\n    </g>\n   </g>\n   <g id=\"patch_6\">\n    <path d=\"M 239.280261 335.229758 \nQ 258.592273 293.903012 278.377612 251.563368 \n\" style=\"fill: none; stroke: #000000; stroke-linecap: round\"/>\n    <path d=\"M 240.792311 334.031828 \nL 239.280261 335.229758 \nL 239.229147 333.30136 \n\" style=\"fill: none; stroke: #000000; stroke-linecap: round\"/>\n   </g>\n   <g id=\"text_3\">\n    <g id=\"patch_7\">\n     <path d=\"M 214.902853 354.981639 \nL 252.872147 354.981639 \nQ 254.16621 354.981639 254.16621 353.687576 \nL 254.16621 339.852424 \nQ 254.16621 338.558361 252.872147 338.558361 \nL 214.902853 338.558361 \nQ 213.60879 338.558361 213.60879 339.852424 \nL 213.60879 353.687576 \nQ 213.60879 354.981639 214.902853 354.981639 \nz\n\" style=\"fill: #ffffff; stroke: #000000; stroke-linejoin: miter\"/>\n    </g>\n    <!-- gini = 0.246 -->\n    <g transform=\"translate(220.600438 343.130043)scale(0.043135 -0.043135)\">\n     <use xlink:href=\"#DejaVuSans-67\"/>\n     <use xlink:href=\"#DejaVuSans-69\" x=\"63.476562\"/>\n     <use xlink:href=\"#DejaVuSans-6e\" x=\"91.259766\"/>\n     <use xlink:href=\"#DejaVuSans-69\" x=\"154.638672\"/>\n     <use xlink:href=\"#DejaVuSans-20\" x=\"182.421875\"/>\n     <use xlink:href=\"#DejaVuSans-3d\" x=\"214.208984\"/>\n     <use xlink:href=\"#DejaVuSans-20\" x=\"297.998047\"/>\n     <use xlink:href=\"#DejaVuSans-30\" x=\"329.785156\"/>\n     <use xlink:href=\"#DejaVuSans-2e\" x=\"393.408203\"/>\n     <use xlink:href=\"#DejaVuSans-32\" x=\"425.195312\"/>\n     <use xlink:href=\"#DejaVuSans-34\" x=\"488.818359\"/>\n     <use xlink:href=\"#DejaVuSans-36\" x=\"552.441406\"/>\n    </g>\n    <!-- samples = 132 -->\n    <g transform=\"translate(217.627463 347.960268)scale(0.043135 -0.043135)\">\n     <use xlink:href=\"#DejaVuSans-73\"/>\n     <use xlink:href=\"#DejaVuSans-61\" x=\"52.099609\"/>\n     <use xlink:href=\"#DejaVuSans-6d\" x=\"113.378906\"/>\n     <use xlink:href=\"#DejaVuSans-70\" x=\"210.791016\"/>\n     <use xlink:href=\"#DejaVuSans-6c\" x=\"274.267578\"/>\n     <use xlink:href=\"#DejaVuSans-65\" x=\"302.050781\"/>\n     <use xlink:href=\"#DejaVuSans-73\" x=\"363.574219\"/>\n     <use xlink:href=\"#DejaVuSans-20\" x=\"415.673828\"/>\n     <use xlink:href=\"#DejaVuSans-3d\" x=\"447.460938\"/>\n     <use xlink:href=\"#DejaVuSans-20\" x=\"531.25\"/>\n     <use xlink:href=\"#DejaVuSans-31\" x=\"563.037109\"/>\n     <use xlink:href=\"#DejaVuSans-33\" x=\"626.660156\"/>\n     <use xlink:href=\"#DejaVuSans-32\" x=\"690.283203\"/>\n    </g>\n    <!-- value = [19, 113] -->\n    <g transform=\"translate(214.902853 352.790494)scale(0.043135 -0.043135)\">\n     <use xlink:href=\"#DejaVuSans-76\"/>\n     <use xlink:href=\"#DejaVuSans-61\" x=\"59.179688\"/>\n     <use xlink:href=\"#DejaVuSans-6c\" x=\"120.458984\"/>\n     <use xlink:href=\"#DejaVuSans-75\" x=\"148.242188\"/>\n     <use xlink:href=\"#DejaVuSans-65\" x=\"211.621094\"/>\n     <use xlink:href=\"#DejaVuSans-20\" x=\"273.144531\"/>\n     <use xlink:href=\"#DejaVuSans-3d\" x=\"304.931641\"/>\n     <use xlink:href=\"#DejaVuSans-20\" x=\"388.720703\"/>\n     <use xlink:href=\"#DejaVuSans-5b\" x=\"420.507812\"/>\n     <use xlink:href=\"#DejaVuSans-31\" x=\"459.521484\"/>\n     <use xlink:href=\"#DejaVuSans-39\" x=\"523.144531\"/>\n     <use xlink:href=\"#DejaVuSans-2c\" x=\"586.767578\"/>\n     <use xlink:href=\"#DejaVuSans-20\" x=\"618.554688\"/>\n     <use xlink:href=\"#DejaVuSans-31\" x=\"650.341797\"/>\n     <use xlink:href=\"#DejaVuSans-31\" x=\"713.964844\"/>\n     <use xlink:href=\"#DejaVuSans-33\" x=\"777.587891\"/>\n     <use xlink:href=\"#DejaVuSans-5d\" x=\"841.210938\"/>\n    </g>\n   </g>\n   <g id=\"patch_8\">\n    <path d=\"M 319.169739 335.229758 \nQ 299.857727 293.903012 280.072388 251.563368 \n\" style=\"fill: none; stroke: #000000; stroke-linecap: round\"/>\n    <path d=\"M 319.220853 333.30136 \nL 319.169739 335.229758 \nL 317.657689 334.031828 \n\" style=\"fill: none; stroke: #000000; stroke-linecap: round\"/>\n   </g>\n   <g id=\"text_4\">\n    <g id=\"patch_9\">\n     <path d=\"M 304.205607 354.981639 \nL 344.919393 354.981639 \nQ 346.213456 354.981639 346.213456 353.687576 \nL 346.213456 339.852424 \nQ 346.213456 338.558361 344.919393 338.558361 \nL 304.205607 338.558361 \nQ 302.911544 338.558361 302.911544 339.852424 \nL 302.911544 353.687576 \nQ 302.911544 354.981639 304.205607 354.981639 \nz\n\" style=\"fill: #ffffff; stroke: #000000; stroke-linejoin: miter\"/>\n    </g>\n    <!-- gini = 0.468 -->\n    <g transform=\"translate(311.275438 343.130043)scale(0.043135 -0.043135)\">\n     <use xlink:href=\"#DejaVuSans-67\"/>\n     <use xlink:href=\"#DejaVuSans-69\" x=\"63.476562\"/>\n     <use xlink:href=\"#DejaVuSans-6e\" x=\"91.259766\"/>\n     <use xlink:href=\"#DejaVuSans-69\" x=\"154.638672\"/>\n     <use xlink:href=\"#DejaVuSans-20\" x=\"182.421875\"/>\n     <use xlink:href=\"#DejaVuSans-3d\" x=\"214.208984\"/>\n     <use xlink:href=\"#DejaVuSans-20\" x=\"297.998047\"/>\n     <use xlink:href=\"#DejaVuSans-30\" x=\"329.785156\"/>\n     <use xlink:href=\"#DejaVuSans-2e\" x=\"393.408203\"/>\n     <use xlink:href=\"#DejaVuSans-34\" x=\"425.195312\"/>\n     <use xlink:href=\"#DejaVuSans-36\" x=\"488.818359\"/>\n     <use xlink:href=\"#DejaVuSans-38\" x=\"552.441406\"/>\n    </g>\n    <!-- samples = 452 -->\n    <g transform=\"translate(308.302463 347.960268)scale(0.043135 -0.043135)\">\n     <use xlink:href=\"#DejaVuSans-73\"/>\n     <use xlink:href=\"#DejaVuSans-61\" x=\"52.099609\"/>\n     <use xlink:href=\"#DejaVuSans-6d\" x=\"113.378906\"/>\n     <use xlink:href=\"#DejaVuSans-70\" x=\"210.791016\"/>\n     <use xlink:href=\"#DejaVuSans-6c\" x=\"274.267578\"/>\n     <use xlink:href=\"#DejaVuSans-65\" x=\"302.050781\"/>\n     <use xlink:href=\"#DejaVuSans-73\" x=\"363.574219\"/>\n     <use xlink:href=\"#DejaVuSans-20\" x=\"415.673828\"/>\n     <use xlink:href=\"#DejaVuSans-3d\" x=\"447.460938\"/>\n     <use xlink:href=\"#DejaVuSans-20\" x=\"531.25\"/>\n     <use xlink:href=\"#DejaVuSans-34\" x=\"563.037109\"/>\n     <use xlink:href=\"#DejaVuSans-35\" x=\"626.660156\"/>\n     <use xlink:href=\"#DejaVuSans-32\" x=\"690.283203\"/>\n    </g>\n    <!-- value = [169, 283] -->\n    <g transform=\"translate(304.205607 352.790494)scale(0.043135 -0.043135)\">\n     <use xlink:href=\"#DejaVuSans-76\"/>\n     <use xlink:href=\"#DejaVuSans-61\" x=\"59.179688\"/>\n     <use xlink:href=\"#DejaVuSans-6c\" x=\"120.458984\"/>\n     <use xlink:href=\"#DejaVuSans-75\" x=\"148.242188\"/>\n     <use xlink:href=\"#DejaVuSans-65\" x=\"211.621094\"/>\n     <use xlink:href=\"#DejaVuSans-20\" x=\"273.144531\"/>\n     <use xlink:href=\"#DejaVuSans-3d\" x=\"304.931641\"/>\n     <use xlink:href=\"#DejaVuSans-20\" x=\"388.720703\"/>\n     <use xlink:href=\"#DejaVuSans-5b\" x=\"420.507812\"/>\n     <use xlink:href=\"#DejaVuSans-31\" x=\"459.521484\"/>\n     <use xlink:href=\"#DejaVuSans-36\" x=\"523.144531\"/>\n     <use xlink:href=\"#DejaVuSans-39\" x=\"586.767578\"/>\n     <use xlink:href=\"#DejaVuSans-2c\" x=\"650.390625\"/>\n     <use xlink:href=\"#DejaVuSans-20\" x=\"682.177734\"/>\n     <use xlink:href=\"#DejaVuSans-32\" x=\"713.964844\"/>\n     <use xlink:href=\"#DejaVuSans-38\" x=\"777.587891\"/>\n     <use xlink:href=\"#DejaVuSans-33\" x=\"841.210938\"/>\n     <use xlink:href=\"#DejaVuSans-5d\" x=\"904.833984\"/>\n    </g>\n   </g>\n   <g id=\"patch_10\">\n    <path d=\"M 420.630261 335.229758 \nQ 439.942273 293.903012 459.727612 251.563368 \n\" style=\"fill: none; stroke: #000000; stroke-linecap: round\"/>\n    <path d=\"M 422.142311 334.031828 \nL 420.630261 335.229758 \nL 420.579147 333.30136 \n\" style=\"fill: none; stroke: #000000; stroke-linecap: round\"/>\n   </g>\n   <g id=\"text_5\">\n    <g id=\"patch_11\">\n     <path d=\"M 396.252853 354.981639 \nL 434.222147 354.981639 \nQ 435.51621 354.981639 435.51621 353.687576 \nL 435.51621 339.852424 \nQ 435.51621 338.558361 434.222147 338.558361 \nL 396.252853 338.558361 \nQ 394.95879 338.558361 394.95879 339.852424 \nL 394.95879 353.687576 \nQ 394.95879 354.981639 396.252853 354.981639 \nz\n\" style=\"fill: #ffffff; stroke: #000000; stroke-linejoin: miter\"/>\n    </g>\n    <!-- gini = 0.172 -->\n    <g transform=\"translate(401.950438 343.130043)scale(0.043135 -0.043135)\">\n     <use xlink:href=\"#DejaVuSans-67\"/>\n     <use xlink:href=\"#DejaVuSans-69\" x=\"63.476562\"/>\n     <use xlink:href=\"#DejaVuSans-6e\" x=\"91.259766\"/>\n     <use xlink:href=\"#DejaVuSans-69\" x=\"154.638672\"/>\n     <use xlink:href=\"#DejaVuSans-20\" x=\"182.421875\"/>\n     <use xlink:href=\"#DejaVuSans-3d\" x=\"214.208984\"/>\n     <use xlink:href=\"#DejaVuSans-20\" x=\"297.998047\"/>\n     <use xlink:href=\"#DejaVuSans-30\" x=\"329.785156\"/>\n     <use xlink:href=\"#DejaVuSans-2e\" x=\"393.408203\"/>\n     <use xlink:href=\"#DejaVuSans-31\" x=\"425.195312\"/>\n     <use xlink:href=\"#DejaVuSans-37\" x=\"488.818359\"/>\n     <use xlink:href=\"#DejaVuSans-32\" x=\"552.441406\"/>\n    </g>\n    <!-- samples = 759 -->\n    <g transform=\"translate(398.977463 347.960268)scale(0.043135 -0.043135)\">\n     <use xlink:href=\"#DejaVuSans-73\"/>\n     <use xlink:href=\"#DejaVuSans-61\" x=\"52.099609\"/>\n     <use xlink:href=\"#DejaVuSans-6d\" x=\"113.378906\"/>\n     <use xlink:href=\"#DejaVuSans-70\" x=\"210.791016\"/>\n     <use xlink:href=\"#DejaVuSans-6c\" x=\"274.267578\"/>\n     <use xlink:href=\"#DejaVuSans-65\" x=\"302.050781\"/>\n     <use xlink:href=\"#DejaVuSans-73\" x=\"363.574219\"/>\n     <use xlink:href=\"#DejaVuSans-20\" x=\"415.673828\"/>\n     <use xlink:href=\"#DejaVuSans-3d\" x=\"447.460938\"/>\n     <use xlink:href=\"#DejaVuSans-20\" x=\"531.25\"/>\n     <use xlink:href=\"#DejaVuSans-37\" x=\"563.037109\"/>\n     <use xlink:href=\"#DejaVuSans-35\" x=\"626.660156\"/>\n     <use xlink:href=\"#DejaVuSans-39\" x=\"690.283203\"/>\n    </g>\n    <!-- value = [687, 72] -->\n    <g transform=\"translate(396.252853 352.790494)scale(0.043135 -0.043135)\">\n     <use xlink:href=\"#DejaVuSans-76\"/>\n     <use xlink:href=\"#DejaVuSans-61\" x=\"59.179688\"/>\n     <use xlink:href=\"#DejaVuSans-6c\" x=\"120.458984\"/>\n     <use xlink:href=\"#DejaVuSans-75\" x=\"148.242188\"/>\n     <use xlink:href=\"#DejaVuSans-65\" x=\"211.621094\"/>\n     <use xlink:href=\"#DejaVuSans-20\" x=\"273.144531\"/>\n     <use xlink:href=\"#DejaVuSans-3d\" x=\"304.931641\"/>\n     <use xlink:href=\"#DejaVuSans-20\" x=\"388.720703\"/>\n     <use xlink:href=\"#DejaVuSans-5b\" x=\"420.507812\"/>\n     <use xlink:href=\"#DejaVuSans-36\" x=\"459.521484\"/>\n     <use xlink:href=\"#DejaVuSans-38\" x=\"523.144531\"/>\n     <use xlink:href=\"#DejaVuSans-37\" x=\"586.767578\"/>\n     <use xlink:href=\"#DejaVuSans-2c\" x=\"650.390625\"/>\n     <use xlink:href=\"#DejaVuSans-20\" x=\"682.177734\"/>\n     <use xlink:href=\"#DejaVuSans-37\" x=\"713.964844\"/>\n     <use xlink:href=\"#DejaVuSans-32\" x=\"777.587891\"/>\n     <use xlink:href=\"#DejaVuSans-5d\" x=\"841.210938\"/>\n    </g>\n   </g>\n   <g id=\"patch_12\">\n    <path d=\"M 500.519739 335.229758 \nQ 481.207727 293.903012 461.422388 251.563368 \n\" style=\"fill: none; stroke: #000000; stroke-linecap: round\"/>\n    <path d=\"M 500.570853 333.30136 \nL 500.519739 335.229758 \nL 499.007689 334.031828 \n\" style=\"fill: none; stroke: #000000; stroke-linecap: round\"/>\n   </g>\n   <g id=\"text_6\">\n    <g id=\"patch_13\">\n     <path d=\"M 488.300099 354.981639 \nL 523.524901 354.981639 \nQ 524.818964 354.981639 524.818964 353.687576 \nL 524.818964 339.852424 \nQ 524.818964 338.558361 523.524901 338.558361 \nL 488.300099 338.558361 \nQ 487.006036 338.558361 487.006036 339.852424 \nL 487.006036 353.687576 \nQ 487.006036 354.981639 488.300099 354.981639 \nz\n\" style=\"fill: #ffffff; stroke: #000000; stroke-linejoin: miter\"/>\n    </g>\n    <!-- gini = 0.025 -->\n    <g transform=\"translate(492.625438 343.130043)scale(0.043135 -0.043135)\">\n     <use xlink:href=\"#DejaVuSans-67\"/>\n     <use xlink:href=\"#DejaVuSans-69\" x=\"63.476562\"/>\n     <use xlink:href=\"#DejaVuSans-6e\" x=\"91.259766\"/>\n     <use xlink:href=\"#DejaVuSans-69\" x=\"154.638672\"/>\n     <use xlink:href=\"#DejaVuSans-20\" x=\"182.421875\"/>\n     <use xlink:href=\"#DejaVuSans-3d\" x=\"214.208984\"/>\n     <use xlink:href=\"#DejaVuSans-20\" x=\"297.998047\"/>\n     <use xlink:href=\"#DejaVuSans-30\" x=\"329.785156\"/>\n     <use xlink:href=\"#DejaVuSans-2e\" x=\"393.408203\"/>\n     <use xlink:href=\"#DejaVuSans-30\" x=\"425.195312\"/>\n     <use xlink:href=\"#DejaVuSans-32\" x=\"488.818359\"/>\n     <use xlink:href=\"#DejaVuSans-35\" x=\"552.441406\"/>\n    </g>\n    <!-- samples = 637 -->\n    <g transform=\"translate(489.652463 347.960268)scale(0.043135 -0.043135)\">\n     <use xlink:href=\"#DejaVuSans-73\"/>\n     <use xlink:href=\"#DejaVuSans-61\" x=\"52.099609\"/>\n     <use xlink:href=\"#DejaVuSans-6d\" x=\"113.378906\"/>\n     <use xlink:href=\"#DejaVuSans-70\" x=\"210.791016\"/>\n     <use xlink:href=\"#DejaVuSans-6c\" x=\"274.267578\"/>\n     <use xlink:href=\"#DejaVuSans-65\" x=\"302.050781\"/>\n     <use xlink:href=\"#DejaVuSans-73\" x=\"363.574219\"/>\n     <use xlink:href=\"#DejaVuSans-20\" x=\"415.673828\"/>\n     <use xlink:href=\"#DejaVuSans-3d\" x=\"447.460938\"/>\n     <use xlink:href=\"#DejaVuSans-20\" x=\"531.25\"/>\n     <use xlink:href=\"#DejaVuSans-36\" x=\"563.037109\"/>\n     <use xlink:href=\"#DejaVuSans-33\" x=\"626.660156\"/>\n     <use xlink:href=\"#DejaVuSans-37\" x=\"690.283203\"/>\n    </g>\n    <!-- value = [629, 8] -->\n    <g transform=\"translate(488.300099 352.790494)scale(0.043135 -0.043135)\">\n     <use xlink:href=\"#DejaVuSans-76\"/>\n     <use xlink:href=\"#DejaVuSans-61\" x=\"59.179688\"/>\n     <use xlink:href=\"#DejaVuSans-6c\" x=\"120.458984\"/>\n     <use xlink:href=\"#DejaVuSans-75\" x=\"148.242188\"/>\n     <use xlink:href=\"#DejaVuSans-65\" x=\"211.621094\"/>\n     <use xlink:href=\"#DejaVuSans-20\" x=\"273.144531\"/>\n     <use xlink:href=\"#DejaVuSans-3d\" x=\"304.931641\"/>\n     <use xlink:href=\"#DejaVuSans-20\" x=\"388.720703\"/>\n     <use xlink:href=\"#DejaVuSans-5b\" x=\"420.507812\"/>\n     <use xlink:href=\"#DejaVuSans-36\" x=\"459.521484\"/>\n     <use xlink:href=\"#DejaVuSans-32\" x=\"523.144531\"/>\n     <use xlink:href=\"#DejaVuSans-39\" x=\"586.767578\"/>\n     <use xlink:href=\"#DejaVuSans-2c\" x=\"650.390625\"/>\n     <use xlink:href=\"#DejaVuSans-20\" x=\"682.177734\"/>\n     <use xlink:href=\"#DejaVuSans-38\" x=\"713.964844\"/>\n     <use xlink:href=\"#DejaVuSans-5d\" x=\"777.587891\"/>\n    </g>\n   </g>\n   <g id=\"patch_14\">\n    <path d=\"M 601.980261 335.229758 \nQ 621.292273 293.903012 641.077612 251.563368 \n\" style=\"fill: none; stroke: #000000; stroke-linecap: round\"/>\n    <path d=\"M 603.492311 334.031828 \nL 601.980261 335.229758 \nL 601.929147 333.30136 \n\" style=\"fill: none; stroke: #000000; stroke-linecap: round\"/>\n   </g>\n   <g id=\"text_7\">\n    <g id=\"patch_15\">\n     <path d=\"M 576.230607 354.981639 \nL 616.944393 354.981639 \nQ 618.238456 354.981639 618.238456 353.687576 \nL 618.238456 339.852424 \nQ 618.238456 338.558361 616.944393 338.558361 \nL 576.230607 338.558361 \nQ 574.936544 338.558361 574.936544 339.852424 \nL 574.936544 353.687576 \nQ 574.936544 354.981639 576.230607 354.981639 \nz\n\" style=\"fill: #ffffff; stroke: #000000; stroke-linejoin: miter\"/>\n    </g>\n    <!-- gini = 0.471 -->\n    <g transform=\"translate(583.300438 343.130043)scale(0.043135 -0.043135)\">\n     <use xlink:href=\"#DejaVuSans-67\"/>\n     <use xlink:href=\"#DejaVuSans-69\" x=\"63.476562\"/>\n     <use xlink:href=\"#DejaVuSans-6e\" x=\"91.259766\"/>\n     <use xlink:href=\"#DejaVuSans-69\" x=\"154.638672\"/>\n     <use xlink:href=\"#DejaVuSans-20\" x=\"182.421875\"/>\n     <use xlink:href=\"#DejaVuSans-3d\" x=\"214.208984\"/>\n     <use xlink:href=\"#DejaVuSans-20\" x=\"297.998047\"/>\n     <use xlink:href=\"#DejaVuSans-30\" x=\"329.785156\"/>\n     <use xlink:href=\"#DejaVuSans-2e\" x=\"393.408203\"/>\n     <use xlink:href=\"#DejaVuSans-34\" x=\"425.195312\"/>\n     <use xlink:href=\"#DejaVuSans-37\" x=\"488.818359\"/>\n     <use xlink:href=\"#DejaVuSans-31\" x=\"552.441406\"/>\n    </g>\n    <!-- samples = 700 -->\n    <g transform=\"translate(580.327463 347.960268)scale(0.043135 -0.043135)\">\n     <use xlink:href=\"#DejaVuSans-73\"/>\n     <use xlink:href=\"#DejaVuSans-61\" x=\"52.099609\"/>\n     <use xlink:href=\"#DejaVuSans-6d\" x=\"113.378906\"/>\n     <use xlink:href=\"#DejaVuSans-70\" x=\"210.791016\"/>\n     <use xlink:href=\"#DejaVuSans-6c\" x=\"274.267578\"/>\n     <use xlink:href=\"#DejaVuSans-65\" x=\"302.050781\"/>\n     <use xlink:href=\"#DejaVuSans-73\" x=\"363.574219\"/>\n     <use xlink:href=\"#DejaVuSans-20\" x=\"415.673828\"/>\n     <use xlink:href=\"#DejaVuSans-3d\" x=\"447.460938\"/>\n     <use xlink:href=\"#DejaVuSans-20\" x=\"531.25\"/>\n     <use xlink:href=\"#DejaVuSans-37\" x=\"563.037109\"/>\n     <use xlink:href=\"#DejaVuSans-30\" x=\"626.660156\"/>\n     <use xlink:href=\"#DejaVuSans-30\" x=\"690.283203\"/>\n    </g>\n    <!-- value = [434, 266] -->\n    <g transform=\"translate(576.230607 352.790494)scale(0.043135 -0.043135)\">\n     <use xlink:href=\"#DejaVuSans-76\"/>\n     <use xlink:href=\"#DejaVuSans-61\" x=\"59.179688\"/>\n     <use xlink:href=\"#DejaVuSans-6c\" x=\"120.458984\"/>\n     <use xlink:href=\"#DejaVuSans-75\" x=\"148.242188\"/>\n     <use xlink:href=\"#DejaVuSans-65\" x=\"211.621094\"/>\n     <use xlink:href=\"#DejaVuSans-20\" x=\"273.144531\"/>\n     <use xlink:href=\"#DejaVuSans-3d\" x=\"304.931641\"/>\n     <use xlink:href=\"#DejaVuSans-20\" x=\"388.720703\"/>\n     <use xlink:href=\"#DejaVuSans-5b\" x=\"420.507812\"/>\n     <use xlink:href=\"#DejaVuSans-34\" x=\"459.521484\"/>\n     <use xlink:href=\"#DejaVuSans-33\" x=\"523.144531\"/>\n     <use xlink:href=\"#DejaVuSans-34\" x=\"586.767578\"/>\n     <use xlink:href=\"#DejaVuSans-2c\" x=\"650.390625\"/>\n     <use xlink:href=\"#DejaVuSans-20\" x=\"682.177734\"/>\n     <use xlink:href=\"#DejaVuSans-32\" x=\"713.964844\"/>\n     <use xlink:href=\"#DejaVuSans-36\" x=\"777.587891\"/>\n     <use xlink:href=\"#DejaVuSans-36\" x=\"841.210938\"/>\n     <use xlink:href=\"#DejaVuSans-5d\" x=\"904.833984\"/>\n    </g>\n   </g>\n   <g id=\"patch_16\">\n    <path d=\"M 681.869739 335.229758 \nQ 662.557727 293.903012 642.772388 251.563368 \n\" style=\"fill: none; stroke: #000000; stroke-linecap: round\"/>\n    <path d=\"M 681.920853 333.30136 \nL 681.869739 335.229758 \nL 680.357689 334.031828 \n\" style=\"fill: none; stroke: #000000; stroke-linecap: round\"/>\n   </g>\n   <g id=\"text_8\">\n    <g id=\"patch_17\">\n     <path d=\"M 668.277853 354.981639 \nL 706.247147 354.981639 \nQ 707.54121 354.981639 707.54121 353.687576 \nL 707.54121 339.852424 \nQ 707.54121 338.558361 706.247147 338.558361 \nL 668.277853 338.558361 \nQ 666.98379 338.558361 666.98379 339.852424 \nL 666.98379 353.687576 \nQ 666.98379 354.981639 668.277853 354.981639 \nz\n\" style=\"fill: #ffffff; stroke: #000000; stroke-linejoin: miter\"/>\n    </g>\n    <!-- gini = 0.239 -->\n    <g transform=\"translate(673.975438 343.130043)scale(0.043135 -0.043135)\">\n     <use xlink:href=\"#DejaVuSans-67\"/>\n     <use xlink:href=\"#DejaVuSans-69\" x=\"63.476562\"/>\n     <use xlink:href=\"#DejaVuSans-6e\" x=\"91.259766\"/>\n     <use xlink:href=\"#DejaVuSans-69\" x=\"154.638672\"/>\n     <use xlink:href=\"#DejaVuSans-20\" x=\"182.421875\"/>\n     <use xlink:href=\"#DejaVuSans-3d\" x=\"214.208984\"/>\n     <use xlink:href=\"#DejaVuSans-20\" x=\"297.998047\"/>\n     <use xlink:href=\"#DejaVuSans-30\" x=\"329.785156\"/>\n     <use xlink:href=\"#DejaVuSans-2e\" x=\"393.408203\"/>\n     <use xlink:href=\"#DejaVuSans-32\" x=\"425.195312\"/>\n     <use xlink:href=\"#DejaVuSans-33\" x=\"488.818359\"/>\n     <use xlink:href=\"#DejaVuSans-39\" x=\"552.441406\"/>\n    </g>\n    <!-- samples = 461 -->\n    <g transform=\"translate(671.002463 347.960268)scale(0.043135 -0.043135)\">\n     <use xlink:href=\"#DejaVuSans-73\"/>\n     <use xlink:href=\"#DejaVuSans-61\" x=\"52.099609\"/>\n     <use xlink:href=\"#DejaVuSans-6d\" x=\"113.378906\"/>\n     <use xlink:href=\"#DejaVuSans-70\" x=\"210.791016\"/>\n     <use xlink:href=\"#DejaVuSans-6c\" x=\"274.267578\"/>\n     <use xlink:href=\"#DejaVuSans-65\" x=\"302.050781\"/>\n     <use xlink:href=\"#DejaVuSans-73\" x=\"363.574219\"/>\n     <use xlink:href=\"#DejaVuSans-20\" x=\"415.673828\"/>\n     <use xlink:href=\"#DejaVuSans-3d\" x=\"447.460938\"/>\n     <use xlink:href=\"#DejaVuSans-20\" x=\"531.25\"/>\n     <use xlink:href=\"#DejaVuSans-34\" x=\"563.037109\"/>\n     <use xlink:href=\"#DejaVuSans-36\" x=\"626.660156\"/>\n     <use xlink:href=\"#DejaVuSans-31\" x=\"690.283203\"/>\n    </g>\n    <!-- value = [397, 64] -->\n    <g transform=\"translate(668.277853 352.790494)scale(0.043135 -0.043135)\">\n     <use xlink:href=\"#DejaVuSans-76\"/>\n     <use xlink:href=\"#DejaVuSans-61\" x=\"59.179688\"/>\n     <use xlink:href=\"#DejaVuSans-6c\" x=\"120.458984\"/>\n     <use xlink:href=\"#DejaVuSans-75\" x=\"148.242188\"/>\n     <use xlink:href=\"#DejaVuSans-65\" x=\"211.621094\"/>\n     <use xlink:href=\"#DejaVuSans-20\" x=\"273.144531\"/>\n     <use xlink:href=\"#DejaVuSans-3d\" x=\"304.931641\"/>\n     <use xlink:href=\"#DejaVuSans-20\" x=\"388.720703\"/>\n     <use xlink:href=\"#DejaVuSans-5b\" x=\"420.507812\"/>\n     <use xlink:href=\"#DejaVuSans-33\" x=\"459.521484\"/>\n     <use xlink:href=\"#DejaVuSans-39\" x=\"523.144531\"/>\n     <use xlink:href=\"#DejaVuSans-37\" x=\"586.767578\"/>\n     <use xlink:href=\"#DejaVuSans-2c\" x=\"650.390625\"/>\n     <use xlink:href=\"#DejaVuSans-20\" x=\"682.177734\"/>\n     <use xlink:href=\"#DejaVuSans-36\" x=\"713.964844\"/>\n     <use xlink:href=\"#DejaVuSans-34\" x=\"777.587891\"/>\n     <use xlink:href=\"#DejaVuSans-5d\" x=\"841.210938\"/>\n    </g>\n   </g>\n   <g id=\"patch_18\">\n    <path d=\"M 110.40475 236.343479 \nQ 148.412974 195.675622 187.184607 154.190937 \n\" style=\"fill: none; stroke: #000000; stroke-linecap: round\"/>\n    <path d=\"M 112.213176 235.671969 \nL 110.40475 236.343479 \nL 110.952598 234.493832 \n\" style=\"fill: none; stroke: #000000; stroke-linecap: round\"/>\n   </g>\n   <g id=\"text_9\">\n    <g id=\"patch_19\">\n     <path d=\"M 77.518107 260.376752 \nL 118.231893 260.376752 \nQ 119.525956 260.376752 119.525956 259.082689 \nL 119.525956 240.417311 \nQ 119.525956 239.123248 118.231893 239.123248 \nL 77.518107 239.123248 \nQ 76.224044 239.123248 76.224044 240.417311 \nL 76.224044 259.082689 \nQ 76.224044 260.376752 77.518107 260.376752 \nz\n\" style=\"fill: #ffffff; stroke: #000000; stroke-linejoin: miter\"/>\n    </g>\n    <!-- tenure &lt;= 4.5 -->\n    <g transform=\"translate(82.38803 243.694931)scale(0.043135 -0.043135)\">\n     <defs>\n      <path id=\"DejaVuSans-74\" d=\"M 1172 4494 \nL 1172 3500 \nL 2356 3500 \nL 2356 3053 \nL 1172 3053 \nL 1172 1153 \nQ 1172 725 1289 603 \nQ 1406 481 1766 481 \nL 2356 481 \nL 2356 0 \nL 1766 0 \nQ 1100 0 847 248 \nQ 594 497 594 1153 \nL 594 3053 \nL 172 3053 \nL 172 3500 \nL 594 3500 \nL 594 4494 \nL 1172 4494 \nz\n\" transform=\"scale(0.015625)\"/>\n      <path id=\"DejaVuSans-72\" d=\"M 2631 2963 \nQ 2534 3019 2420 3045 \nQ 2306 3072 2169 3072 \nQ 1681 3072 1420 2755 \nQ 1159 2438 1159 1844 \nL 1159 0 \nL 581 0 \nL 581 3500 \nL 1159 3500 \nL 1159 2956 \nQ 1341 3275 1631 3429 \nQ 1922 3584 2338 3584 \nQ 2397 3584 2469 3576 \nQ 2541 3569 2628 3553 \nL 2631 2963 \nz\n\" transform=\"scale(0.015625)\"/>\n      <path id=\"DejaVuSans-3c\" d=\"M 4684 3150 \nL 1459 2003 \nL 4684 863 \nL 4684 294 \nL 678 1747 \nL 678 2266 \nL 4684 3719 \nL 4684 3150 \nz\n\" transform=\"scale(0.015625)\"/>\n     </defs>\n     <use xlink:href=\"#DejaVuSans-74\"/>\n     <use xlink:href=\"#DejaVuSans-65\" x=\"39.208984\"/>\n     <use xlink:href=\"#DejaVuSans-6e\" x=\"100.732422\"/>\n     <use xlink:href=\"#DejaVuSans-75\" x=\"164.111328\"/>\n     <use xlink:href=\"#DejaVuSans-72\" x=\"227.490234\"/>\n     <use xlink:href=\"#DejaVuSans-65\" x=\"266.353516\"/>\n     <use xlink:href=\"#DejaVuSans-20\" x=\"327.876953\"/>\n     <use xlink:href=\"#DejaVuSans-3c\" x=\"359.664062\"/>\n     <use xlink:href=\"#DejaVuSans-3d\" x=\"443.453125\"/>\n     <use xlink:href=\"#DejaVuSans-20\" x=\"527.242188\"/>\n     <use xlink:href=\"#DejaVuSans-34\" x=\"559.029297\"/>\n     <use xlink:href=\"#DejaVuSans-2e\" x=\"622.652344\"/>\n     <use xlink:href=\"#DejaVuSans-35\" x=\"654.439453\"/>\n    </g>\n    <!-- gini = 0.419 -->\n    <g transform=\"translate(84.587938 248.525156)scale(0.043135 -0.043135)\">\n     <use xlink:href=\"#DejaVuSans-67\"/>\n     <use xlink:href=\"#DejaVuSans-69\" x=\"63.476562\"/>\n     <use xlink:href=\"#DejaVuSans-6e\" x=\"91.259766\"/>\n     <use xlink:href=\"#DejaVuSans-69\" x=\"154.638672\"/>\n     <use xlink:href=\"#DejaVuSans-20\" x=\"182.421875\"/>\n     <use xlink:href=\"#DejaVuSans-3d\" x=\"214.208984\"/>\n     <use xlink:href=\"#DejaVuSans-20\" x=\"297.998047\"/>\n     <use xlink:href=\"#DejaVuSans-30\" x=\"329.785156\"/>\n     <use xlink:href=\"#DejaVuSans-2e\" x=\"393.408203\"/>\n     <use xlink:href=\"#DejaVuSans-34\" x=\"425.195312\"/>\n     <use xlink:href=\"#DejaVuSans-31\" x=\"488.818359\"/>\n     <use xlink:href=\"#DejaVuSans-39\" x=\"552.441406\"/>\n    </g>\n    <!-- samples = 802 -->\n    <g transform=\"translate(81.614963 253.355381)scale(0.043135 -0.043135)\">\n     <use xlink:href=\"#DejaVuSans-73\"/>\n     <use xlink:href=\"#DejaVuSans-61\" x=\"52.099609\"/>\n     <use xlink:href=\"#DejaVuSans-6d\" x=\"113.378906\"/>\n     <use xlink:href=\"#DejaVuSans-70\" x=\"210.791016\"/>\n     <use xlink:href=\"#DejaVuSans-6c\" x=\"274.267578\"/>\n     <use xlink:href=\"#DejaVuSans-65\" x=\"302.050781\"/>\n     <use xlink:href=\"#DejaVuSans-73\" x=\"363.574219\"/>\n     <use xlink:href=\"#DejaVuSans-20\" x=\"415.673828\"/>\n     <use xlink:href=\"#DejaVuSans-3d\" x=\"447.460938\"/>\n     <use xlink:href=\"#DejaVuSans-20\" x=\"531.25\"/>\n     <use xlink:href=\"#DejaVuSans-38\" x=\"563.037109\"/>\n     <use xlink:href=\"#DejaVuSans-30\" x=\"626.660156\"/>\n     <use xlink:href=\"#DejaVuSans-32\" x=\"690.283203\"/>\n    </g>\n    <!-- value = [562, 240] -->\n    <g transform=\"translate(77.518107 258.185606)scale(0.043135 -0.043135)\">\n     <use xlink:href=\"#DejaVuSans-76\"/>\n     <use xlink:href=\"#DejaVuSans-61\" x=\"59.179688\"/>\n     <use xlink:href=\"#DejaVuSans-6c\" x=\"120.458984\"/>\n     <use xlink:href=\"#DejaVuSans-75\" x=\"148.242188\"/>\n     <use xlink:href=\"#DejaVuSans-65\" x=\"211.621094\"/>\n     <use xlink:href=\"#DejaVuSans-20\" x=\"273.144531\"/>\n     <use xlink:href=\"#DejaVuSans-3d\" x=\"304.931641\"/>\n     <use xlink:href=\"#DejaVuSans-20\" x=\"388.720703\"/>\n     <use xlink:href=\"#DejaVuSans-5b\" x=\"420.507812\"/>\n     <use xlink:href=\"#DejaVuSans-35\" x=\"459.521484\"/>\n     <use xlink:href=\"#DejaVuSans-36\" x=\"523.144531\"/>\n     <use xlink:href=\"#DejaVuSans-32\" x=\"586.767578\"/>\n     <use xlink:href=\"#DejaVuSans-2c\" x=\"650.390625\"/>\n     <use xlink:href=\"#DejaVuSans-20\" x=\"682.177734\"/>\n     <use xlink:href=\"#DejaVuSans-32\" x=\"713.964844\"/>\n     <use xlink:href=\"#DejaVuSans-34\" x=\"777.587891\"/>\n     <use xlink:href=\"#DejaVuSans-30\" x=\"841.210938\"/>\n     <use xlink:href=\"#DejaVuSans-5d\" x=\"904.833984\"/>\n    </g>\n   </g>\n   <g id=\"patch_20\">\n    <path d=\"M 266.69525 236.343479 \nQ 228.687026 195.675622 189.915393 154.190937 \n\" style=\"fill: none; stroke: #000000; stroke-linecap: round\"/>\n    <path d=\"M 266.147402 234.493832 \nL 266.69525 236.343479 \nL 264.886824 235.671969 \n\" style=\"fill: none; stroke: #000000; stroke-linecap: round\"/>\n   </g>\n   <g id=\"text_10\">\n    <g id=\"patch_21\">\n     <path d=\"M 258.868107 260.376752 \nL 299.581893 260.376752 \nQ 300.875956 260.376752 300.875956 259.082689 \nL 300.875956 240.417311 \nQ 300.875956 239.123248 299.581893 239.123248 \nL 258.868107 239.123248 \nQ 257.574044 239.123248 257.574044 240.417311 \nL 257.574044 259.082689 \nQ 257.574044 260.376752 258.868107 260.376752 \nz\n\" style=\"fill: #ffffff; stroke: #000000; stroke-linejoin: miter\"/>\n    </g>\n    <!-- tenure &lt;= 1.5 -->\n    <g transform=\"translate(263.73803 243.694931)scale(0.043135 -0.043135)\">\n     <use xlink:href=\"#DejaVuSans-74\"/>\n     <use xlink:href=\"#DejaVuSans-65\" x=\"39.208984\"/>\n     <use xlink:href=\"#DejaVuSans-6e\" x=\"100.732422\"/>\n     <use xlink:href=\"#DejaVuSans-75\" x=\"164.111328\"/>\n     <use xlink:href=\"#DejaVuSans-72\" x=\"227.490234\"/>\n     <use xlink:href=\"#DejaVuSans-65\" x=\"266.353516\"/>\n     <use xlink:href=\"#DejaVuSans-20\" x=\"327.876953\"/>\n     <use xlink:href=\"#DejaVuSans-3c\" x=\"359.664062\"/>\n     <use xlink:href=\"#DejaVuSans-3d\" x=\"443.453125\"/>\n     <use xlink:href=\"#DejaVuSans-20\" x=\"527.242188\"/>\n     <use xlink:href=\"#DejaVuSans-31\" x=\"559.029297\"/>\n     <use xlink:href=\"#DejaVuSans-2e\" x=\"622.652344\"/>\n     <use xlink:href=\"#DejaVuSans-35\" x=\"654.439453\"/>\n    </g>\n    <!-- gini = 0.437 -->\n    <g transform=\"translate(265.937938 248.525156)scale(0.043135 -0.043135)\">\n     <use xlink:href=\"#DejaVuSans-67\"/>\n     <use xlink:href=\"#DejaVuSans-69\" x=\"63.476562\"/>\n     <use xlink:href=\"#DejaVuSans-6e\" x=\"91.259766\"/>\n     <use xlink:href=\"#DejaVuSans-69\" x=\"154.638672\"/>\n     <use xlink:href=\"#DejaVuSans-20\" x=\"182.421875\"/>\n     <use xlink:href=\"#DejaVuSans-3d\" x=\"214.208984\"/>\n     <use xlink:href=\"#DejaVuSans-20\" x=\"297.998047\"/>\n     <use xlink:href=\"#DejaVuSans-30\" x=\"329.785156\"/>\n     <use xlink:href=\"#DejaVuSans-2e\" x=\"393.408203\"/>\n     <use xlink:href=\"#DejaVuSans-34\" x=\"425.195312\"/>\n     <use xlink:href=\"#DejaVuSans-33\" x=\"488.818359\"/>\n     <use xlink:href=\"#DejaVuSans-37\" x=\"552.441406\"/>\n    </g>\n    <!-- samples = 584 -->\n    <g transform=\"translate(262.964963 253.355381)scale(0.043135 -0.043135)\">\n     <use xlink:href=\"#DejaVuSans-73\"/>\n     <use xlink:href=\"#DejaVuSans-61\" x=\"52.099609\"/>\n     <use xlink:href=\"#DejaVuSans-6d\" x=\"113.378906\"/>\n     <use xlink:href=\"#DejaVuSans-70\" x=\"210.791016\"/>\n     <use xlink:href=\"#DejaVuSans-6c\" x=\"274.267578\"/>\n     <use xlink:href=\"#DejaVuSans-65\" x=\"302.050781\"/>\n     <use xlink:href=\"#DejaVuSans-73\" x=\"363.574219\"/>\n     <use xlink:href=\"#DejaVuSans-20\" x=\"415.673828\"/>\n     <use xlink:href=\"#DejaVuSans-3d\" x=\"447.460938\"/>\n     <use xlink:href=\"#DejaVuSans-20\" x=\"531.25\"/>\n     <use xlink:href=\"#DejaVuSans-35\" x=\"563.037109\"/>\n     <use xlink:href=\"#DejaVuSans-38\" x=\"626.660156\"/>\n     <use xlink:href=\"#DejaVuSans-34\" x=\"690.283203\"/>\n    </g>\n    <!-- value = [188, 396] -->\n    <g transform=\"translate(258.868107 258.185606)scale(0.043135 -0.043135)\">\n     <use xlink:href=\"#DejaVuSans-76\"/>\n     <use xlink:href=\"#DejaVuSans-61\" x=\"59.179688\"/>\n     <use xlink:href=\"#DejaVuSans-6c\" x=\"120.458984\"/>\n     <use xlink:href=\"#DejaVuSans-75\" x=\"148.242188\"/>\n     <use xlink:href=\"#DejaVuSans-65\" x=\"211.621094\"/>\n     <use xlink:href=\"#DejaVuSans-20\" x=\"273.144531\"/>\n     <use xlink:href=\"#DejaVuSans-3d\" x=\"304.931641\"/>\n     <use xlink:href=\"#DejaVuSans-20\" x=\"388.720703\"/>\n     <use xlink:href=\"#DejaVuSans-5b\" x=\"420.507812\"/>\n     <use xlink:href=\"#DejaVuSans-31\" x=\"459.521484\"/>\n     <use xlink:href=\"#DejaVuSans-38\" x=\"523.144531\"/>\n     <use xlink:href=\"#DejaVuSans-38\" x=\"586.767578\"/>\n     <use xlink:href=\"#DejaVuSans-2c\" x=\"650.390625\"/>\n     <use xlink:href=\"#DejaVuSans-20\" x=\"682.177734\"/>\n     <use xlink:href=\"#DejaVuSans-33\" x=\"713.964844\"/>\n     <use xlink:href=\"#DejaVuSans-39\" x=\"777.587891\"/>\n     <use xlink:href=\"#DejaVuSans-36\" x=\"841.210938\"/>\n     <use xlink:href=\"#DejaVuSans-5d\" x=\"904.833984\"/>\n    </g>\n   </g>\n   <g id=\"patch_22\">\n    <path d=\"M 473.234768 236.204362 \nQ 511.176704 195.607432 549.882048 154.193675 \n\" style=\"fill: none; stroke: #000000; stroke-linecap: round\"/>\n    <path d=\"M 475.043195 235.532853 \nL 473.234768 236.204362 \nL 473.782617 234.354715 \n\" style=\"fill: none; stroke: #000000; stroke-linecap: round\"/>\n   </g>\n   <g id=\"text_11\">\n    <g id=\"patch_23\">\n     <path d=\"M 426.684364 260.398656 \nL 494.465636 260.398656 \nQ 495.759699 260.398656 495.759699 259.104593 \nL 495.759699 240.275436 \nQ 495.759699 238.981373 494.465636 238.981373 \nL 426.684364 238.981373 \nQ 425.390301 238.981373 425.390301 240.275436 \nL 425.390301 259.104593 \nQ 425.390301 260.398656 426.684364 260.398656 \nz\n\" style=\"fill: #ffffff; stroke: #000000; stroke-linejoin: miter\"/>\n    </g>\n    <!-- contract_type_Two year &lt;= 0.5 -->\n    <g transform=\"translate(426.684364 243.596865)scale(0.043135 -0.043135)\">\n     <defs>\n      <path id=\"DejaVuSans-63\" d=\"M 3122 3366 \nL 3122 2828 \nQ 2878 2963 2633 3030 \nQ 2388 3097 2138 3097 \nQ 1578 3097 1268 2742 \nQ 959 2388 959 1747 \nQ 959 1106 1268 751 \nQ 1578 397 2138 397 \nQ 2388 397 2633 464 \nQ 2878 531 3122 666 \nL 3122 134 \nQ 2881 22 2623 -34 \nQ 2366 -91 2075 -91 \nQ 1284 -91 818 406 \nQ 353 903 353 1747 \nQ 353 2603 823 3093 \nQ 1294 3584 2113 3584 \nQ 2378 3584 2631 3529 \nQ 2884 3475 3122 3366 \nz\n\" transform=\"scale(0.015625)\"/>\n      <path id=\"DejaVuSans-6f\" d=\"M 1959 3097 \nQ 1497 3097 1228 2736 \nQ 959 2375 959 1747 \nQ 959 1119 1226 758 \nQ 1494 397 1959 397 \nQ 2419 397 2687 759 \nQ 2956 1122 2956 1747 \nQ 2956 2369 2687 2733 \nQ 2419 3097 1959 3097 \nz\nM 1959 3584 \nQ 2709 3584 3137 3096 \nQ 3566 2609 3566 1747 \nQ 3566 888 3137 398 \nQ 2709 -91 1959 -91 \nQ 1206 -91 779 398 \nQ 353 888 353 1747 \nQ 353 2609 779 3096 \nQ 1206 3584 1959 3584 \nz\n\" transform=\"scale(0.015625)\"/>\n      <path id=\"DejaVuSans-5f\" d=\"M 3263 -1063 \nL 3263 -1509 \nL -63 -1509 \nL -63 -1063 \nL 3263 -1063 \nz\n\" transform=\"scale(0.015625)\"/>\n      <path id=\"DejaVuSans-79\" d=\"M 2059 -325 \nQ 1816 -950 1584 -1140 \nQ 1353 -1331 966 -1331 \nL 506 -1331 \nL 506 -850 \nL 844 -850 \nQ 1081 -850 1212 -737 \nQ 1344 -625 1503 -206 \nL 1606 56 \nL 191 3500 \nL 800 3500 \nL 1894 763 \nL 2988 3500 \nL 3597 3500 \nL 2059 -325 \nz\n\" transform=\"scale(0.015625)\"/>\n      <path id=\"DejaVuSans-54\" d=\"M -19 4666 \nL 3928 4666 \nL 3928 4134 \nL 2272 4134 \nL 2272 0 \nL 1638 0 \nL 1638 4134 \nL -19 4134 \nL -19 4666 \nz\n\" transform=\"scale(0.015625)\"/>\n      <path id=\"DejaVuSans-77\" d=\"M 269 3500 \nL 844 3500 \nL 1563 769 \nL 2278 3500 \nL 2956 3500 \nL 3675 769 \nL 4391 3500 \nL 4966 3500 \nL 4050 0 \nL 3372 0 \nL 2619 2869 \nL 1863 0 \nL 1184 0 \nL 269 3500 \nz\n\" transform=\"scale(0.015625)\"/>\n     </defs>\n     <use xlink:href=\"#DejaVuSans-63\"/>\n     <use xlink:href=\"#DejaVuSans-6f\" x=\"54.980469\"/>\n     <use xlink:href=\"#DejaVuSans-6e\" x=\"116.162109\"/>\n     <use xlink:href=\"#DejaVuSans-74\" x=\"179.541016\"/>\n     <use xlink:href=\"#DejaVuSans-72\" x=\"218.75\"/>\n     <use xlink:href=\"#DejaVuSans-61\" x=\"259.863281\"/>\n     <use xlink:href=\"#DejaVuSans-63\" x=\"321.142578\"/>\n     <use xlink:href=\"#DejaVuSans-74\" x=\"376.123047\"/>\n     <use xlink:href=\"#DejaVuSans-5f\" x=\"415.332031\"/>\n     <use xlink:href=\"#DejaVuSans-74\" x=\"465.332031\"/>\n     <use xlink:href=\"#DejaVuSans-79\" x=\"504.541016\"/>\n     <use xlink:href=\"#DejaVuSans-70\" x=\"563.720703\"/>\n     <use xlink:href=\"#DejaVuSans-65\" x=\"627.197266\"/>\n     <use xlink:href=\"#DejaVuSans-5f\" x=\"688.720703\"/>\n     <use xlink:href=\"#DejaVuSans-54\" x=\"738.720703\"/>\n     <use xlink:href=\"#DejaVuSans-77\" x=\"783.304688\"/>\n     <use xlink:href=\"#DejaVuSans-6f\" x=\"865.091797\"/>\n     <use xlink:href=\"#DejaVuSans-20\" x=\"926.273438\"/>\n     <use xlink:href=\"#DejaVuSans-79\" x=\"958.060547\"/>\n     <use xlink:href=\"#DejaVuSans-65\" x=\"1017.240234\"/>\n     <use xlink:href=\"#DejaVuSans-61\" x=\"1078.763672\"/>\n     <use xlink:href=\"#DejaVuSans-72\" x=\"1140.042969\"/>\n     <use xlink:href=\"#DejaVuSans-20\" x=\"1181.15625\"/>\n     <use xlink:href=\"#DejaVuSans-3c\" x=\"1212.943359\"/>\n     <use xlink:href=\"#DejaVuSans-3d\" x=\"1296.732422\"/>\n     <use xlink:href=\"#DejaVuSans-20\" x=\"1380.521484\"/>\n     <use xlink:href=\"#DejaVuSans-30\" x=\"1412.308594\"/>\n     <use xlink:href=\"#DejaVuSans-2e\" x=\"1475.931641\"/>\n     <use xlink:href=\"#DejaVuSans-35\" x=\"1507.71875\"/>\n    </g>\n    <!-- gini = 0.108 -->\n    <g transform=\"translate(447.287938 248.547061)scale(0.043135 -0.043135)\">\n     <use xlink:href=\"#DejaVuSans-67\"/>\n     <use xlink:href=\"#DejaVuSans-69\" x=\"63.476562\"/>\n     <use xlink:href=\"#DejaVuSans-6e\" x=\"91.259766\"/>\n     <use xlink:href=\"#DejaVuSans-69\" x=\"154.638672\"/>\n     <use xlink:href=\"#DejaVuSans-20\" x=\"182.421875\"/>\n     <use xlink:href=\"#DejaVuSans-3d\" x=\"214.208984\"/>\n     <use xlink:href=\"#DejaVuSans-20\" x=\"297.998047\"/>\n     <use xlink:href=\"#DejaVuSans-30\" x=\"329.785156\"/>\n     <use xlink:href=\"#DejaVuSans-2e\" x=\"393.408203\"/>\n     <use xlink:href=\"#DejaVuSans-31\" x=\"425.195312\"/>\n     <use xlink:href=\"#DejaVuSans-30\" x=\"488.818359\"/>\n     <use xlink:href=\"#DejaVuSans-38\" x=\"552.441406\"/>\n    </g>\n    <!-- samples = 1396 -->\n    <g transform=\"translate(442.942717 253.377286)scale(0.043135 -0.043135)\">\n     <use xlink:href=\"#DejaVuSans-73\"/>\n     <use xlink:href=\"#DejaVuSans-61\" x=\"52.099609\"/>\n     <use xlink:href=\"#DejaVuSans-6d\" x=\"113.378906\"/>\n     <use xlink:href=\"#DejaVuSans-70\" x=\"210.791016\"/>\n     <use xlink:href=\"#DejaVuSans-6c\" x=\"274.267578\"/>\n     <use xlink:href=\"#DejaVuSans-65\" x=\"302.050781\"/>\n     <use xlink:href=\"#DejaVuSans-73\" x=\"363.574219\"/>\n     <use xlink:href=\"#DejaVuSans-20\" x=\"415.673828\"/>\n     <use xlink:href=\"#DejaVuSans-3d\" x=\"447.460938\"/>\n     <use xlink:href=\"#DejaVuSans-20\" x=\"531.25\"/>\n     <use xlink:href=\"#DejaVuSans-31\" x=\"563.037109\"/>\n     <use xlink:href=\"#DejaVuSans-33\" x=\"626.660156\"/>\n     <use xlink:href=\"#DejaVuSans-39\" x=\"690.283203\"/>\n     <use xlink:href=\"#DejaVuSans-36\" x=\"753.90625\"/>\n    </g>\n    <!-- value = [1316, 80] -->\n    <g transform=\"translate(440.218107 258.207511)scale(0.043135 -0.043135)\">\n     <use xlink:href=\"#DejaVuSans-76\"/>\n     <use xlink:href=\"#DejaVuSans-61\" x=\"59.179688\"/>\n     <use xlink:href=\"#DejaVuSans-6c\" x=\"120.458984\"/>\n     <use xlink:href=\"#DejaVuSans-75\" x=\"148.242188\"/>\n     <use xlink:href=\"#DejaVuSans-65\" x=\"211.621094\"/>\n     <use xlink:href=\"#DejaVuSans-20\" x=\"273.144531\"/>\n     <use xlink:href=\"#DejaVuSans-3d\" x=\"304.931641\"/>\n     <use xlink:href=\"#DejaVuSans-20\" x=\"388.720703\"/>\n     <use xlink:href=\"#DejaVuSans-5b\" x=\"420.507812\"/>\n     <use xlink:href=\"#DejaVuSans-31\" x=\"459.521484\"/>\n     <use xlink:href=\"#DejaVuSans-33\" x=\"523.144531\"/>\n     <use xlink:href=\"#DejaVuSans-31\" x=\"586.767578\"/>\n     <use xlink:href=\"#DejaVuSans-36\" x=\"650.390625\"/>\n     <use xlink:href=\"#DejaVuSans-2c\" x=\"714.013672\"/>\n     <use xlink:href=\"#DejaVuSans-20\" x=\"745.800781\"/>\n     <use xlink:href=\"#DejaVuSans-38\" x=\"777.587891\"/>\n     <use xlink:href=\"#DejaVuSans-30\" x=\"841.210938\"/>\n     <use xlink:href=\"#DejaVuSans-5d\" x=\"904.833984\"/>\n    </g>\n   </g>\n   <g id=\"patch_24\">\n    <path d=\"M 629.39525 236.343479 \nQ 591.387026 195.675622 552.615393 154.190937 \n\" style=\"fill: none; stroke: #000000; stroke-linecap: round\"/>\n    <path d=\"M 628.847402 234.493832 \nL 629.39525 236.343479 \nL 627.586824 235.671969 \n\" style=\"fill: none; stroke: #000000; stroke-linecap: round\"/>\n   </g>\n   <g id=\"text_12\">\n    <g id=\"patch_25\">\n     <path d=\"M 621.568107 260.376752 \nL 662.281893 260.376752 \nQ 663.575956 260.376752 663.575956 259.082689 \nL 663.575956 240.417311 \nQ 663.575956 239.123248 662.281893 239.123248 \nL 621.568107 239.123248 \nQ 620.274044 239.123248 620.274044 240.417311 \nL 620.274044 259.082689 \nQ 620.274044 260.376752 621.568107 260.376752 \nz\n\" style=\"fill: #ffffff; stroke: #000000; stroke-linejoin: miter\"/>\n    </g>\n    <!-- tenure &lt;= 54.5 -->\n    <g transform=\"translate(625.065784 243.694931)scale(0.043135 -0.043135)\">\n     <use xlink:href=\"#DejaVuSans-74\"/>\n     <use xlink:href=\"#DejaVuSans-65\" x=\"39.208984\"/>\n     <use xlink:href=\"#DejaVuSans-6e\" x=\"100.732422\"/>\n     <use xlink:href=\"#DejaVuSans-75\" x=\"164.111328\"/>\n     <use xlink:href=\"#DejaVuSans-72\" x=\"227.490234\"/>\n     <use xlink:href=\"#DejaVuSans-65\" x=\"266.353516\"/>\n     <use xlink:href=\"#DejaVuSans-20\" x=\"327.876953\"/>\n     <use xlink:href=\"#DejaVuSans-3c\" x=\"359.664062\"/>\n     <use xlink:href=\"#DejaVuSans-3d\" x=\"443.453125\"/>\n     <use xlink:href=\"#DejaVuSans-20\" x=\"527.242188\"/>\n     <use xlink:href=\"#DejaVuSans-35\" x=\"559.029297\"/>\n     <use xlink:href=\"#DejaVuSans-34\" x=\"622.652344\"/>\n     <use xlink:href=\"#DejaVuSans-2e\" x=\"686.275391\"/>\n     <use xlink:href=\"#DejaVuSans-35\" x=\"718.0625\"/>\n    </g>\n    <!-- gini = 0.407 -->\n    <g transform=\"translate(628.637938 248.525156)scale(0.043135 -0.043135)\">\n     <use xlink:href=\"#DejaVuSans-67\"/>\n     <use xlink:href=\"#DejaVuSans-69\" x=\"63.476562\"/>\n     <use xlink:href=\"#DejaVuSans-6e\" x=\"91.259766\"/>\n     <use xlink:href=\"#DejaVuSans-69\" x=\"154.638672\"/>\n     <use xlink:href=\"#DejaVuSans-20\" x=\"182.421875\"/>\n     <use xlink:href=\"#DejaVuSans-3d\" x=\"214.208984\"/>\n     <use xlink:href=\"#DejaVuSans-20\" x=\"297.998047\"/>\n     <use xlink:href=\"#DejaVuSans-30\" x=\"329.785156\"/>\n     <use xlink:href=\"#DejaVuSans-2e\" x=\"393.408203\"/>\n     <use xlink:href=\"#DejaVuSans-34\" x=\"425.195312\"/>\n     <use xlink:href=\"#DejaVuSans-30\" x=\"488.818359\"/>\n     <use xlink:href=\"#DejaVuSans-37\" x=\"552.441406\"/>\n    </g>\n    <!-- samples = 1161 -->\n    <g transform=\"translate(624.292717 253.355381)scale(0.043135 -0.043135)\">\n     <use xlink:href=\"#DejaVuSans-73\"/>\n     <use xlink:href=\"#DejaVuSans-61\" x=\"52.099609\"/>\n     <use xlink:href=\"#DejaVuSans-6d\" x=\"113.378906\"/>\n     <use xlink:href=\"#DejaVuSans-70\" x=\"210.791016\"/>\n     <use xlink:href=\"#DejaVuSans-6c\" x=\"274.267578\"/>\n     <use xlink:href=\"#DejaVuSans-65\" x=\"302.050781\"/>\n     <use xlink:href=\"#DejaVuSans-73\" x=\"363.574219\"/>\n     <use xlink:href=\"#DejaVuSans-20\" x=\"415.673828\"/>\n     <use xlink:href=\"#DejaVuSans-3d\" x=\"447.460938\"/>\n     <use xlink:href=\"#DejaVuSans-20\" x=\"531.25\"/>\n     <use xlink:href=\"#DejaVuSans-31\" x=\"563.037109\"/>\n     <use xlink:href=\"#DejaVuSans-31\" x=\"626.660156\"/>\n     <use xlink:href=\"#DejaVuSans-36\" x=\"690.283203\"/>\n     <use xlink:href=\"#DejaVuSans-31\" x=\"753.90625\"/>\n    </g>\n    <!-- value = [831, 330] -->\n    <g transform=\"translate(621.568107 258.185606)scale(0.043135 -0.043135)\">\n     <use xlink:href=\"#DejaVuSans-76\"/>\n     <use xlink:href=\"#DejaVuSans-61\" x=\"59.179688\"/>\n     <use xlink:href=\"#DejaVuSans-6c\" x=\"120.458984\"/>\n     <use xlink:href=\"#DejaVuSans-75\" x=\"148.242188\"/>\n     <use xlink:href=\"#DejaVuSans-65\" x=\"211.621094\"/>\n     <use xlink:href=\"#DejaVuSans-20\" x=\"273.144531\"/>\n     <use xlink:href=\"#DejaVuSans-3d\" x=\"304.931641\"/>\n     <use xlink:href=\"#DejaVuSans-20\" x=\"388.720703\"/>\n     <use xlink:href=\"#DejaVuSans-5b\" x=\"420.507812\"/>\n     <use xlink:href=\"#DejaVuSans-38\" x=\"459.521484\"/>\n     <use xlink:href=\"#DejaVuSans-33\" x=\"523.144531\"/>\n     <use xlink:href=\"#DejaVuSans-31\" x=\"586.767578\"/>\n     <use xlink:href=\"#DejaVuSans-2c\" x=\"650.390625\"/>\n     <use xlink:href=\"#DejaVuSans-20\" x=\"682.177734\"/>\n     <use xlink:href=\"#DejaVuSans-33\" x=\"713.964844\"/>\n     <use xlink:href=\"#DejaVuSans-33\" x=\"777.587891\"/>\n     <use xlink:href=\"#DejaVuSans-30\" x=\"841.210938\"/>\n     <use xlink:href=\"#DejaVuSans-5d\" x=\"904.833984\"/>\n    </g>\n   </g>\n   <g id=\"patch_26\">\n    <path d=\"M 212.431429 139.953732 \nQ 289.791507 98.56705 368.137408 56.652965 \n\" style=\"fill: none; stroke: #000000; stroke-linecap: round\"/>\n    <path d=\"M 214.359769 139.900503 \nL 212.431429 139.953732 \nL 213.54585 138.379122 \n\" style=\"fill: none; stroke: #000000; stroke-linecap: round\"/>\n   </g>\n   <g id=\"text_13\">\n    <g id=\"patch_27\">\n     <path d=\"M 144.55691 163.416737 \nL 232.54309 163.416737 \nQ 233.837153 163.416737 233.837153 162.122674 \nL 233.837153 143.217356 \nQ 233.837153 141.923293 232.54309 141.923293 \nL 144.55691 141.923293 \nQ 143.262847 141.923293 143.262847 143.217356 \nL 143.262847 162.122674 \nQ 143.262847 163.416737 144.55691 163.416737 \nz\n\" style=\"fill: #ffffff; stroke: #000000; stroke-linejoin: miter\"/>\n    </g>\n    <!-- internet_service_type_Fiber optic &lt;= 0.5 -->\n    <g transform=\"translate(144.55691 146.614945)scale(0.043135 -0.043135)\">\n     <defs>\n      <path id=\"DejaVuSans-46\" d=\"M 628 4666 \nL 3309 4666 \nL 3309 4134 \nL 1259 4134 \nL 1259 2759 \nL 3109 2759 \nL 3109 2228 \nL 1259 2228 \nL 1259 0 \nL 628 0 \nL 628 4666 \nz\n\" transform=\"scale(0.015625)\"/>\n      <path id=\"DejaVuSans-62\" d=\"M 3116 1747 \nQ 3116 2381 2855 2742 \nQ 2594 3103 2138 3103 \nQ 1681 3103 1420 2742 \nQ 1159 2381 1159 1747 \nQ 1159 1113 1420 752 \nQ 1681 391 2138 391 \nQ 2594 391 2855 752 \nQ 3116 1113 3116 1747 \nz\nM 1159 2969 \nQ 1341 3281 1617 3432 \nQ 1894 3584 2278 3584 \nQ 2916 3584 3314 3078 \nQ 3713 2572 3713 1747 \nQ 3713 922 3314 415 \nQ 2916 -91 2278 -91 \nQ 1894 -91 1617 61 \nQ 1341 213 1159 525 \nL 1159 0 \nL 581 0 \nL 581 4863 \nL 1159 4863 \nL 1159 2969 \nz\n\" transform=\"scale(0.015625)\"/>\n     </defs>\n     <use xlink:href=\"#DejaVuSans-69\"/>\n     <use xlink:href=\"#DejaVuSans-6e\" x=\"27.783203\"/>\n     <use xlink:href=\"#DejaVuSans-74\" x=\"91.162109\"/>\n     <use xlink:href=\"#DejaVuSans-65\" x=\"130.371094\"/>\n     <use xlink:href=\"#DejaVuSans-72\" x=\"191.894531\"/>\n     <use xlink:href=\"#DejaVuSans-6e\" x=\"231.257812\"/>\n     <use xlink:href=\"#DejaVuSans-65\" x=\"294.636719\"/>\n     <use xlink:href=\"#DejaVuSans-74\" x=\"356.160156\"/>\n     <use xlink:href=\"#DejaVuSans-5f\" x=\"395.369141\"/>\n     <use xlink:href=\"#DejaVuSans-73\" x=\"445.369141\"/>\n     <use xlink:href=\"#DejaVuSans-65\" x=\"497.46875\"/>\n     <use xlink:href=\"#DejaVuSans-72\" x=\"558.992188\"/>\n     <use xlink:href=\"#DejaVuSans-76\" x=\"600.105469\"/>\n     <use xlink:href=\"#DejaVuSans-69\" x=\"659.285156\"/>\n     <use xlink:href=\"#DejaVuSans-63\" x=\"687.068359\"/>\n     <use xlink:href=\"#DejaVuSans-65\" x=\"742.048828\"/>\n     <use xlink:href=\"#DejaVuSans-5f\" x=\"803.572266\"/>\n     <use xlink:href=\"#DejaVuSans-74\" x=\"853.572266\"/>\n     <use xlink:href=\"#DejaVuSans-79\" x=\"892.78125\"/>\n     <use xlink:href=\"#DejaVuSans-70\" x=\"951.960938\"/>\n     <use xlink:href=\"#DejaVuSans-65\" x=\"1015.4375\"/>\n     <use xlink:href=\"#DejaVuSans-5f\" x=\"1076.960938\"/>\n     <use xlink:href=\"#DejaVuSans-46\" x=\"1126.960938\"/>\n     <use xlink:href=\"#DejaVuSans-69\" x=\"1177.230469\"/>\n     <use xlink:href=\"#DejaVuSans-62\" x=\"1205.013672\"/>\n     <use xlink:href=\"#DejaVuSans-65\" x=\"1268.490234\"/>\n     <use xlink:href=\"#DejaVuSans-72\" x=\"1330.013672\"/>\n     <use xlink:href=\"#DejaVuSans-20\" x=\"1371.126953\"/>\n     <use xlink:href=\"#DejaVuSans-6f\" x=\"1402.914062\"/>\n     <use xlink:href=\"#DejaVuSans-70\" x=\"1464.095703\"/>\n     <use xlink:href=\"#DejaVuSans-74\" x=\"1527.572266\"/>\n     <use xlink:href=\"#DejaVuSans-69\" x=\"1566.78125\"/>\n     <use xlink:href=\"#DejaVuSans-63\" x=\"1594.564453\"/>\n     <use xlink:href=\"#DejaVuSans-20\" x=\"1649.544922\"/>\n     <use xlink:href=\"#DejaVuSans-3c\" x=\"1681.332031\"/>\n     <use xlink:href=\"#DejaVuSans-3d\" x=\"1765.121094\"/>\n     <use xlink:href=\"#DejaVuSans-20\" x=\"1848.910156\"/>\n     <use xlink:href=\"#DejaVuSans-30\" x=\"1880.697266\"/>\n     <use xlink:href=\"#DejaVuSans-2e\" x=\"1944.320312\"/>\n     <use xlink:href=\"#DejaVuSans-35\" x=\"1976.107422\"/>\n    </g>\n    <!-- gini = 0.497 -->\n    <g transform=\"translate(175.262938 151.565141)scale(0.043135 -0.043135)\">\n     <use xlink:href=\"#DejaVuSans-67\"/>\n     <use xlink:href=\"#DejaVuSans-69\" x=\"63.476562\"/>\n     <use xlink:href=\"#DejaVuSans-6e\" x=\"91.259766\"/>\n     <use xlink:href=\"#DejaVuSans-69\" x=\"154.638672\"/>\n     <use xlink:href=\"#DejaVuSans-20\" x=\"182.421875\"/>\n     <use xlink:href=\"#DejaVuSans-3d\" x=\"214.208984\"/>\n     <use xlink:href=\"#DejaVuSans-20\" x=\"297.998047\"/>\n     <use xlink:href=\"#DejaVuSans-30\" x=\"329.785156\"/>\n     <use xlink:href=\"#DejaVuSans-2e\" x=\"393.408203\"/>\n     <use xlink:href=\"#DejaVuSans-34\" x=\"425.195312\"/>\n     <use xlink:href=\"#DejaVuSans-39\" x=\"488.818359\"/>\n     <use xlink:href=\"#DejaVuSans-37\" x=\"552.441406\"/>\n    </g>\n    <!-- samples = 1386 -->\n    <g transform=\"translate(170.917717 156.395366)scale(0.043135 -0.043135)\">\n     <use xlink:href=\"#DejaVuSans-73\"/>\n     <use xlink:href=\"#DejaVuSans-61\" x=\"52.099609\"/>\n     <use xlink:href=\"#DejaVuSans-6d\" x=\"113.378906\"/>\n     <use xlink:href=\"#DejaVuSans-70\" x=\"210.791016\"/>\n     <use xlink:href=\"#DejaVuSans-6c\" x=\"274.267578\"/>\n     <use xlink:href=\"#DejaVuSans-65\" x=\"302.050781\"/>\n     <use xlink:href=\"#DejaVuSans-73\" x=\"363.574219\"/>\n     <use xlink:href=\"#DejaVuSans-20\" x=\"415.673828\"/>\n     <use xlink:href=\"#DejaVuSans-3d\" x=\"447.460938\"/>\n     <use xlink:href=\"#DejaVuSans-20\" x=\"531.25\"/>\n     <use xlink:href=\"#DejaVuSans-31\" x=\"563.037109\"/>\n     <use xlink:href=\"#DejaVuSans-33\" x=\"626.660156\"/>\n     <use xlink:href=\"#DejaVuSans-38\" x=\"690.283203\"/>\n     <use xlink:href=\"#DejaVuSans-36\" x=\"753.90625\"/>\n    </g>\n    <!-- value = [750, 636] -->\n    <g transform=\"translate(168.193107 161.225592)scale(0.043135 -0.043135)\">\n     <use xlink:href=\"#DejaVuSans-76\"/>\n     <use xlink:href=\"#DejaVuSans-61\" x=\"59.179688\"/>\n     <use xlink:href=\"#DejaVuSans-6c\" x=\"120.458984\"/>\n     <use xlink:href=\"#DejaVuSans-75\" x=\"148.242188\"/>\n     <use xlink:href=\"#DejaVuSans-65\" x=\"211.621094\"/>\n     <use xlink:href=\"#DejaVuSans-20\" x=\"273.144531\"/>\n     <use xlink:href=\"#DejaVuSans-3d\" x=\"304.931641\"/>\n     <use xlink:href=\"#DejaVuSans-20\" x=\"388.720703\"/>\n     <use xlink:href=\"#DejaVuSans-5b\" x=\"420.507812\"/>\n     <use xlink:href=\"#DejaVuSans-37\" x=\"459.521484\"/>\n     <use xlink:href=\"#DejaVuSans-35\" x=\"523.144531\"/>\n     <use xlink:href=\"#DejaVuSans-30\" x=\"586.767578\"/>\n     <use xlink:href=\"#DejaVuSans-2c\" x=\"650.390625\"/>\n     <use xlink:href=\"#DejaVuSans-20\" x=\"682.177734\"/>\n     <use xlink:href=\"#DejaVuSans-36\" x=\"713.964844\"/>\n     <use xlink:href=\"#DejaVuSans-33\" x=\"777.587891\"/>\n     <use xlink:href=\"#DejaVuSans-36\" x=\"841.210938\"/>\n     <use xlink:href=\"#DejaVuSans-5d\" x=\"904.833984\"/>\n    </g>\n   </g>\n   <g id=\"patch_28\">\n    <path d=\"M 527.368571 139.953732 \nQ 450.008493 98.56705 371.662592 56.652965 \n\" style=\"fill: none; stroke: #000000; stroke-linecap: round\"/>\n    <path d=\"M 526.25415 138.379122 \nL 527.368571 139.953732 \nL 525.440231 139.900503 \n\" style=\"fill: none; stroke: #000000; stroke-linecap: round\"/>\n   </g>\n   <g id=\"text_14\">\n    <g id=\"patch_29\">\n     <path d=\"M 507.25691 163.416737 \nL 595.24309 163.416737 \nQ 596.537153 163.416737 596.537153 162.122674 \nL 596.537153 143.217356 \nQ 596.537153 141.923293 595.24309 141.923293 \nL 507.25691 141.923293 \nQ 505.962847 141.923293 505.962847 143.217356 \nL 505.962847 162.122674 \nQ 505.962847 163.416737 507.25691 163.416737 \nz\n\" style=\"fill: #ffffff; stroke: #000000; stroke-linejoin: miter\"/>\n    </g>\n    <!-- internet_service_type_Fiber optic &lt;= 0.5 -->\n    <g transform=\"translate(507.25691 146.614945)scale(0.043135 -0.043135)\">\n     <use xlink:href=\"#DejaVuSans-69\"/>\n     <use xlink:href=\"#DejaVuSans-6e\" x=\"27.783203\"/>\n     <use xlink:href=\"#DejaVuSans-74\" x=\"91.162109\"/>\n     <use xlink:href=\"#DejaVuSans-65\" x=\"130.371094\"/>\n     <use xlink:href=\"#DejaVuSans-72\" x=\"191.894531\"/>\n     <use xlink:href=\"#DejaVuSans-6e\" x=\"231.257812\"/>\n     <use xlink:href=\"#DejaVuSans-65\" x=\"294.636719\"/>\n     <use xlink:href=\"#DejaVuSans-74\" x=\"356.160156\"/>\n     <use xlink:href=\"#DejaVuSans-5f\" x=\"395.369141\"/>\n     <use xlink:href=\"#DejaVuSans-73\" x=\"445.369141\"/>\n     <use xlink:href=\"#DejaVuSans-65\" x=\"497.46875\"/>\n     <use xlink:href=\"#DejaVuSans-72\" x=\"558.992188\"/>\n     <use xlink:href=\"#DejaVuSans-76\" x=\"600.105469\"/>\n     <use xlink:href=\"#DejaVuSans-69\" x=\"659.285156\"/>\n     <use xlink:href=\"#DejaVuSans-63\" x=\"687.068359\"/>\n     <use xlink:href=\"#DejaVuSans-65\" x=\"742.048828\"/>\n     <use xlink:href=\"#DejaVuSans-5f\" x=\"803.572266\"/>\n     <use xlink:href=\"#DejaVuSans-74\" x=\"853.572266\"/>\n     <use xlink:href=\"#DejaVuSans-79\" x=\"892.78125\"/>\n     <use xlink:href=\"#DejaVuSans-70\" x=\"951.960938\"/>\n     <use xlink:href=\"#DejaVuSans-65\" x=\"1015.4375\"/>\n     <use xlink:href=\"#DejaVuSans-5f\" x=\"1076.960938\"/>\n     <use xlink:href=\"#DejaVuSans-46\" x=\"1126.960938\"/>\n     <use xlink:href=\"#DejaVuSans-69\" x=\"1177.230469\"/>\n     <use xlink:href=\"#DejaVuSans-62\" x=\"1205.013672\"/>\n     <use xlink:href=\"#DejaVuSans-65\" x=\"1268.490234\"/>\n     <use xlink:href=\"#DejaVuSans-72\" x=\"1330.013672\"/>\n     <use xlink:href=\"#DejaVuSans-20\" x=\"1371.126953\"/>\n     <use xlink:href=\"#DejaVuSans-6f\" x=\"1402.914062\"/>\n     <use xlink:href=\"#DejaVuSans-70\" x=\"1464.095703\"/>\n     <use xlink:href=\"#DejaVuSans-74\" x=\"1527.572266\"/>\n     <use xlink:href=\"#DejaVuSans-69\" x=\"1566.78125\"/>\n     <use xlink:href=\"#DejaVuSans-63\" x=\"1594.564453\"/>\n     <use xlink:href=\"#DejaVuSans-20\" x=\"1649.544922\"/>\n     <use xlink:href=\"#DejaVuSans-3c\" x=\"1681.332031\"/>\n     <use xlink:href=\"#DejaVuSans-3d\" x=\"1765.121094\"/>\n     <use xlink:href=\"#DejaVuSans-20\" x=\"1848.910156\"/>\n     <use xlink:href=\"#DejaVuSans-30\" x=\"1880.697266\"/>\n     <use xlink:href=\"#DejaVuSans-2e\" x=\"1944.320312\"/>\n     <use xlink:href=\"#DejaVuSans-35\" x=\"1976.107422\"/>\n    </g>\n    <!-- gini = 0.269 -->\n    <g transform=\"translate(537.962938 151.565141)scale(0.043135 -0.043135)\">\n     <use xlink:href=\"#DejaVuSans-67\"/>\n     <use xlink:href=\"#DejaVuSans-69\" x=\"63.476562\"/>\n     <use xlink:href=\"#DejaVuSans-6e\" x=\"91.259766\"/>\n     <use xlink:href=\"#DejaVuSans-69\" x=\"154.638672\"/>\n     <use xlink:href=\"#DejaVuSans-20\" x=\"182.421875\"/>\n     <use xlink:href=\"#DejaVuSans-3d\" x=\"214.208984\"/>\n     <use xlink:href=\"#DejaVuSans-20\" x=\"297.998047\"/>\n     <use xlink:href=\"#DejaVuSans-30\" x=\"329.785156\"/>\n     <use xlink:href=\"#DejaVuSans-2e\" x=\"393.408203\"/>\n     <use xlink:href=\"#DejaVuSans-32\" x=\"425.195312\"/>\n     <use xlink:href=\"#DejaVuSans-36\" x=\"488.818359\"/>\n     <use xlink:href=\"#DejaVuSans-39\" x=\"552.441406\"/>\n    </g>\n    <!-- samples = 2557 -->\n    <g transform=\"translate(533.617717 156.395366)scale(0.043135 -0.043135)\">\n     <use xlink:href=\"#DejaVuSans-73\"/>\n     <use xlink:href=\"#DejaVuSans-61\" x=\"52.099609\"/>\n     <use xlink:href=\"#DejaVuSans-6d\" x=\"113.378906\"/>\n     <use xlink:href=\"#DejaVuSans-70\" x=\"210.791016\"/>\n     <use xlink:href=\"#DejaVuSans-6c\" x=\"274.267578\"/>\n     <use xlink:href=\"#DejaVuSans-65\" x=\"302.050781\"/>\n     <use xlink:href=\"#DejaVuSans-73\" x=\"363.574219\"/>\n     <use xlink:href=\"#DejaVuSans-20\" x=\"415.673828\"/>\n     <use xlink:href=\"#DejaVuSans-3d\" x=\"447.460938\"/>\n     <use xlink:href=\"#DejaVuSans-20\" x=\"531.25\"/>\n     <use xlink:href=\"#DejaVuSans-32\" x=\"563.037109\"/>\n     <use xlink:href=\"#DejaVuSans-35\" x=\"626.660156\"/>\n     <use xlink:href=\"#DejaVuSans-35\" x=\"690.283203\"/>\n     <use xlink:href=\"#DejaVuSans-37\" x=\"753.90625\"/>\n    </g>\n    <!-- value = [2147, 410] -->\n    <g transform=\"translate(529.520861 161.225592)scale(0.043135 -0.043135)\">\n     <use xlink:href=\"#DejaVuSans-76\"/>\n     <use xlink:href=\"#DejaVuSans-61\" x=\"59.179688\"/>\n     <use xlink:href=\"#DejaVuSans-6c\" x=\"120.458984\"/>\n     <use xlink:href=\"#DejaVuSans-75\" x=\"148.242188\"/>\n     <use xlink:href=\"#DejaVuSans-65\" x=\"211.621094\"/>\n     <use xlink:href=\"#DejaVuSans-20\" x=\"273.144531\"/>\n     <use xlink:href=\"#DejaVuSans-3d\" x=\"304.931641\"/>\n     <use xlink:href=\"#DejaVuSans-20\" x=\"388.720703\"/>\n     <use xlink:href=\"#DejaVuSans-5b\" x=\"420.507812\"/>\n     <use xlink:href=\"#DejaVuSans-32\" x=\"459.521484\"/>\n     <use xlink:href=\"#DejaVuSans-31\" x=\"523.144531\"/>\n     <use xlink:href=\"#DejaVuSans-34\" x=\"586.767578\"/>\n     <use xlink:href=\"#DejaVuSans-37\" x=\"650.390625\"/>\n     <use xlink:href=\"#DejaVuSans-2c\" x=\"714.013672\"/>\n     <use xlink:href=\"#DejaVuSans-20\" x=\"745.800781\"/>\n     <use xlink:href=\"#DejaVuSans-34\" x=\"777.587891\"/>\n     <use xlink:href=\"#DejaVuSans-31\" x=\"841.210938\"/>\n     <use xlink:href=\"#DejaVuSans-30\" x=\"904.833984\"/>\n     <use xlink:href=\"#DejaVuSans-5d\" x=\"968.457031\"/>\n    </g>\n   </g>\n   <g id=\"patch_30\">\n    <path d=\"M 369.9 55.71 \nQ 369.9 55.71 369.9 55.71 \n\" style=\"fill: none; stroke: #000000; stroke-linecap: round\"/>\n   </g>\n   <g id=\"text_15\">\n    <g id=\"patch_31\">\n     <path d=\"M 346.798615 66.336752 \nL 393.001385 66.336752 \nQ 394.295448 66.336752 394.295448 65.042689 \nL 394.295448 46.377311 \nQ 394.295448 45.083248 393.001385 45.083248 \nL 346.798615 45.083248 \nQ 345.504552 45.083248 345.504552 46.377311 \nL 345.504552 65.042689 \nQ 345.504552 66.336752 346.798615 66.336752 \nz\n\" style=\"fill: #ffffff; stroke: #000000; stroke-linejoin: miter\"/>\n    </g>\n    <!-- tenure &lt;= 15.5 -->\n    <g transform=\"translate(353.040784 49.654931)scale(0.043135 -0.043135)\">\n     <use xlink:href=\"#DejaVuSans-74\"/>\n     <use xlink:href=\"#DejaVuSans-65\" x=\"39.208984\"/>\n     <use xlink:href=\"#DejaVuSans-6e\" x=\"100.732422\"/>\n     <use xlink:href=\"#DejaVuSans-75\" x=\"164.111328\"/>\n     <use xlink:href=\"#DejaVuSans-72\" x=\"227.490234\"/>\n     <use xlink:href=\"#DejaVuSans-65\" x=\"266.353516\"/>\n     <use xlink:href=\"#DejaVuSans-20\" x=\"327.876953\"/>\n     <use xlink:href=\"#DejaVuSans-3c\" x=\"359.664062\"/>\n     <use xlink:href=\"#DejaVuSans-3d\" x=\"443.453125\"/>\n     <use xlink:href=\"#DejaVuSans-20\" x=\"527.242188\"/>\n     <use xlink:href=\"#DejaVuSans-31\" x=\"559.029297\"/>\n     <use xlink:href=\"#DejaVuSans-35\" x=\"622.652344\"/>\n     <use xlink:href=\"#DejaVuSans-2e\" x=\"686.275391\"/>\n     <use xlink:href=\"#DejaVuSans-35\" x=\"718.0625\"/>\n    </g>\n    <!-- gini = 0.39 -->\n    <g transform=\"translate(357.985184 54.485156)scale(0.043135 -0.043135)\">\n     <use xlink:href=\"#DejaVuSans-67\"/>\n     <use xlink:href=\"#DejaVuSans-69\" x=\"63.476562\"/>\n     <use xlink:href=\"#DejaVuSans-6e\" x=\"91.259766\"/>\n     <use xlink:href=\"#DejaVuSans-69\" x=\"154.638672\"/>\n     <use xlink:href=\"#DejaVuSans-20\" x=\"182.421875\"/>\n     <use xlink:href=\"#DejaVuSans-3d\" x=\"214.208984\"/>\n     <use xlink:href=\"#DejaVuSans-20\" x=\"297.998047\"/>\n     <use xlink:href=\"#DejaVuSans-30\" x=\"329.785156\"/>\n     <use xlink:href=\"#DejaVuSans-2e\" x=\"393.408203\"/>\n     <use xlink:href=\"#DejaVuSans-33\" x=\"425.195312\"/>\n     <use xlink:href=\"#DejaVuSans-39\" x=\"488.818359\"/>\n    </g>\n    <!-- samples = 3943 -->\n    <g transform=\"translate(352.267717 59.315381)scale(0.043135 -0.043135)\">\n     <use xlink:href=\"#DejaVuSans-73\"/>\n     <use xlink:href=\"#DejaVuSans-61\" x=\"52.099609\"/>\n     <use xlink:href=\"#DejaVuSans-6d\" x=\"113.378906\"/>\n     <use xlink:href=\"#DejaVuSans-70\" x=\"210.791016\"/>\n     <use xlink:href=\"#DejaVuSans-6c\" x=\"274.267578\"/>\n     <use xlink:href=\"#DejaVuSans-65\" x=\"302.050781\"/>\n     <use xlink:href=\"#DejaVuSans-73\" x=\"363.574219\"/>\n     <use xlink:href=\"#DejaVuSans-20\" x=\"415.673828\"/>\n     <use xlink:href=\"#DejaVuSans-3d\" x=\"447.460938\"/>\n     <use xlink:href=\"#DejaVuSans-20\" x=\"531.25\"/>\n     <use xlink:href=\"#DejaVuSans-33\" x=\"563.037109\"/>\n     <use xlink:href=\"#DejaVuSans-39\" x=\"626.660156\"/>\n     <use xlink:href=\"#DejaVuSans-34\" x=\"690.283203\"/>\n     <use xlink:href=\"#DejaVuSans-33\" x=\"753.90625\"/>\n    </g>\n    <!-- value = [2897, 1046] -->\n    <g transform=\"translate(346.798615 64.145606)scale(0.043135 -0.043135)\">\n     <use xlink:href=\"#DejaVuSans-76\"/>\n     <use xlink:href=\"#DejaVuSans-61\" x=\"59.179688\"/>\n     <use xlink:href=\"#DejaVuSans-6c\" x=\"120.458984\"/>\n     <use xlink:href=\"#DejaVuSans-75\" x=\"148.242188\"/>\n     <use xlink:href=\"#DejaVuSans-65\" x=\"211.621094\"/>\n     <use xlink:href=\"#DejaVuSans-20\" x=\"273.144531\"/>\n     <use xlink:href=\"#DejaVuSans-3d\" x=\"304.931641\"/>\n     <use xlink:href=\"#DejaVuSans-20\" x=\"388.720703\"/>\n     <use xlink:href=\"#DejaVuSans-5b\" x=\"420.507812\"/>\n     <use xlink:href=\"#DejaVuSans-32\" x=\"459.521484\"/>\n     <use xlink:href=\"#DejaVuSans-38\" x=\"523.144531\"/>\n     <use xlink:href=\"#DejaVuSans-39\" x=\"586.767578\"/>\n     <use xlink:href=\"#DejaVuSans-37\" x=\"650.390625\"/>\n     <use xlink:href=\"#DejaVuSans-2c\" x=\"714.013672\"/>\n     <use xlink:href=\"#DejaVuSans-20\" x=\"745.800781\"/>\n     <use xlink:href=\"#DejaVuSans-31\" x=\"777.587891\"/>\n     <use xlink:href=\"#DejaVuSans-30\" x=\"841.210938\"/>\n     <use xlink:href=\"#DejaVuSans-34\" x=\"904.833984\"/>\n     <use xlink:href=\"#DejaVuSans-36\" x=\"968.457031\"/>\n     <use xlink:href=\"#DejaVuSans-5d\" x=\"1032.080078\"/>\n    </g>\n   </g>\n  </g>\n </g>\n</svg>\n",
      "text/plain": [
       "<Figure size 1300x700 with 1 Axes>"
      ]
     },
     "metadata": {},
     "output_type": "display_data"
    }
   ],
   "source": [
    "plt.figure(figsize=(13, 7))\n",
    "plot_tree(clf, feature_names=X_Train.columns, rounded=True)\n",
    "plt.show()"
   ]
  },
  {
   "cell_type": "code",
   "execution_count": 9,
   "metadata": {},
   "outputs": [],
   "source": [
    "val_pred = clf.predict(X_val)"
   ]
  },
  {
   "cell_type": "code",
   "execution_count": 10,
   "metadata": {},
   "outputs": [
    {
     "data": {
      "text/plain": [
       "array([1, 0, 0, 0, 1])"
      ]
     },
     "execution_count": 10,
     "metadata": {},
     "output_type": "execute_result"
    }
   ],
   "source": [
    "val_pred[0:5]"
   ]
  },
  {
   "cell_type": "code",
   "execution_count": 11,
   "metadata": {},
   "outputs": [
    {
     "name": "stdout",
     "output_type": "stream",
     "text": [
      "              precision    recall  f1-score   support\n",
      "\n",
      "           0       0.81      0.94      0.87      1242\n",
      "           1       0.69      0.39      0.49       449\n",
      "\n",
      "    accuracy                           0.79      1691\n",
      "   macro avg       0.75      0.66      0.68      1691\n",
      "weighted avg       0.78      0.79      0.77      1691\n",
      "\n"
     ]
    }
   ],
   "source": [
    "print(classification_report(y_val, val_pred))"
   ]
  },
  {
   "cell_type": "code",
   "execution_count": 12,
   "metadata": {},
   "outputs": [
    {
     "data": {
      "text/plain": [
       "array([[0.98744113, 0.01255887],\n",
       "       [0.98744113, 0.01255887],\n",
       "       [0.62      , 0.38      ],\n",
       "       ...,\n",
       "       [0.62      , 0.38      ],\n",
       "       [0.82469136, 0.17530864],\n",
       "       [0.62      , 0.38      ]])"
      ]
     },
     "execution_count": 12,
     "metadata": {},
     "output_type": "execute_result"
    }
   ],
   "source": [
    "y_pred_proba = clf.predict_proba(X_Train)\n",
    "y_pred_proba"
   ]
  },
  {
   "cell_type": "code",
   "execution_count": 13,
   "metadata": {},
   "outputs": [
    {
     "name": "stdout",
     "output_type": "stream",
     "text": [
      "Accuracy of Decision Tree classifier on training set: 0.79\n"
     ]
    }
   ],
   "source": [
    "print('Accuracy of Decision Tree classifier on training set: {:.2f}'.format(clf.score(X_Train, y_Train)))\n"
   ]
  },
  {
   "cell_type": "code",
   "execution_count": 14,
   "metadata": {},
   "outputs": [
    {
     "data": {
      "text/plain": [
       "0    2897\n",
       "1    1046\n",
       "Name: churn_Yes, dtype: int64"
      ]
     },
     "execution_count": 14,
     "metadata": {},
     "output_type": "execute_result"
    }
   ],
   "source": [
    "y_Train.value_counts()\n"
   ]
  },
  {
   "attachments": {},
   "cell_type": "markdown",
   "metadata": {},
   "source": [
    "print(classification_report(y_train, y_pred))\n"
   ]
  },
  {
   "cell_type": "code",
   "execution_count": 15,
   "metadata": {},
   "outputs": [],
   "source": [
    "# print(classification_report(y_Train, y_pred_proba))"
   ]
  },
  {
   "cell_type": "code",
   "execution_count": 16,
   "metadata": {},
   "outputs": [],
   "source": [
    "X_validate = validate.drop(columns = ['churn_Yes', 'customer_id'])\n",
    "y_validate = validate.churn_Yes\n"
   ]
  },
  {
   "cell_type": "code",
   "execution_count": 17,
   "metadata": {},
   "outputs": [
    {
     "name": "stdout",
     "output_type": "stream",
     "text": [
      "Accuracy of Decision Tree classifier on validate set: 0.79\n"
     ]
    }
   ],
   "source": [
    "print('Accuracy of Decision Tree classifier on validate set: {:.2f}'\n",
    "     .format(clf.score(X_validate, y_validate)))\n"
   ]
  },
  {
   "cell_type": "code",
   "execution_count": 18,
   "metadata": {},
   "outputs": [
    {
     "data": {
      "text/plain": [
       "array([1, 0, 0, ..., 0, 0, 1])"
      ]
     },
     "execution_count": 18,
     "metadata": {},
     "output_type": "execute_result"
    }
   ],
   "source": [
    "# Produce y_predictions that come from the X_validate\n",
    "y_pred_validate = clf.predict(X_validate)\n",
    "y_pred_validate"
   ]
  },
  {
   "cell_type": "code",
   "execution_count": 19,
   "metadata": {},
   "outputs": [
    {
     "name": "stdout",
     "output_type": "stream",
     "text": [
      "              precision    recall  f1-score   support\n",
      "\n",
      "           0       0.81      0.94      0.87      1242\n",
      "           1       0.69      0.39      0.49       449\n",
      "\n",
      "    accuracy                           0.79      1691\n",
      "   macro avg       0.75      0.66      0.68      1691\n",
      "weighted avg       0.78      0.79      0.77      1691\n",
      "\n"
     ]
    }
   ],
   "source": [
    "# Compare actual y values (from validate) to predicted y_values from the model run on X_validate\n",
    "print(classification_report(y_validate, y_pred_validate))"
   ]
  },
  {
   "attachments": {},
   "cell_type": "markdown",
   "metadata": {},
   "source": [
    "#### This cell changed to markdown because this was copy pasted to another file and it's erroring out my notebook\n",
    "\n",
    "#One cell to rule them all\n",
    "\n",
    "\n",
    "\n",
    "#baseline\n",
    "    baseline = 1 - train.churn_Yes.mean()\n",
    "    seed=35\n",
    "    clf = DecisionTreeClassifier(max_depth=3, random_state=123)\n",
    "    clf.fit(X_Train, y_Train)\n",
    "    clf.score(X_Train, y_Train)\n",
    "    plt.figure(figsize=(13, 7))\n",
    "    plot_tree(clf, feature_names=X_Train.columns, rounded=True)\n",
    "    plt.show()\n",
    "    val_pred = clf.predict(X_val)\n",
    "    print(classification_report(y_val, val_pred))\n",
    "    y_pred_proba = clf.predict_proba(X_Train)\n",
    "    print('Accuracy of Decision Tree classifier on training set: {:.2f}'.format(clf.score(X_Train, y_Train)))\n",
    "    print(classification_report(y_Train, y_pred_proba))\n",
    "    X_validate = validate.drop(columns = ['churn_Yes', 'customer_id'])\n",
    "    print('Accuracy of Decision Tree classifier on validate set: {:.2f}'.format(clf.score(X_validate, y_validate)))\n",
    "    y_pred_validate = clf.predict(X_validate)\n",
    "    print(classification_report(y_validate, y_pred_validate))\n",
    "    \n"
   ]
  },
  {
   "cell_type": "code",
   "execution_count": null,
   "metadata": {},
   "outputs": [],
   "source": []
  },
  {
   "cell_type": "code",
   "execution_count": null,
   "metadata": {},
   "outputs": [],
   "source": []
  },
  {
   "attachments": {},
   "cell_type": "markdown",
   "metadata": {},
   "source": [
    "- - -\n",
    "#### Random Forest\n",
    "- - -"
   ]
  },
  {
   "cell_type": "code",
   "execution_count": 20,
   "metadata": {},
   "outputs": [
    {
     "data": {
      "text/html": [
       "<div>\n",
       "<style scoped>\n",
       "    .dataframe tbody tr th:only-of-type {\n",
       "        vertical-align: middle;\n",
       "    }\n",
       "\n",
       "    .dataframe tbody tr th {\n",
       "        vertical-align: top;\n",
       "    }\n",
       "\n",
       "    .dataframe thead th {\n",
       "        text-align: right;\n",
       "    }\n",
       "</style>\n",
       "<table border=\"1\" class=\"dataframe\">\n",
       "  <thead>\n",
       "    <tr style=\"text-align: right;\">\n",
       "      <th></th>\n",
       "      <th>min_samples_per_leaf</th>\n",
       "      <th>max_depth</th>\n",
       "      <th>train_accuracy</th>\n",
       "      <th>validate_accuracy</th>\n",
       "      <th>difference</th>\n",
       "    </tr>\n",
       "  </thead>\n",
       "  <tbody>\n",
       "    <tr>\n",
       "      <th>23</th>\n",
       "      <td>3</td>\n",
       "      <td>9</td>\n",
       "      <td>0.846817</td>\n",
       "      <td>0.811354</td>\n",
       "      <td>0.035463</td>\n",
       "    </tr>\n",
       "    <tr>\n",
       "      <th>29</th>\n",
       "      <td>4</td>\n",
       "      <td>7</td>\n",
       "      <td>0.818920</td>\n",
       "      <td>0.810171</td>\n",
       "      <td>0.008748</td>\n",
       "    </tr>\n",
       "    <tr>\n",
       "      <th>63</th>\n",
       "      <td>8</td>\n",
       "      <td>9</td>\n",
       "      <td>0.828811</td>\n",
       "      <td>0.809580</td>\n",
       "      <td>0.019230</td>\n",
       "    </tr>\n",
       "    <tr>\n",
       "      <th>71</th>\n",
       "      <td>9</td>\n",
       "      <td>9</td>\n",
       "      <td>0.826021</td>\n",
       "      <td>0.808989</td>\n",
       "      <td>0.017032</td>\n",
       "    </tr>\n",
       "    <tr>\n",
       "      <th>39</th>\n",
       "      <td>5</td>\n",
       "      <td>9</td>\n",
       "      <td>0.837687</td>\n",
       "      <td>0.808989</td>\n",
       "      <td>0.028698</td>\n",
       "    </tr>\n",
       "    <tr>\n",
       "      <th>6</th>\n",
       "      <td>1</td>\n",
       "      <td>8</td>\n",
       "      <td>0.837941</td>\n",
       "      <td>0.808989</td>\n",
       "      <td>0.028952</td>\n",
       "    </tr>\n",
       "    <tr>\n",
       "      <th>30</th>\n",
       "      <td>4</td>\n",
       "      <td>8</td>\n",
       "      <td>0.827035</td>\n",
       "      <td>0.808397</td>\n",
       "      <td>0.018638</td>\n",
       "    </tr>\n",
       "    <tr>\n",
       "      <th>46</th>\n",
       "      <td>6</td>\n",
       "      <td>8</td>\n",
       "      <td>0.824245</td>\n",
       "      <td>0.808397</td>\n",
       "      <td>0.015848</td>\n",
       "    </tr>\n",
       "    <tr>\n",
       "      <th>14</th>\n",
       "      <td>2</td>\n",
       "      <td>8</td>\n",
       "      <td>0.830839</td>\n",
       "      <td>0.807806</td>\n",
       "      <td>0.023033</td>\n",
       "    </tr>\n",
       "    <tr>\n",
       "      <th>22</th>\n",
       "      <td>3</td>\n",
       "      <td>8</td>\n",
       "      <td>0.828303</td>\n",
       "      <td>0.807806</td>\n",
       "      <td>0.020497</td>\n",
       "    </tr>\n",
       "  </tbody>\n",
       "</table>\n",
       "</div>"
      ],
      "text/plain": [
       "    min_samples_per_leaf  max_depth  train_accuracy  validate_accuracy  \\\n",
       "23                     3          9        0.846817           0.811354   \n",
       "29                     4          7        0.818920           0.810171   \n",
       "63                     8          9        0.828811           0.809580   \n",
       "71                     9          9        0.826021           0.808989   \n",
       "39                     5          9        0.837687           0.808989   \n",
       "6                      1          8        0.837941           0.808989   \n",
       "30                     4          8        0.827035           0.808397   \n",
       "46                     6          8        0.824245           0.808397   \n",
       "14                     2          8        0.830839           0.807806   \n",
       "22                     3          8        0.828303           0.807806   \n",
       "\n",
       "    difference  \n",
       "23    0.035463  \n",
       "29    0.008748  \n",
       "63    0.019230  \n",
       "71    0.017032  \n",
       "39    0.028698  \n",
       "6     0.028952  \n",
       "30    0.018638  \n",
       "46    0.015848  \n",
       "14    0.023033  \n",
       "22    0.020497  "
      ]
     },
     "execution_count": 20,
     "metadata": {},
     "output_type": "execute_result"
    }
   ],
   "source": [
    "metrics = []\n",
    "\n",
    "for j in range (1, 10):\n",
    "    for i in range(2, 10):\n",
    "        rf = RandomForestClassifier(max_depth=i, min_samples_leaf=j, random_state=123)\n",
    "\n",
    "        rf = rf.fit(X_Train, y_Train)\n",
    "        in_sample_accuracy = rf.score(X_Train, y_Train)\n",
    "        out_of_sample_accuracy = rf.score(X_validate, y_validate)\n",
    "\n",
    "        output = {\n",
    "            \"min_samples_per_leaf\": j,\n",
    "            \"max_depth\": i,\n",
    "            \"train_accuracy\": in_sample_accuracy,\n",
    "            \"validate_accuracy\": out_of_sample_accuracy\n",
    "        }\n",
    "    \n",
    "        metrics.append(output)\n",
    "\n",
    "df1 = pd.DataFrame(metrics)\n",
    "df1[\"difference\"] = df1.train_accuracy - df1.validate_accuracy\n",
    "df1.sort_values(by=['validate_accuracy'], ascending=False).head(10)"
   ]
  },
  {
   "cell_type": "code",
   "execution_count": 21,
   "metadata": {},
   "outputs": [
    {
     "data": {
      "text/html": [
       "<style>#sk-container-id-2 {color: black;background-color: white;}#sk-container-id-2 pre{padding: 0;}#sk-container-id-2 div.sk-toggleable {background-color: white;}#sk-container-id-2 label.sk-toggleable__label {cursor: pointer;display: block;width: 100%;margin-bottom: 0;padding: 0.3em;box-sizing: border-box;text-align: center;}#sk-container-id-2 label.sk-toggleable__label-arrow:before {content: \"▸\";float: left;margin-right: 0.25em;color: #696969;}#sk-container-id-2 label.sk-toggleable__label-arrow:hover:before {color: black;}#sk-container-id-2 div.sk-estimator:hover label.sk-toggleable__label-arrow:before {color: black;}#sk-container-id-2 div.sk-toggleable__content {max-height: 0;max-width: 0;overflow: hidden;text-align: left;background-color: #f0f8ff;}#sk-container-id-2 div.sk-toggleable__content pre {margin: 0.2em;color: black;border-radius: 0.25em;background-color: #f0f8ff;}#sk-container-id-2 input.sk-toggleable__control:checked~div.sk-toggleable__content {max-height: 200px;max-width: 100%;overflow: auto;}#sk-container-id-2 input.sk-toggleable__control:checked~label.sk-toggleable__label-arrow:before {content: \"▾\";}#sk-container-id-2 div.sk-estimator input.sk-toggleable__control:checked~label.sk-toggleable__label {background-color: #d4ebff;}#sk-container-id-2 div.sk-label input.sk-toggleable__control:checked~label.sk-toggleable__label {background-color: #d4ebff;}#sk-container-id-2 input.sk-hidden--visually {border: 0;clip: rect(1px 1px 1px 1px);clip: rect(1px, 1px, 1px, 1px);height: 1px;margin: -1px;overflow: hidden;padding: 0;position: absolute;width: 1px;}#sk-container-id-2 div.sk-estimator {font-family: monospace;background-color: #f0f8ff;border: 1px dotted black;border-radius: 0.25em;box-sizing: border-box;margin-bottom: 0.5em;}#sk-container-id-2 div.sk-estimator:hover {background-color: #d4ebff;}#sk-container-id-2 div.sk-parallel-item::after {content: \"\";width: 100%;border-bottom: 1px solid gray;flex-grow: 1;}#sk-container-id-2 div.sk-label:hover label.sk-toggleable__label {background-color: #d4ebff;}#sk-container-id-2 div.sk-serial::before {content: \"\";position: absolute;border-left: 1px solid gray;box-sizing: border-box;top: 0;bottom: 0;left: 50%;z-index: 0;}#sk-container-id-2 div.sk-serial {display: flex;flex-direction: column;align-items: center;background-color: white;padding-right: 0.2em;padding-left: 0.2em;position: relative;}#sk-container-id-2 div.sk-item {position: relative;z-index: 1;}#sk-container-id-2 div.sk-parallel {display: flex;align-items: stretch;justify-content: center;background-color: white;position: relative;}#sk-container-id-2 div.sk-item::before, #sk-container-id-2 div.sk-parallel-item::before {content: \"\";position: absolute;border-left: 1px solid gray;box-sizing: border-box;top: 0;bottom: 0;left: 50%;z-index: -1;}#sk-container-id-2 div.sk-parallel-item {display: flex;flex-direction: column;z-index: 1;position: relative;background-color: white;}#sk-container-id-2 div.sk-parallel-item:first-child::after {align-self: flex-end;width: 50%;}#sk-container-id-2 div.sk-parallel-item:last-child::after {align-self: flex-start;width: 50%;}#sk-container-id-2 div.sk-parallel-item:only-child::after {width: 0;}#sk-container-id-2 div.sk-dashed-wrapped {border: 1px dashed gray;margin: 0 0.4em 0.5em 0.4em;box-sizing: border-box;padding-bottom: 0.4em;background-color: white;}#sk-container-id-2 div.sk-label label {font-family: monospace;font-weight: bold;display: inline-block;line-height: 1.2em;}#sk-container-id-2 div.sk-label-container {text-align: center;}#sk-container-id-2 div.sk-container {/* jupyter's `normalize.less` sets `[hidden] { display: none; }` but bootstrap.min.css set `[hidden] { display: none !important; }` so we also need the `!important` here to be able to override the default hidden behavior on the sphinx rendered scikit-learn.org. See: https://github.com/scikit-learn/scikit-learn/issues/21755 */display: inline-block !important;position: relative;}#sk-container-id-2 div.sk-text-repr-fallback {display: none;}</style><div id=\"sk-container-id-2\" class=\"sk-top-container\"><div class=\"sk-text-repr-fallback\"><pre>RandomForestClassifier(max_depth=9, min_samples_leaf=3, random_state=123)</pre><b>In a Jupyter environment, please rerun this cell to show the HTML representation or trust the notebook. <br />On GitHub, the HTML representation is unable to render, please try loading this page with nbviewer.org.</b></div><div class=\"sk-container\" hidden><div class=\"sk-item\"><div class=\"sk-estimator sk-toggleable\"><input class=\"sk-toggleable__control sk-hidden--visually\" id=\"sk-estimator-id-2\" type=\"checkbox\" checked><label for=\"sk-estimator-id-2\" class=\"sk-toggleable__label sk-toggleable__label-arrow\">RandomForestClassifier</label><div class=\"sk-toggleable__content\"><pre>RandomForestClassifier(max_depth=9, min_samples_leaf=3, random_state=123)</pre></div></div></div></div></div>"
      ],
      "text/plain": [
       "RandomForestClassifier(max_depth=9, min_samples_leaf=3, random_state=123)"
      ]
     },
     "execution_count": 21,
     "metadata": {},
     "output_type": "execute_result"
    }
   ],
   "source": [
    "rf = RandomForestClassifier(max_depth=9, min_samples_leaf=3, random_state=123)\n",
    "rf"
   ]
  },
  {
   "cell_type": "code",
   "execution_count": 22,
   "metadata": {},
   "outputs": [],
   "source": [
    "#use max_depth 9 "
   ]
  },
  {
   "cell_type": "code",
   "execution_count": null,
   "metadata": {},
   "outputs": [],
   "source": []
  },
  {
   "cell_type": "code",
   "execution_count": null,
   "metadata": {},
   "outputs": [],
   "source": []
  },
  {
   "attachments": {},
   "cell_type": "markdown",
   "metadata": {},
   "source": [
    "- - -\n",
    "#### KNN\n",
    "- - -"
   ]
  },
  {
   "cell_type": "code",
   "execution_count": 23,
   "metadata": {},
   "outputs": [
    {
     "data": {
      "text/html": [
       "<div>\n",
       "<style scoped>\n",
       "    .dataframe tbody tr th:only-of-type {\n",
       "        vertical-align: middle;\n",
       "    }\n",
       "\n",
       "    .dataframe tbody tr th {\n",
       "        vertical-align: top;\n",
       "    }\n",
       "\n",
       "    .dataframe thead th {\n",
       "        text-align: right;\n",
       "    }\n",
       "</style>\n",
       "<table border=\"1\" class=\"dataframe\">\n",
       "  <thead>\n",
       "    <tr style=\"text-align: right;\">\n",
       "      <th></th>\n",
       "      <th>neighbors</th>\n",
       "      <th>train_accuracy</th>\n",
       "      <th>validate_accuracy</th>\n",
       "      <th>difference</th>\n",
       "    </tr>\n",
       "  </thead>\n",
       "  <tbody>\n",
       "    <tr>\n",
       "      <th>7</th>\n",
       "      <td>9</td>\n",
       "      <td>0.811565</td>\n",
       "      <td>0.781786</td>\n",
       "      <td>0.029779</td>\n",
       "    </tr>\n",
       "    <tr>\n",
       "      <th>6</th>\n",
       "      <td>8</td>\n",
       "      <td>0.812579</td>\n",
       "      <td>0.780603</td>\n",
       "      <td>0.031976</td>\n",
       "    </tr>\n",
       "    <tr>\n",
       "      <th>4</th>\n",
       "      <td>6</td>\n",
       "      <td>0.816891</td>\n",
       "      <td>0.778829</td>\n",
       "      <td>0.038062</td>\n",
       "    </tr>\n",
       "    <tr>\n",
       "      <th>5</th>\n",
       "      <td>7</td>\n",
       "      <td>0.820441</td>\n",
       "      <td>0.778238</td>\n",
       "      <td>0.042204</td>\n",
       "    </tr>\n",
       "    <tr>\n",
       "      <th>3</th>\n",
       "      <td>5</td>\n",
       "      <td>0.833376</td>\n",
       "      <td>0.769959</td>\n",
       "      <td>0.063417</td>\n",
       "    </tr>\n",
       "    <tr>\n",
       "      <th>2</th>\n",
       "      <td>4</td>\n",
       "      <td>0.831600</td>\n",
       "      <td>0.768776</td>\n",
       "      <td>0.062824</td>\n",
       "    </tr>\n",
       "    <tr>\n",
       "      <th>0</th>\n",
       "      <td>2</td>\n",
       "      <td>0.855947</td>\n",
       "      <td>0.762862</td>\n",
       "      <td>0.093085</td>\n",
       "    </tr>\n",
       "    <tr>\n",
       "      <th>1</th>\n",
       "      <td>3</td>\n",
       "      <td>0.857469</td>\n",
       "      <td>0.756949</td>\n",
       "      <td>0.100520</td>\n",
       "    </tr>\n",
       "  </tbody>\n",
       "</table>\n",
       "</div>"
      ],
      "text/plain": [
       "   neighbors  train_accuracy  validate_accuracy  difference\n",
       "7          9        0.811565           0.781786    0.029779\n",
       "6          8        0.812579           0.780603    0.031976\n",
       "4          6        0.816891           0.778829    0.038062\n",
       "5          7        0.820441           0.778238    0.042204\n",
       "3          5        0.833376           0.769959    0.063417\n",
       "2          4        0.831600           0.768776    0.062824\n",
       "0          2        0.855947           0.762862    0.093085\n",
       "1          3        0.857469           0.756949    0.100520"
      ]
     },
     "execution_count": 23,
     "metadata": {},
     "output_type": "execute_result"
    }
   ],
   "source": [
    "metrics = []\n",
    "\n",
    "for i in range(2, 10):\n",
    "    knn = KNeighborsClassifier(n_neighbors=i, weights='uniform')\n",
    "    knn = knn.fit(X_Train, y_Train)\n",
    "    in_sample_accuracy = knn.score(X_Train, y_Train)\n",
    "    out_of_sample_accuracy = knn.score(X_validate, y_validate)\n",
    "\n",
    "    output = {\n",
    "        \"neighbors\": i,\n",
    "        \"train_accuracy\": in_sample_accuracy,\n",
    "        \"validate_accuracy\": out_of_sample_accuracy\n",
    "    }\n",
    "\n",
    "    metrics.append(output)\n",
    "\n",
    "df1 = pd.DataFrame(metrics)\n",
    "df1[\"difference\"] = df1.train_accuracy - df1.validate_accuracy\n",
    "df1.sort_values(by=['validate_accuracy'], ascending=False).head(10)"
   ]
  },
  {
   "cell_type": "code",
   "execution_count": 24,
   "metadata": {},
   "outputs": [
    {
     "name": "stdout",
     "output_type": "stream",
     "text": [
      "Accuracy of Decision Tree classifier on training set: 0.79\n",
      "Accuracy of Decision Tree classifier on validate set: 0.79\n"
     ]
    }
   ],
   "source": [
    "#testing if decision tree function is working from model_functions.py\n",
    "model_functions.decision_tree_results(X_Train, y_Train, X_val, y_val)"
   ]
  },
  {
   "cell_type": "code",
   "execution_count": 25,
   "metadata": {},
   "outputs": [
    {
     "ename": "NameError",
     "evalue": "name 'train' is not defined",
     "output_type": "error",
     "traceback": [
      "\u001b[0;31m---------------------------------------------------------------------------\u001b[0m",
      "\u001b[0;31mNameError\u001b[0m                                 Traceback (most recent call last)",
      "\u001b[1;32m/Users/yogibexar/codeup-data-science/Telco_Churn_Classification_Project/scratchwork_modeling.ipynb Cell 35\u001b[0m in \u001b[0;36m<cell line: 1>\u001b[0;34m()\u001b[0m\n\u001b[0;32m----> <a href='vscode-notebook-cell:/Users/yogibexar/codeup-data-science/Telco_Churn_Classification_Project/scratchwork_modeling.ipynb#Y102sZmlsZQ%3D%3D?line=0'>1</a>\u001b[0m model_functions\u001b[39m.\u001b[39;49misolate_target()\n",
      "File \u001b[0;32m~/codeup-data-science/Telco_Churn_Classification_Project/model_functions.py:90\u001b[0m, in \u001b[0;36misolate_target\u001b[0;34m()\u001b[0m\n\u001b[1;32m     88\u001b[0m \u001b[39mdef\u001b[39;00m \u001b[39misolate_target\u001b[39m():\n\u001b[0;32m---> 90\u001b[0m     X_Train \u001b[39m=\u001b[39m train\u001b[39m.\u001b[39mdrop(columns \u001b[39m=\u001b[39m [\u001b[39m'\u001b[39m\u001b[39mchurn_Yes\u001b[39m\u001b[39m'\u001b[39m, \u001b[39m'\u001b[39m\u001b[39mcustomer_id\u001b[39m\u001b[39m'\u001b[39m])\n\u001b[1;32m     91\u001b[0m     y_Train \u001b[39m=\u001b[39m train\u001b[39m.\u001b[39mchurn_Yes\n\u001b[1;32m     93\u001b[0m     X_val \u001b[39m=\u001b[39m validate\u001b[39m.\u001b[39mdrop(columns \u001b[39m=\u001b[39m [\u001b[39m'\u001b[39m\u001b[39mchurn_Yes\u001b[39m\u001b[39m'\u001b[39m, \u001b[39m'\u001b[39m\u001b[39mcustomer_id\u001b[39m\u001b[39m'\u001b[39m])\n",
      "\u001b[0;31mNameError\u001b[0m: name 'train' is not defined"
     ]
    }
   ],
   "source": [
    "model_functions.isolate_target()"
   ]
  },
  {
   "cell_type": "code",
   "execution_count": null,
   "metadata": {},
   "outputs": [],
   "source": []
  }
 ],
 "metadata": {
  "kernelspec": {
   "display_name": "base",
   "language": "python",
   "name": "python3"
  },
  "language_info": {
   "codemirror_mode": {
    "name": "ipython",
    "version": 3
   },
   "file_extension": ".py",
   "mimetype": "text/x-python",
   "name": "python",
   "nbconvert_exporter": "python",
   "pygments_lexer": "ipython3",
   "version": "3.9.13"
  },
  "orig_nbformat": 4,
  "vscode": {
   "interpreter": {
    "hash": "38cca0c38332a56087b24af0bc80247f4fced29cb4f7f437d91dc159adec9c4e"
   }
  }
 },
 "nbformat": 4,
 "nbformat_minor": 2
}
