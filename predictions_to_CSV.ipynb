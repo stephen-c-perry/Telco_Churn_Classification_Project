{
 "cells": [
  {
   "cell_type": "code",
   "execution_count": 1,
   "metadata": {},
   "outputs": [],
   "source": [
    "#imports\n",
    "import pandas as pd\n",
    "import numpy as np\n",
    "import acquire\n",
    "import prepare\n",
    "import model_functions\n",
    "from sklearn.ensemble import RandomForestClassifier\n",
    "from sklearn.metrics import confusion_matrix\n",
    "from sklearn.metrics import classification_report"
   ]
  },
  {
   "cell_type": "code",
   "execution_count": 2,
   "metadata": {},
   "outputs": [
    {
     "data": {
      "text/html": [
       "<div>\n",
       "<style scoped>\n",
       "    .dataframe tbody tr th:only-of-type {\n",
       "        vertical-align: middle;\n",
       "    }\n",
       "\n",
       "    .dataframe tbody tr th {\n",
       "        vertical-align: top;\n",
       "    }\n",
       "\n",
       "    .dataframe thead th {\n",
       "        text-align: right;\n",
       "    }\n",
       "</style>\n",
       "<table border=\"1\" class=\"dataframe\">\n",
       "  <thead>\n",
       "    <tr style=\"text-align: right;\">\n",
       "      <th></th>\n",
       "      <th>payment_type_id</th>\n",
       "      <th>internet_service_type_id</th>\n",
       "      <th>contract_type_id</th>\n",
       "      <th>customer_id</th>\n",
       "      <th>gender</th>\n",
       "      <th>senior_citizen</th>\n",
       "      <th>partner</th>\n",
       "      <th>dependents</th>\n",
       "      <th>tenure</th>\n",
       "      <th>phone_service</th>\n",
       "      <th>...</th>\n",
       "      <th>tech_support</th>\n",
       "      <th>streaming_tv</th>\n",
       "      <th>streaming_movies</th>\n",
       "      <th>paperless_billing</th>\n",
       "      <th>monthly_charges</th>\n",
       "      <th>total_charges</th>\n",
       "      <th>churn</th>\n",
       "      <th>contract_type</th>\n",
       "      <th>internet_service_type</th>\n",
       "      <th>payment_type</th>\n",
       "    </tr>\n",
       "  </thead>\n",
       "  <tbody>\n",
       "    <tr>\n",
       "      <th>0</th>\n",
       "      <td>2</td>\n",
       "      <td>1</td>\n",
       "      <td>2</td>\n",
       "      <td>0002-ORFBO</td>\n",
       "      <td>Female</td>\n",
       "      <td>0</td>\n",
       "      <td>Yes</td>\n",
       "      <td>Yes</td>\n",
       "      <td>9</td>\n",
       "      <td>Yes</td>\n",
       "      <td>...</td>\n",
       "      <td>Yes</td>\n",
       "      <td>Yes</td>\n",
       "      <td>No</td>\n",
       "      <td>Yes</td>\n",
       "      <td>65.6</td>\n",
       "      <td>593.3</td>\n",
       "      <td>No</td>\n",
       "      <td>One year</td>\n",
       "      <td>DSL</td>\n",
       "      <td>Mailed check</td>\n",
       "    </tr>\n",
       "    <tr>\n",
       "      <th>1</th>\n",
       "      <td>2</td>\n",
       "      <td>1</td>\n",
       "      <td>1</td>\n",
       "      <td>0003-MKNFE</td>\n",
       "      <td>Male</td>\n",
       "      <td>0</td>\n",
       "      <td>No</td>\n",
       "      <td>No</td>\n",
       "      <td>9</td>\n",
       "      <td>Yes</td>\n",
       "      <td>...</td>\n",
       "      <td>No</td>\n",
       "      <td>No</td>\n",
       "      <td>Yes</td>\n",
       "      <td>No</td>\n",
       "      <td>59.9</td>\n",
       "      <td>542.4</td>\n",
       "      <td>No</td>\n",
       "      <td>Month-to-month</td>\n",
       "      <td>DSL</td>\n",
       "      <td>Mailed check</td>\n",
       "    </tr>\n",
       "    <tr>\n",
       "      <th>2</th>\n",
       "      <td>1</td>\n",
       "      <td>2</td>\n",
       "      <td>1</td>\n",
       "      <td>0004-TLHLJ</td>\n",
       "      <td>Male</td>\n",
       "      <td>0</td>\n",
       "      <td>No</td>\n",
       "      <td>No</td>\n",
       "      <td>4</td>\n",
       "      <td>Yes</td>\n",
       "      <td>...</td>\n",
       "      <td>No</td>\n",
       "      <td>No</td>\n",
       "      <td>No</td>\n",
       "      <td>Yes</td>\n",
       "      <td>73.9</td>\n",
       "      <td>280.85</td>\n",
       "      <td>Yes</td>\n",
       "      <td>Month-to-month</td>\n",
       "      <td>Fiber optic</td>\n",
       "      <td>Electronic check</td>\n",
       "    </tr>\n",
       "    <tr>\n",
       "      <th>3</th>\n",
       "      <td>1</td>\n",
       "      <td>2</td>\n",
       "      <td>1</td>\n",
       "      <td>0011-IGKFF</td>\n",
       "      <td>Male</td>\n",
       "      <td>1</td>\n",
       "      <td>Yes</td>\n",
       "      <td>No</td>\n",
       "      <td>13</td>\n",
       "      <td>Yes</td>\n",
       "      <td>...</td>\n",
       "      <td>No</td>\n",
       "      <td>Yes</td>\n",
       "      <td>Yes</td>\n",
       "      <td>Yes</td>\n",
       "      <td>98.0</td>\n",
       "      <td>1237.85</td>\n",
       "      <td>Yes</td>\n",
       "      <td>Month-to-month</td>\n",
       "      <td>Fiber optic</td>\n",
       "      <td>Electronic check</td>\n",
       "    </tr>\n",
       "    <tr>\n",
       "      <th>4</th>\n",
       "      <td>2</td>\n",
       "      <td>2</td>\n",
       "      <td>1</td>\n",
       "      <td>0013-EXCHZ</td>\n",
       "      <td>Female</td>\n",
       "      <td>1</td>\n",
       "      <td>Yes</td>\n",
       "      <td>No</td>\n",
       "      <td>3</td>\n",
       "      <td>Yes</td>\n",
       "      <td>...</td>\n",
       "      <td>Yes</td>\n",
       "      <td>Yes</td>\n",
       "      <td>No</td>\n",
       "      <td>Yes</td>\n",
       "      <td>83.9</td>\n",
       "      <td>267.4</td>\n",
       "      <td>Yes</td>\n",
       "      <td>Month-to-month</td>\n",
       "      <td>Fiber optic</td>\n",
       "      <td>Mailed check</td>\n",
       "    </tr>\n",
       "  </tbody>\n",
       "</table>\n",
       "<p>5 rows × 24 columns</p>\n",
       "</div>"
      ],
      "text/plain": [
       "   payment_type_id  internet_service_type_id  contract_type_id customer_id  \\\n",
       "0                2                         1                 2  0002-ORFBO   \n",
       "1                2                         1                 1  0003-MKNFE   \n",
       "2                1                         2                 1  0004-TLHLJ   \n",
       "3                1                         2                 1  0011-IGKFF   \n",
       "4                2                         2                 1  0013-EXCHZ   \n",
       "\n",
       "   gender  senior_citizen partner dependents  tenure phone_service  ...  \\\n",
       "0  Female               0     Yes        Yes       9           Yes  ...   \n",
       "1    Male               0      No         No       9           Yes  ...   \n",
       "2    Male               0      No         No       4           Yes  ...   \n",
       "3    Male               1     Yes         No      13           Yes  ...   \n",
       "4  Female               1     Yes         No       3           Yes  ...   \n",
       "\n",
       "  tech_support streaming_tv streaming_movies paperless_billing  \\\n",
       "0          Yes          Yes               No               Yes   \n",
       "1           No           No              Yes                No   \n",
       "2           No           No               No               Yes   \n",
       "3           No          Yes              Yes               Yes   \n",
       "4          Yes          Yes               No               Yes   \n",
       "\n",
       "  monthly_charges total_charges churn   contract_type  internet_service_type  \\\n",
       "0            65.6         593.3    No        One year                    DSL   \n",
       "1            59.9         542.4    No  Month-to-month                    DSL   \n",
       "2            73.9        280.85   Yes  Month-to-month            Fiber optic   \n",
       "3            98.0       1237.85   Yes  Month-to-month            Fiber optic   \n",
       "4            83.9         267.4   Yes  Month-to-month            Fiber optic   \n",
       "\n",
       "       payment_type  \n",
       "0      Mailed check  \n",
       "1      Mailed check  \n",
       "2  Electronic check  \n",
       "3  Electronic check  \n",
       "4      Mailed check  \n",
       "\n",
       "[5 rows x 24 columns]"
      ]
     },
     "execution_count": 2,
     "metadata": {},
     "output_type": "execute_result"
    }
   ],
   "source": [
    "#getting data from SQL\n",
    "telco = acquire.get_telco_data()\n",
    "telco.head()"
   ]
  },
  {
   "cell_type": "code",
   "execution_count": 3,
   "metadata": {},
   "outputs": [],
   "source": [
    "prepped_telco = prepare.prep_telco(telco)"
   ]
  },
  {
   "cell_type": "code",
   "execution_count": 4,
   "metadata": {},
   "outputs": [],
   "source": [
    "#spliting data\n",
    "train, validate, test = prepare.split_data(prepped_telco)"
   ]
  },
  {
   "cell_type": "code",
   "execution_count": 5,
   "metadata": {},
   "outputs": [],
   "source": [
    "customer_id = test.customer_id"
   ]
  },
  {
   "cell_type": "code",
   "execution_count": 6,
   "metadata": {},
   "outputs": [
    {
     "data": {
      "text/plain": [
       "3160    4531-AUZNK\n",
       "1577    2296-DKZFP\n",
       "6823    9692-TUSXH\n",
       "3615    5129-JLPIS\n",
       "882     1273-MTETI\n",
       "           ...    \n",
       "1097    1597-FZREH\n",
       "6441    9117-SHLZX\n",
       "5985    8441-SHIPE\n",
       "2452    3511-BFTJW\n",
       "983     1428-GTBJJ\n",
       "Name: customer_id, Length: 1409, dtype: object"
      ]
     },
     "execution_count": 6,
     "metadata": {},
     "output_type": "execute_result"
    }
   ],
   "source": [
    "customer_id"
   ]
  },
  {
   "cell_type": "code",
   "execution_count": 7,
   "metadata": {},
   "outputs": [],
   "source": [
    "#isolate target variable\n",
    "def isolate_target():\n",
    "    df_telco = acquire.get_telco_data()\n",
    "    df_telco = prepare.prep_telco(df_telco)\n",
    "    train, validate, test = prepare.split_data(df_telco)\n",
    "\n",
    "    X_Train = train.drop(columns = ['churn_Yes'])\n",
    "    y_Train = train.churn_Yes\n",
    "\n",
    "    X_val = validate.drop(columns = ['churn_Yes'])\n",
    "    y_val = validate.churn_Yes\n",
    "\n",
    "    X_test = test.drop(columns = ['churn_Yes'])\n",
    "    y_test = test.churn_Yes\n",
    "    return X_Train, y_Train, X_val, y_val, X_test, y_test"
   ]
  },
  {
   "cell_type": "markdown",
   "metadata": {},
   "source": [
    "#isolate target variable\n",
    "df_telco = acquire.get_telco_data()\n",
    "df_telco = prepare.prep_telco(df_telco)\n",
    "train, validate, test = prepare.split_data(df_telco)\n",
    "\n",
    "X_Train = train.drop(columns = ['churn_Yes', 'customer_id'])\n",
    "y_Train = train.churn_Yes\n",
    "\n",
    "X_val = validate.drop(columns = ['churn_Yes', 'customer_id'])\n",
    "y_val = validate.churn_Yes\n",
    "\n",
    "X_test = test.drop(columns = ['churn_Yes', 'customer_id'])\n",
    "y_test = test.churn_Yes\n",
    "    "
   ]
  },
  {
   "cell_type": "code",
   "execution_count": 8,
   "metadata": {},
   "outputs": [],
   "source": [
    "X_Train, y_Train, X_val, y_val, X_test, y_test = model_functions.isolate_target()  "
   ]
  },
  {
   "cell_type": "code",
   "execution_count": 9,
   "metadata": {},
   "outputs": [
    {
     "data": {
      "text/plain": [
       "0       0.132971\n",
       "1       0.029069\n",
       "2       0.540055\n",
       "3       0.484610\n",
       "4       0.742450\n",
       "          ...   \n",
       "1404    0.483820\n",
       "1405    0.575062\n",
       "1406    0.003597\n",
       "1407    0.019730\n",
       "1408    0.577849\n",
       "Length: 1409, dtype: float64"
      ]
     },
     "execution_count": 9,
     "metadata": {},
     "output_type": "execute_result"
    }
   ],
   "source": [
    "#running best model\n",
    "rf = RandomForestClassifier(max_depth=9, min_samples_leaf=3, random_state=123)\n",
    "rf.fit(X_Train, y_Train)\n",
    "y_pred = rf.predict(X_test)\n",
    "y_prob = rf.predict_proba(X_test)[:,1]\n",
    "\n",
    "pd.Series(y_pred)\n",
    "pd.Series(y_prob)"
   ]
  },
  {
   "cell_type": "code",
   "execution_count": 10,
   "metadata": {},
   "outputs": [],
   "source": [
    "y_pred = pd.Series(y_pred)\n",
    "y_prob = pd.Series(y_prob)"
   ]
  },
  {
   "cell_type": "code",
   "execution_count": 11,
   "metadata": {},
   "outputs": [
    {
     "data": {
      "text/plain": [
       "0       0\n",
       "1       0\n",
       "2       1\n",
       "3       0\n",
       "4       1\n",
       "       ..\n",
       "1404    0\n",
       "1405    1\n",
       "1406    0\n",
       "1407    0\n",
       "1408    1\n",
       "Length: 1409, dtype: uint8"
      ]
     },
     "execution_count": 11,
     "metadata": {},
     "output_type": "execute_result"
    }
   ],
   "source": [
    "y_pred"
   ]
  },
  {
   "cell_type": "code",
   "execution_count": 12,
   "metadata": {},
   "outputs": [
    {
     "name": "stdout",
     "output_type": "stream",
     "text": [
      "<class 'pandas.core.frame.DataFrame'>\n",
      "Int64Index: 1409 entries, 3160 to 983\n",
      "Data columns (total 30 columns):\n",
      " #   Column                                 Non-Null Count  Dtype  \n",
      "---  ------                                 --------------  -----  \n",
      " 0   senior_citizen                         1409 non-null   int64  \n",
      " 1   tenure                                 1409 non-null   int64  \n",
      " 2   monthly_charges                        1409 non-null   float64\n",
      " 3   total_charges                          1409 non-null   float64\n",
      " 4   gender_Male                            1409 non-null   uint8  \n",
      " 5   partner_Yes                            1409 non-null   uint8  \n",
      " 6   dependents_Yes                         1409 non-null   uint8  \n",
      " 7   phone_service_Yes                      1409 non-null   uint8  \n",
      " 8   paperless_billing_Yes                  1409 non-null   uint8  \n",
      " 9   multiple_lines_No phone service        1409 non-null   uint8  \n",
      " 10  multiple_lines_Yes                     1409 non-null   uint8  \n",
      " 11  online_security_No internet service    1409 non-null   uint8  \n",
      " 12  online_security_Yes                    1409 non-null   uint8  \n",
      " 13  online_backup_No internet service      1409 non-null   uint8  \n",
      " 14  online_backup_Yes                      1409 non-null   uint8  \n",
      " 15  device_protection_No internet service  1409 non-null   uint8  \n",
      " 16  device_protection_Yes                  1409 non-null   uint8  \n",
      " 17  tech_support_No internet service       1409 non-null   uint8  \n",
      " 18  tech_support_Yes                       1409 non-null   uint8  \n",
      " 19  streaming_tv_No internet service       1409 non-null   uint8  \n",
      " 20  streaming_tv_Yes                       1409 non-null   uint8  \n",
      " 21  streaming_movies_No internet service   1409 non-null   uint8  \n",
      " 22  streaming_movies_Yes                   1409 non-null   uint8  \n",
      " 23  contract_type_One year                 1409 non-null   uint8  \n",
      " 24  contract_type_Two year                 1409 non-null   uint8  \n",
      " 25  internet_service_type_Fiber optic      1409 non-null   uint8  \n",
      " 26  internet_service_type_None             1409 non-null   uint8  \n",
      " 27  payment_type_Credit card (automatic)   1409 non-null   uint8  \n",
      " 28  payment_type_Electronic check          1409 non-null   uint8  \n",
      " 29  payment_type_Mailed check              1409 non-null   uint8  \n",
      "dtypes: float64(2), int64(2), uint8(26)\n",
      "memory usage: 90.8 KB\n"
     ]
    }
   ],
   "source": [
    "X_test.info()\n"
   ]
  },
  {
   "cell_type": "code",
   "execution_count": 13,
   "metadata": {},
   "outputs": [],
   "source": [
    "#pd.concat(X_test, axis=0,join='left')"
   ]
  },
  {
   "cell_type": "code",
   "execution_count": 14,
   "metadata": {},
   "outputs": [],
   "source": [
    "df_pred_prob = pd.DataFrame(y_pred,y_prob)\n",
    "\n"
   ]
  },
  {
   "cell_type": "code",
   "execution_count": null,
   "metadata": {},
   "outputs": [],
   "source": []
  },
  {
   "cell_type": "code",
   "execution_count": 15,
   "metadata": {},
   "outputs": [],
   "source": [
    "predictions_csv = pd.DataFrame({\n",
    "                                'customer id': customer_id,\n",
    "                                'probability of churn': y_prob,\n",
    "                                'prediction of churn': y_pred,\n",
    "                                })"
   ]
  },
  {
   "cell_type": "code",
   "execution_count": 16,
   "metadata": {},
   "outputs": [],
   "source": [
    "predictions_csv.to_csv('predictions.csv')"
   ]
  },
  {
   "cell_type": "code",
   "execution_count": 20,
   "metadata": {},
   "outputs": [
    {
     "name": "stdout",
     "output_type": "stream",
     "text": [
      "<class 'pandas.core.series.Series'>\n",
      "Int64Index: 1409 entries, 3160 to 983\n",
      "Series name: customer_id\n",
      "Non-Null Count  Dtype \n",
      "--------------  ----- \n",
      "1409 non-null   object\n",
      "dtypes: object(1)\n",
      "memory usage: 54.3+ KB\n"
     ]
    }
   ],
   "source": [
    "customer_id.info()"
   ]
  },
  {
   "cell_type": "code",
   "execution_count": null,
   "metadata": {},
   "outputs": [],
   "source": []
  }
 ],
 "metadata": {
  "kernelspec": {
   "display_name": "base",
   "language": "python",
   "name": "python3"
  },
  "language_info": {
   "codemirror_mode": {
    "name": "ipython",
    "version": 3
   },
   "file_extension": ".py",
   "mimetype": "text/x-python",
   "name": "python",
   "nbconvert_exporter": "python",
   "pygments_lexer": "ipython3",
   "version": "3.9.13"
  },
  "orig_nbformat": 4,
  "vscode": {
   "interpreter": {
    "hash": "38cca0c38332a56087b24af0bc80247f4fced29cb4f7f437d91dc159adec9c4e"
   }
  }
 },
 "nbformat": 4,
 "nbformat_minor": 2
}
