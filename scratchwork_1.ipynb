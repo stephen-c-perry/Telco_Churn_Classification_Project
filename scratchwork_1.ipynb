{
 "cells": [
  {
   "cell_type": "code",
   "execution_count": 1,
   "metadata": {},
   "outputs": [],
   "source": [
    "#imports\n",
    "\n",
    "import pandas as pd\n",
    "import numpy as np\n",
    "import env\n",
    "import acquire\n",
    "import prepare\n",
    "import matplotlib.pyplot as plt\n",
    "import seaborn as sns\n",
    "from sklearn.model_selection import train_test_split\n",
    "import warnings\n",
    "warnings.filterwarnings(\"ignore\")\n",
    "import scipy.stats as stats\n",
    "%matplotlib inline\n"
   ]
  },
  {
   "cell_type": "code",
   "execution_count": 2,
   "metadata": {},
   "outputs": [],
   "source": [
    "df_telco = acquire.get_telco_data()"
   ]
  },
  {
   "cell_type": "code",
   "execution_count": 3,
   "metadata": {},
   "outputs": [
    {
     "data": {
      "text/html": [
       "<div>\n",
       "<style scoped>\n",
       "    .dataframe tbody tr th:only-of-type {\n",
       "        vertical-align: middle;\n",
       "    }\n",
       "\n",
       "    .dataframe tbody tr th {\n",
       "        vertical-align: top;\n",
       "    }\n",
       "\n",
       "    .dataframe thead th {\n",
       "        text-align: right;\n",
       "    }\n",
       "</style>\n",
       "<table border=\"1\" class=\"dataframe\">\n",
       "  <thead>\n",
       "    <tr style=\"text-align: right;\">\n",
       "      <th></th>\n",
       "      <th>payment_type_id</th>\n",
       "      <th>internet_service_type_id</th>\n",
       "      <th>contract_type_id</th>\n",
       "      <th>customer_id</th>\n",
       "      <th>gender</th>\n",
       "      <th>senior_citizen</th>\n",
       "      <th>partner</th>\n",
       "      <th>dependents</th>\n",
       "      <th>tenure</th>\n",
       "      <th>phone_service</th>\n",
       "      <th>...</th>\n",
       "      <th>tech_support</th>\n",
       "      <th>streaming_tv</th>\n",
       "      <th>streaming_movies</th>\n",
       "      <th>paperless_billing</th>\n",
       "      <th>monthly_charges</th>\n",
       "      <th>total_charges</th>\n",
       "      <th>churn</th>\n",
       "      <th>contract_type</th>\n",
       "      <th>internet_service_type</th>\n",
       "      <th>payment_type</th>\n",
       "    </tr>\n",
       "  </thead>\n",
       "  <tbody>\n",
       "    <tr>\n",
       "      <th>0</th>\n",
       "      <td>2</td>\n",
       "      <td>1</td>\n",
       "      <td>2</td>\n",
       "      <td>0002-ORFBO</td>\n",
       "      <td>Female</td>\n",
       "      <td>0</td>\n",
       "      <td>Yes</td>\n",
       "      <td>Yes</td>\n",
       "      <td>9</td>\n",
       "      <td>Yes</td>\n",
       "      <td>...</td>\n",
       "      <td>Yes</td>\n",
       "      <td>Yes</td>\n",
       "      <td>No</td>\n",
       "      <td>Yes</td>\n",
       "      <td>65.6</td>\n",
       "      <td>593.3</td>\n",
       "      <td>No</td>\n",
       "      <td>One year</td>\n",
       "      <td>DSL</td>\n",
       "      <td>Mailed check</td>\n",
       "    </tr>\n",
       "    <tr>\n",
       "      <th>1</th>\n",
       "      <td>2</td>\n",
       "      <td>1</td>\n",
       "      <td>1</td>\n",
       "      <td>0003-MKNFE</td>\n",
       "      <td>Male</td>\n",
       "      <td>0</td>\n",
       "      <td>No</td>\n",
       "      <td>No</td>\n",
       "      <td>9</td>\n",
       "      <td>Yes</td>\n",
       "      <td>...</td>\n",
       "      <td>No</td>\n",
       "      <td>No</td>\n",
       "      <td>Yes</td>\n",
       "      <td>No</td>\n",
       "      <td>59.9</td>\n",
       "      <td>542.4</td>\n",
       "      <td>No</td>\n",
       "      <td>Month-to-month</td>\n",
       "      <td>DSL</td>\n",
       "      <td>Mailed check</td>\n",
       "    </tr>\n",
       "    <tr>\n",
       "      <th>2</th>\n",
       "      <td>1</td>\n",
       "      <td>2</td>\n",
       "      <td>1</td>\n",
       "      <td>0004-TLHLJ</td>\n",
       "      <td>Male</td>\n",
       "      <td>0</td>\n",
       "      <td>No</td>\n",
       "      <td>No</td>\n",
       "      <td>4</td>\n",
       "      <td>Yes</td>\n",
       "      <td>...</td>\n",
       "      <td>No</td>\n",
       "      <td>No</td>\n",
       "      <td>No</td>\n",
       "      <td>Yes</td>\n",
       "      <td>73.9</td>\n",
       "      <td>280.85</td>\n",
       "      <td>Yes</td>\n",
       "      <td>Month-to-month</td>\n",
       "      <td>Fiber optic</td>\n",
       "      <td>Electronic check</td>\n",
       "    </tr>\n",
       "    <tr>\n",
       "      <th>3</th>\n",
       "      <td>1</td>\n",
       "      <td>2</td>\n",
       "      <td>1</td>\n",
       "      <td>0011-IGKFF</td>\n",
       "      <td>Male</td>\n",
       "      <td>1</td>\n",
       "      <td>Yes</td>\n",
       "      <td>No</td>\n",
       "      <td>13</td>\n",
       "      <td>Yes</td>\n",
       "      <td>...</td>\n",
       "      <td>No</td>\n",
       "      <td>Yes</td>\n",
       "      <td>Yes</td>\n",
       "      <td>Yes</td>\n",
       "      <td>98.0</td>\n",
       "      <td>1237.85</td>\n",
       "      <td>Yes</td>\n",
       "      <td>Month-to-month</td>\n",
       "      <td>Fiber optic</td>\n",
       "      <td>Electronic check</td>\n",
       "    </tr>\n",
       "    <tr>\n",
       "      <th>4</th>\n",
       "      <td>2</td>\n",
       "      <td>2</td>\n",
       "      <td>1</td>\n",
       "      <td>0013-EXCHZ</td>\n",
       "      <td>Female</td>\n",
       "      <td>1</td>\n",
       "      <td>Yes</td>\n",
       "      <td>No</td>\n",
       "      <td>3</td>\n",
       "      <td>Yes</td>\n",
       "      <td>...</td>\n",
       "      <td>Yes</td>\n",
       "      <td>Yes</td>\n",
       "      <td>No</td>\n",
       "      <td>Yes</td>\n",
       "      <td>83.9</td>\n",
       "      <td>267.4</td>\n",
       "      <td>Yes</td>\n",
       "      <td>Month-to-month</td>\n",
       "      <td>Fiber optic</td>\n",
       "      <td>Mailed check</td>\n",
       "    </tr>\n",
       "  </tbody>\n",
       "</table>\n",
       "<p>5 rows × 24 columns</p>\n",
       "</div>"
      ],
      "text/plain": [
       "   payment_type_id  internet_service_type_id  contract_type_id customer_id  \\\n",
       "0                2                         1                 2  0002-ORFBO   \n",
       "1                2                         1                 1  0003-MKNFE   \n",
       "2                1                         2                 1  0004-TLHLJ   \n",
       "3                1                         2                 1  0011-IGKFF   \n",
       "4                2                         2                 1  0013-EXCHZ   \n",
       "\n",
       "   gender  senior_citizen partner dependents  tenure phone_service  ...  \\\n",
       "0  Female               0     Yes        Yes       9           Yes  ...   \n",
       "1    Male               0      No         No       9           Yes  ...   \n",
       "2    Male               0      No         No       4           Yes  ...   \n",
       "3    Male               1     Yes         No      13           Yes  ...   \n",
       "4  Female               1     Yes         No       3           Yes  ...   \n",
       "\n",
       "  tech_support streaming_tv streaming_movies paperless_billing  \\\n",
       "0          Yes          Yes               No               Yes   \n",
       "1           No           No              Yes                No   \n",
       "2           No           No               No               Yes   \n",
       "3           No          Yes              Yes               Yes   \n",
       "4          Yes          Yes               No               Yes   \n",
       "\n",
       "  monthly_charges total_charges churn   contract_type  internet_service_type  \\\n",
       "0            65.6         593.3    No        One year                    DSL   \n",
       "1            59.9         542.4    No  Month-to-month                    DSL   \n",
       "2            73.9        280.85   Yes  Month-to-month            Fiber optic   \n",
       "3            98.0       1237.85   Yes  Month-to-month            Fiber optic   \n",
       "4            83.9         267.4   Yes  Month-to-month            Fiber optic   \n",
       "\n",
       "       payment_type  \n",
       "0      Mailed check  \n",
       "1      Mailed check  \n",
       "2  Electronic check  \n",
       "3  Electronic check  \n",
       "4      Mailed check  \n",
       "\n",
       "[5 rows x 24 columns]"
      ]
     },
     "execution_count": 3,
     "metadata": {},
     "output_type": "execute_result"
    }
   ],
   "source": [
    "df_telco.head()"
   ]
  },
  {
   "cell_type": "code",
   "execution_count": 4,
   "metadata": {},
   "outputs": [],
   "source": [
    "#columns to get dummies\n",
    "#multiple_lines, online_security, online_backup, device_protection, tech_support, streaming_tv, streaming_movies, contract_type, internet_service_type, payment_type\n",
    "#churn change to int"
   ]
  },
  {
   "cell_type": "code",
   "execution_count": 5,
   "metadata": {},
   "outputs": [],
   "source": [
    "def more_dummies(df):\n",
    "    cols_to_dummify = ['multiple_lines', 'online_security', 'online_backup', 'device_protection', 'tech_support', 'streaming_tv', 'streaming_movies,' 'contract_type', 'internet_service_type', 'payment_type']\n",
    "\n",
    "    for col in cols_to_dummify:\n",
    "       df_telco_dummies = pd.get_dummies(cols_to_dummify)\n",
    "    return df_telco_dummies\n",
    "    "
   ]
  },
  {
   "cell_type": "code",
   "execution_count": 6,
   "metadata": {},
   "outputs": [],
   "source": [
    "df_telco_dummies = more_dummies(df_telco)"
   ]
  },
  {
   "cell_type": "code",
   "execution_count": 7,
   "metadata": {},
   "outputs": [],
   "source": [
    "#finish cleaning data, then split (train, validate, test), then explore on the train dataset"
   ]
  },
  {
   "cell_type": "code",
   "execution_count": 8,
   "metadata": {},
   "outputs": [
    {
     "data": {
      "text/plain": [
       "[      payment_type_id  internet_service_type_id  contract_type_id customer_id  \\\n",
       " 4967                3                         2                 3  6990-YNRIO   \n",
       " 3491                2                         3                 1  4946-EDSEW   \n",
       " 3450                3                         1                 3  4891-NLUBA   \n",
       " 5682                1                         2                 2  8008-ESFLK   \n",
       " 5740                2                         3                 2  8076-FEZKJ   \n",
       " ...               ...                       ...               ...         ...   \n",
       " 4180                1                         1                 1  5909-ECHUI   \n",
       " 5398                2                         3                 3  7608-RGIRO   \n",
       " 6465                2                         1                 2  9150-HEPMB   \n",
       " 103                 3                         2                 2  0186-CAERR   \n",
       " 5232                1                         2                 1  7363-QTBIW   \n",
       " \n",
       "       gender  senior_citizen partner dependents  tenure phone_service  ...  \\\n",
       " 4967    Male               0     Yes        Yes      65           Yes  ...   \n",
       " 3491  Female               0     Yes        Yes      11           Yes  ...   \n",
       " 3450  Female               0     Yes        Yes      61            No  ...   \n",
       " 5682  Female               0     Yes         No      53           Yes  ...   \n",
       " 5740    Male               0      No         No      10           Yes  ...   \n",
       " ...      ...             ...     ...        ...     ...           ...  ...   \n",
       " 4180  Female               0      No         No       1           Yes  ...   \n",
       " 5398    Male               0      No        Yes      62           Yes  ...   \n",
       " 6465    Male               0      No         No      56           Yes  ...   \n",
       " 103     Male               0      No         No      71           Yes  ...   \n",
       " 5232  Female               0     Yes         No       9           Yes  ...   \n",
       " \n",
       "              tech_support         streaming_tv     streaming_movies  \\\n",
       " 4967                  Yes                  Yes                  Yes   \n",
       " 3491  No internet service  No internet service  No internet service   \n",
       " 3450                  Yes                  Yes                  Yes   \n",
       " 5682                  Yes                  Yes                  Yes   \n",
       " 5740  No internet service  No internet service  No internet service   \n",
       " ...                   ...                  ...                  ...   \n",
       " 4180                   No                   No                  Yes   \n",
       " 5398  No internet service  No internet service  No internet service   \n",
       " 6465                   No                   No                   No   \n",
       " 103                   Yes                  Yes                  Yes   \n",
       " 5232                   No                   No                  Yes   \n",
       " \n",
       "      paperless_billing monthly_charges total_charges churn   contract_type  \\\n",
       " 4967                No          108.65       6937.95   Yes        Two year   \n",
       " 3491               Yes           19.25         180.3   Yes  Month-to-month   \n",
       " 3450               Yes           61.45       3751.15    No        Two year   \n",
       " 5682                No          110.50        5835.5    No        One year   \n",
       " 5740                No           19.50        225.85    No        One year   \n",
       " ...                ...             ...           ...   ...             ...   \n",
       " 4180               Yes           56.25         56.25   Yes  Month-to-month   \n",
       " 5398               Yes           24.40          1413    No        Two year   \n",
       " 6465                No           52.70        3019.7    No        One year   \n",
       " 103                Yes          116.30       8309.55    No        One year   \n",
       " 5232               Yes           79.75         769.1    No  Month-to-month   \n",
       " \n",
       "       internet_service_type               payment_type  \n",
       " 4967            Fiber optic  Bank transfer (automatic)  \n",
       " 3491                   None               Mailed check  \n",
       " 3450                    DSL  Bank transfer (automatic)  \n",
       " 5682            Fiber optic           Electronic check  \n",
       " 5740                   None               Mailed check  \n",
       " ...                     ...                        ...  \n",
       " 4180                    DSL           Electronic check  \n",
       " 5398                   None               Mailed check  \n",
       " 6465                    DSL               Mailed check  \n",
       " 103             Fiber optic  Bank transfer (automatic)  \n",
       " 5232            Fiber optic           Electronic check  \n",
       " \n",
       " [5282 rows x 24 columns],\n",
       "       payment_type_id  internet_service_type_id  contract_type_id customer_id  \\\n",
       " 3899                1                         1                 1  5482-PLVPE   \n",
       " 1221                4                         2                 2  1810-BOHSY   \n",
       " 5529                2                         3                 1  7785-RDVIG   \n",
       " 5825                2                         1                 2  8200-KLNYW   \n",
       " 2579                1                         2                 2  3685-YLCMQ   \n",
       " ...               ...                       ...               ...         ...   \n",
       " 863                 1                         2                 1  1254-IZEYF   \n",
       " 4429                1                         1                 1  6243-OZGFH   \n",
       " 6961                1                         2                 1  9874-QLCLH   \n",
       " 5125                1                         2                 1  7209-JCUDS   \n",
       " 488                 1                         2                 3  0716-BQNDX   \n",
       " \n",
       "       gender  senior_citizen partner dependents  tenure phone_service  ...  \\\n",
       " 3899  Female               1      No         No       2            No  ...   \n",
       " 1221    Male               0     Yes         No      51           Yes  ...   \n",
       " 5529  Female               0     Yes        Yes       3           Yes  ...   \n",
       " 5825  Female               0     Yes         No      21           Yes  ...   \n",
       " 2579    Male               0      No         No      58           Yes  ...   \n",
       " ...      ...             ...     ...        ...     ...           ...  ...   \n",
       " 863   Female               1      No         No      31           Yes  ...   \n",
       " 4429  Female               0      No         No      23            No  ...   \n",
       " 6961  Female               0     Yes        Yes      17           Yes  ...   \n",
       " 5125    Male               0      No         No      10           Yes  ...   \n",
       " 488     Male               1      No         No      57           Yes  ...   \n",
       " \n",
       "              tech_support         streaming_tv     streaming_movies  \\\n",
       " 3899                   No                   No                   No   \n",
       " 1221                   No                   No                  Yes   \n",
       " 5529  No internet service  No internet service  No internet service   \n",
       " 5825                  Yes                  Yes                  Yes   \n",
       " 2579                  Yes                  Yes                  Yes   \n",
       " ...                   ...                  ...                  ...   \n",
       " 863                    No                  Yes                  Yes   \n",
       " 4429                   No                  Yes                  Yes   \n",
       " 6961                   No                  Yes                  Yes   \n",
       " 5125                   No                  Yes                  Yes   \n",
       " 488                   Yes                   No                  Yes   \n",
       " \n",
       "      paperless_billing monthly_charges total_charges churn   contract_type  \\\n",
       " 3899                No           24.35         41.85   Yes  Month-to-month   \n",
       " 1221               Yes           96.40       4911.05    No        One year   \n",
       " 5529                No           19.30          54.7    No  Month-to-month   \n",
       " 5825                No           80.90       1714.95    No        One year   \n",
       " 2579               Yes          104.65        6219.6   Yes        One year   \n",
       " ...                ...             ...           ...   ...             ...   \n",
       " 863                Yes           99.95       3186.65   Yes  Month-to-month   \n",
       " 4429               Yes           44.95        996.85    No  Month-to-month   \n",
       " 6961               Yes          104.20        1743.5   Yes  Month-to-month   \n",
       " 5125               Yes           94.90       1048.85   Yes  Month-to-month   \n",
       " 488                 No           93.75       5625.55    No        Two year   \n",
       " \n",
       "       internet_service_type             payment_type  \n",
       " 3899                    DSL         Electronic check  \n",
       " 1221            Fiber optic  Credit card (automatic)  \n",
       " 5529                   None             Mailed check  \n",
       " 5825                    DSL             Mailed check  \n",
       " 2579            Fiber optic         Electronic check  \n",
       " ...                     ...                      ...  \n",
       " 863             Fiber optic         Electronic check  \n",
       " 4429                    DSL         Electronic check  \n",
       " 6961            Fiber optic         Electronic check  \n",
       " 5125            Fiber optic         Electronic check  \n",
       " 488             Fiber optic         Electronic check  \n",
       " \n",
       " [1761 rows x 24 columns]]"
      ]
     },
     "execution_count": 8,
     "metadata": {},
     "output_type": "execute_result"
    }
   ],
   "source": [
    "#split data\n",
    "prepare.train_test_split(df_telco)"
   ]
  },
  {
   "cell_type": "code",
   "execution_count": 9,
   "metadata": {},
   "outputs": [],
   "source": [
    "# sns.barplot(x = \"monthly_charges\", y = \"churn\", data = df_telco)\n",
    "# this one would be useful once the dataset is split "
   ]
  },
  {
   "cell_type": "code",
   "execution_count": 10,
   "metadata": {},
   "outputs": [],
   "source": [
    "prepped_telco = prepare.prep_telco(df_telco)\n"
   ]
  },
  {
   "cell_type": "code",
   "execution_count": 11,
   "metadata": {},
   "outputs": [
    {
     "name": "stdout",
     "output_type": "stream",
     "text": [
      "<class 'pandas.core.frame.DataFrame'>\n",
      "Int64Index: 7043 entries, 0 to 7042\n",
      "Data columns (total 32 columns):\n",
      " #   Column                                 Non-Null Count  Dtype  \n",
      "---  ------                                 --------------  -----  \n",
      " 0   customer_id                            7043 non-null   object \n",
      " 1   senior_citizen                         7043 non-null   int64  \n",
      " 2   tenure                                 7043 non-null   int64  \n",
      " 3   monthly_charges                        7043 non-null   float64\n",
      " 4   total_charges                          7043 non-null   float64\n",
      " 5   gender_Male                            7043 non-null   uint8  \n",
      " 6   partner_Yes                            7043 non-null   uint8  \n",
      " 7   dependents_Yes                         7043 non-null   uint8  \n",
      " 8   phone_service_Yes                      7043 non-null   uint8  \n",
      " 9   paperless_billing_Yes                  7043 non-null   uint8  \n",
      " 10  churn_Yes                              7043 non-null   uint8  \n",
      " 11  multiple_lines_No phone service        7043 non-null   uint8  \n",
      " 12  multiple_lines_Yes                     7043 non-null   uint8  \n",
      " 13  online_security_No internet service    7043 non-null   uint8  \n",
      " 14  online_security_Yes                    7043 non-null   uint8  \n",
      " 15  online_backup_No internet service      7043 non-null   uint8  \n",
      " 16  online_backup_Yes                      7043 non-null   uint8  \n",
      " 17  device_protection_No internet service  7043 non-null   uint8  \n",
      " 18  device_protection_Yes                  7043 non-null   uint8  \n",
      " 19  tech_support_No internet service       7043 non-null   uint8  \n",
      " 20  tech_support_Yes                       7043 non-null   uint8  \n",
      " 21  streaming_tv_No internet service       7043 non-null   uint8  \n",
      " 22  streaming_tv_Yes                       7043 non-null   uint8  \n",
      " 23  streaming_movies_No internet service   7043 non-null   uint8  \n",
      " 24  streaming_movies_Yes                   7043 non-null   uint8  \n",
      " 25  contract_type_One year                 7043 non-null   uint8  \n",
      " 26  contract_type_Two year                 7043 non-null   uint8  \n",
      " 27  internet_service_type_Fiber optic      7043 non-null   uint8  \n",
      " 28  internet_service_type_None             7043 non-null   uint8  \n",
      " 29  payment_type_Credit card (automatic)   7043 non-null   uint8  \n",
      " 30  payment_type_Electronic check          7043 non-null   uint8  \n",
      " 31  payment_type_Mailed check              7043 non-null   uint8  \n",
      "dtypes: float64(2), int64(2), object(1), uint8(27)\n",
      "memory usage: 515.8+ KB\n"
     ]
    }
   ],
   "source": [
    "prepped_telco.info()"
   ]
  },
  {
   "cell_type": "code",
   "execution_count": 12,
   "metadata": {},
   "outputs": [
    {
     "data": {
      "text/plain": [
       "[     customer_id  senior_citizen  tenure  monthly_charges  total_charges  \\\n",
       " 5028  7067-KSAZT               1      65           106.25        6979.80   \n",
       " 3815  5365-LLFYV               0       2            45.85         105.60   \n",
       " 2100  3011-WQKSZ               0      19            20.00         377.55   \n",
       " 3939  5543-QDCRY               0       4            56.40         234.85   \n",
       " 2756  3923-CSIHK               1      50            71.05        3444.85   \n",
       " ...          ...             ...     ...              ...            ...   \n",
       " 5636  7945-HLKEA               0      60            64.75        4039.50   \n",
       " 4107  5804-LEPIM               1       2            70.35         139.05   \n",
       " 3617  5130-YPIRV               0      62            72.00        4284.20   \n",
       " 4277  6023-YEBUP               0       3           100.95         329.95   \n",
       " 3950  5564-NEMQO               1       1            75.30          75.30   \n",
       " \n",
       "       gender_Male  partner_Yes  dependents_Yes  phone_service_Yes  \\\n",
       " 5028            0            1               0                  1   \n",
       " 3815            0            0               0                  1   \n",
       " 2100            1            0               1                  1   \n",
       " 3939            1            0               0                  1   \n",
       " 2756            0            1               0                  1   \n",
       " ...           ...          ...             ...                ...   \n",
       " 5636            0            0               0                  1   \n",
       " 4107            0            0               0                  1   \n",
       " 3617            0            1               0                  1   \n",
       " 4277            1            0               0                  1   \n",
       " 3950            0            0               0                  1   \n",
       " \n",
       "       paperless_billing_Yes  ...  streaming_tv_Yes  \\\n",
       " 5028                      1  ...                 1   \n",
       " 3815                      1  ...                 0   \n",
       " 2100                      1  ...                 0   \n",
       " 3939                      1  ...                 1   \n",
       " 2756                      1  ...                 0   \n",
       " ...                     ...  ...               ...   \n",
       " 5636                      0  ...                 0   \n",
       " 4107                      1  ...                 0   \n",
       " 3617                      1  ...                 1   \n",
       " 4277                      1  ...                 1   \n",
       " 3950                      1  ...                 0   \n",
       " \n",
       "       streaming_movies_No internet service  streaming_movies_Yes  \\\n",
       " 5028                                     0                     1   \n",
       " 3815                                     0                     0   \n",
       " 2100                                     1                     0   \n",
       " 3939                                     0                     0   \n",
       " 2756                                     0                     0   \n",
       " ...                                    ...                   ...   \n",
       " 5636                                     0                     0   \n",
       " 4107                                     0                     0   \n",
       " 3617                                     0                     0   \n",
       " 4277                                     0                     1   \n",
       " 3950                                     0                     0   \n",
       " \n",
       "       contract_type_One year  contract_type_Two year  \\\n",
       " 5028                       1                       0   \n",
       " 3815                       0                       0   \n",
       " 2100                       0                       0   \n",
       " 3939                       0                       0   \n",
       " 2756                       0                       0   \n",
       " ...                      ...                     ...   \n",
       " 5636                       1                       0   \n",
       " 4107                       0                       0   \n",
       " 3617                       0                       1   \n",
       " 4277                       0                       0   \n",
       " 3950                       0                       0   \n",
       " \n",
       "       internet_service_type_Fiber optic  internet_service_type_None  \\\n",
       " 5028                                  1                           0   \n",
       " 3815                                  0                           0   \n",
       " 2100                                  0                           1   \n",
       " 3939                                  0                           0   \n",
       " 2756                                  1                           0   \n",
       " ...                                 ...                         ...   \n",
       " 5636                                  0                           0   \n",
       " 4107                                  1                           0   \n",
       " 3617                                  0                           0   \n",
       " 4277                                  1                           0   \n",
       " 3950                                  1                           0   \n",
       " \n",
       "       payment_type_Credit card (automatic)  payment_type_Electronic check  \\\n",
       " 5028                                     0                              1   \n",
       " 3815                                     0                              0   \n",
       " 2100                                     0                              1   \n",
       " 3939                                     0                              1   \n",
       " 2756                                     0                              1   \n",
       " ...                                    ...                            ...   \n",
       " 5636                                     0                              1   \n",
       " 4107                                     0                              1   \n",
       " 3617                                     1                              0   \n",
       " 4277                                     0                              1   \n",
       " 3950                                     0                              0   \n",
       " \n",
       "       payment_type_Mailed check  \n",
       " 5028                          0  \n",
       " 3815                          1  \n",
       " 2100                          0  \n",
       " 3939                          0  \n",
       " 2756                          0  \n",
       " ...                         ...  \n",
       " 5636                          0  \n",
       " 4107                          0  \n",
       " 3617                          0  \n",
       " 4277                          0  \n",
       " 3950                          0  \n",
       " \n",
       " [5282 rows x 32 columns],\n",
       "      customer_id  senior_citizen  tenure  monthly_charges  total_charges  \\\n",
       " 5097  7161-DFHUF               0      71            23.85        1672.10   \n",
       " 2823  4013-GUXND               0       1            20.80          20.80   \n",
       " 33    0052-YNYOT               0      67            20.55        1343.40   \n",
       " 6304  8917-SZTTJ               0      60            19.65        1161.75   \n",
       " 4037  5693-PIPCS               0      41            99.65        4220.35   \n",
       " ...          ...             ...     ...              ...            ...   \n",
       " 5450  7668-XCFYV               1      17            92.55        1614.70   \n",
       " 5475  7706-YLMQA               0      70            19.70        1341.50   \n",
       " 5404  7614-QVWQL               0      49            51.80        2541.25   \n",
       " 363   0533-BNWKF               1      55            85.45        4874.70   \n",
       " 6750  9581-GVBXT               0      59            34.80        1980.30   \n",
       " \n",
       "       gender_Male  partner_Yes  dependents_Yes  phone_service_Yes  \\\n",
       " 5097            0            1               0                  1   \n",
       " 2823            1            0               0                  1   \n",
       " 33              0            0               0                  1   \n",
       " 6304            1            1               1                  1   \n",
       " 4037            1            0               0                  1   \n",
       " ...           ...          ...             ...                ...   \n",
       " 5450            0            1               0                  1   \n",
       " 5475            0            0               0                  1   \n",
       " 5404            1            1               1                  0   \n",
       " 363             0            1               0                  1   \n",
       " 6750            1            1               1                  0   \n",
       " \n",
       "       paperless_billing_Yes  ...  streaming_tv_Yes  \\\n",
       " 5097                      0  ...                 0   \n",
       " 2823                      0  ...                 0   \n",
       " 33                        0  ...                 0   \n",
       " 6304                      0  ...                 0   \n",
       " 4037                      1  ...                 1   \n",
       " ...                     ...  ...               ...   \n",
       " 5450                      1  ...                 1   \n",
       " 5475                      0  ...                 0   \n",
       " 5404                      1  ...                 1   \n",
       " 363                       1  ...                 0   \n",
       " 6750                      0  ...                 0   \n",
       " \n",
       "       streaming_movies_No internet service  streaming_movies_Yes  \\\n",
       " 5097                                     1                     0   \n",
       " 2823                                     1                     0   \n",
       " 33                                       1                     0   \n",
       " 6304                                     1                     0   \n",
       " 4037                                     0                     1   \n",
       " ...                                    ...                   ...   \n",
       " 5450                                     0                     1   \n",
       " 5475                                     1                     0   \n",
       " 5404                                     0                     1   \n",
       " 363                                      0                     0   \n",
       " 6750                                     0                     0   \n",
       " \n",
       "       contract_type_One year  contract_type_Two year  \\\n",
       " 5097                       0                       1   \n",
       " 2823                       0                       0   \n",
       " 33                         1                       0   \n",
       " 6304                       0                       1   \n",
       " 4037                       0                       1   \n",
       " ...                      ...                     ...   \n",
       " 5450                       0                       0   \n",
       " 5475                       1                       0   \n",
       " 5404                       1                       0   \n",
       " 363                        0                       0   \n",
       " 6750                       1                       0   \n",
       " \n",
       "       internet_service_type_Fiber optic  internet_service_type_None  \\\n",
       " 5097                                  0                           1   \n",
       " 2823                                  0                           1   \n",
       " 33                                    0                           1   \n",
       " 6304                                  0                           1   \n",
       " 4037                                  1                           0   \n",
       " ...                                 ...                         ...   \n",
       " 5450                                  1                           0   \n",
       " 5475                                  0                           1   \n",
       " 5404                                  0                           0   \n",
       " 363                                   1                           0   \n",
       " 6750                                  0                           0   \n",
       " \n",
       "       payment_type_Credit card (automatic)  payment_type_Electronic check  \\\n",
       " 5097                                     0                              0   \n",
       " 2823                                     0                              0   \n",
       " 33                                       0                              1   \n",
       " 6304                                     1                              0   \n",
       " 4037                                     1                              0   \n",
       " ...                                    ...                            ...   \n",
       " 5450                                     0                              1   \n",
       " 5475                                     0                              0   \n",
       " 5404                                     0                              0   \n",
       " 363                                      0                              1   \n",
       " 6750                                     0                              0   \n",
       " \n",
       "       payment_type_Mailed check  \n",
       " 5097                          1  \n",
       " 2823                          1  \n",
       " 33                            0  \n",
       " 6304                          0  \n",
       " 4037                          0  \n",
       " ...                         ...  \n",
       " 5450                          0  \n",
       " 5475                          0  \n",
       " 5404                          0  \n",
       " 363                           0  \n",
       " 6750                          1  \n",
       " \n",
       " [1761 rows x 32 columns],\n",
       " 5028    1\n",
       " 3815    0\n",
       " 2100    0\n",
       " 3939    0\n",
       " 2756    1\n",
       "        ..\n",
       " 5636    0\n",
       " 4107    1\n",
       " 3617    0\n",
       " 4277    1\n",
       " 3950    1\n",
       " Name: churn_Yes, Length: 5282, dtype: uint8,\n",
       " 5097    0\n",
       " 2823    0\n",
       " 33      0\n",
       " 6304    0\n",
       " 4037    0\n",
       "        ..\n",
       " 5450    0\n",
       " 5475    0\n",
       " 5404    1\n",
       " 363     1\n",
       " 6750    0\n",
       " Name: churn_Yes, Length: 1761, dtype: uint8]"
      ]
     },
     "execution_count": 12,
     "metadata": {},
     "output_type": "execute_result"
    }
   ],
   "source": [
    "prepare.train_test_split(prepped_telco, prepped_telco.churn_Yes)"
   ]
  },
  {
   "cell_type": "code",
   "execution_count": 13,
   "metadata": {},
   "outputs": [],
   "source": [
    "def split_data(df):\n",
    "    '''\n",
    "    take in a DataFrame and return train, validate, and test DataFrames; stratify on churn_Yes.\n",
    "    return train, validate, test DataFrames.\n",
    "    '''\n",
    "    train_validate, test = train_test_split(df, test_size=.2, random_state=123, stratify=df.churn_Yes)\n",
    "    train, validate = train_test_split(train_validate, \n",
    "                                       test_size=.3, \n",
    "                                       random_state=123, \n",
    "                                       stratify=train_validate.churn_Yes)\n",
    "    return train, validate, test\n"
   ]
  },
  {
   "cell_type": "code",
   "execution_count": 14,
   "metadata": {},
   "outputs": [],
   "source": [
    "train, validate, test = split_data(prepped_telco)"
   ]
  },
  {
   "cell_type": "code",
   "execution_count": 15,
   "metadata": {},
   "outputs": [
    {
     "data": {
      "text/html": [
       "<div>\n",
       "<style scoped>\n",
       "    .dataframe tbody tr th:only-of-type {\n",
       "        vertical-align: middle;\n",
       "    }\n",
       "\n",
       "    .dataframe tbody tr th {\n",
       "        vertical-align: top;\n",
       "    }\n",
       "\n",
       "    .dataframe thead th {\n",
       "        text-align: right;\n",
       "    }\n",
       "</style>\n",
       "<table border=\"1\" class=\"dataframe\">\n",
       "  <thead>\n",
       "    <tr style=\"text-align: right;\">\n",
       "      <th></th>\n",
       "      <th>customer_id</th>\n",
       "      <th>senior_citizen</th>\n",
       "      <th>tenure</th>\n",
       "      <th>monthly_charges</th>\n",
       "      <th>total_charges</th>\n",
       "      <th>gender_Male</th>\n",
       "      <th>partner_Yes</th>\n",
       "      <th>dependents_Yes</th>\n",
       "      <th>phone_service_Yes</th>\n",
       "      <th>paperless_billing_Yes</th>\n",
       "      <th>...</th>\n",
       "      <th>streaming_tv_Yes</th>\n",
       "      <th>streaming_movies_No internet service</th>\n",
       "      <th>streaming_movies_Yes</th>\n",
       "      <th>contract_type_One year</th>\n",
       "      <th>contract_type_Two year</th>\n",
       "      <th>internet_service_type_Fiber optic</th>\n",
       "      <th>internet_service_type_None</th>\n",
       "      <th>payment_type_Credit card (automatic)</th>\n",
       "      <th>payment_type_Electronic check</th>\n",
       "      <th>payment_type_Mailed check</th>\n",
       "    </tr>\n",
       "  </thead>\n",
       "  <tbody>\n",
       "    <tr>\n",
       "      <th>5310</th>\n",
       "      <td>7503-MIOGA</td>\n",
       "      <td>1</td>\n",
       "      <td>72</td>\n",
       "      <td>89.85</td>\n",
       "      <td>6697.35</td>\n",
       "      <td>0</td>\n",
       "      <td>1</td>\n",
       "      <td>0</td>\n",
       "      <td>1</td>\n",
       "      <td>1</td>\n",
       "      <td>...</td>\n",
       "      <td>1</td>\n",
       "      <td>0</td>\n",
       "      <td>1</td>\n",
       "      <td>0</td>\n",
       "      <td>1</td>\n",
       "      <td>0</td>\n",
       "      <td>0</td>\n",
       "      <td>0</td>\n",
       "      <td>0</td>\n",
       "      <td>0</td>\n",
       "    </tr>\n",
       "    <tr>\n",
       "      <th>3790</th>\n",
       "      <td>5329-KRDTM</td>\n",
       "      <td>1</td>\n",
       "      <td>72</td>\n",
       "      <td>77.35</td>\n",
       "      <td>5396.25</td>\n",
       "      <td>1</td>\n",
       "      <td>1</td>\n",
       "      <td>0</td>\n",
       "      <td>1</td>\n",
       "      <td>0</td>\n",
       "      <td>...</td>\n",
       "      <td>1</td>\n",
       "      <td>0</td>\n",
       "      <td>0</td>\n",
       "      <td>0</td>\n",
       "      <td>1</td>\n",
       "      <td>0</td>\n",
       "      <td>0</td>\n",
       "      <td>1</td>\n",
       "      <td>0</td>\n",
       "      <td>0</td>\n",
       "    </tr>\n",
       "    <tr>\n",
       "      <th>4398</th>\n",
       "      <td>6199-IWKGC</td>\n",
       "      <td>1</td>\n",
       "      <td>46</td>\n",
       "      <td>100.25</td>\n",
       "      <td>4753.85</td>\n",
       "      <td>0</td>\n",
       "      <td>1</td>\n",
       "      <td>0</td>\n",
       "      <td>1</td>\n",
       "      <td>0</td>\n",
       "      <td>...</td>\n",
       "      <td>1</td>\n",
       "      <td>0</td>\n",
       "      <td>1</td>\n",
       "      <td>1</td>\n",
       "      <td>0</td>\n",
       "      <td>1</td>\n",
       "      <td>0</td>\n",
       "      <td>0</td>\n",
       "      <td>1</td>\n",
       "      <td>0</td>\n",
       "    </tr>\n",
       "    <tr>\n",
       "      <th>2635</th>\n",
       "      <td>3748-FVMZZ</td>\n",
       "      <td>0</td>\n",
       "      <td>4</td>\n",
       "      <td>40.05</td>\n",
       "      <td>162.45</td>\n",
       "      <td>1</td>\n",
       "      <td>0</td>\n",
       "      <td>0</td>\n",
       "      <td>0</td>\n",
       "      <td>1</td>\n",
       "      <td>...</td>\n",
       "      <td>0</td>\n",
       "      <td>0</td>\n",
       "      <td>1</td>\n",
       "      <td>0</td>\n",
       "      <td>0</td>\n",
       "      <td>0</td>\n",
       "      <td>0</td>\n",
       "      <td>0</td>\n",
       "      <td>1</td>\n",
       "      <td>0</td>\n",
       "    </tr>\n",
       "    <tr>\n",
       "      <th>2986</th>\n",
       "      <td>4280-DLSHD</td>\n",
       "      <td>0</td>\n",
       "      <td>8</td>\n",
       "      <td>54.75</td>\n",
       "      <td>445.85</td>\n",
       "      <td>1</td>\n",
       "      <td>1</td>\n",
       "      <td>0</td>\n",
       "      <td>1</td>\n",
       "      <td>1</td>\n",
       "      <td>...</td>\n",
       "      <td>0</td>\n",
       "      <td>0</td>\n",
       "      <td>0</td>\n",
       "      <td>0</td>\n",
       "      <td>0</td>\n",
       "      <td>0</td>\n",
       "      <td>0</td>\n",
       "      <td>0</td>\n",
       "      <td>0</td>\n",
       "      <td>1</td>\n",
       "    </tr>\n",
       "    <tr>\n",
       "      <th>...</th>\n",
       "      <td>...</td>\n",
       "      <td>...</td>\n",
       "      <td>...</td>\n",
       "      <td>...</td>\n",
       "      <td>...</td>\n",
       "      <td>...</td>\n",
       "      <td>...</td>\n",
       "      <td>...</td>\n",
       "      <td>...</td>\n",
       "      <td>...</td>\n",
       "      <td>...</td>\n",
       "      <td>...</td>\n",
       "      <td>...</td>\n",
       "      <td>...</td>\n",
       "      <td>...</td>\n",
       "      <td>...</td>\n",
       "      <td>...</td>\n",
       "      <td>...</td>\n",
       "      <td>...</td>\n",
       "      <td>...</td>\n",
       "      <td>...</td>\n",
       "    </tr>\n",
       "    <tr>\n",
       "      <th>6230</th>\n",
       "      <td>8809-RIHDD</td>\n",
       "      <td>0</td>\n",
       "      <td>72</td>\n",
       "      <td>103.40</td>\n",
       "      <td>7372.65</td>\n",
       "      <td>1</td>\n",
       "      <td>1</td>\n",
       "      <td>1</td>\n",
       "      <td>1</td>\n",
       "      <td>1</td>\n",
       "      <td>...</td>\n",
       "      <td>1</td>\n",
       "      <td>0</td>\n",
       "      <td>1</td>\n",
       "      <td>0</td>\n",
       "      <td>1</td>\n",
       "      <td>1</td>\n",
       "      <td>0</td>\n",
       "      <td>0</td>\n",
       "      <td>1</td>\n",
       "      <td>0</td>\n",
       "    </tr>\n",
       "    <tr>\n",
       "      <th>356</th>\n",
       "      <td>0523-VNGTF</td>\n",
       "      <td>1</td>\n",
       "      <td>52</td>\n",
       "      <td>50.50</td>\n",
       "      <td>2566.30</td>\n",
       "      <td>0</td>\n",
       "      <td>0</td>\n",
       "      <td>0</td>\n",
       "      <td>0</td>\n",
       "      <td>1</td>\n",
       "      <td>...</td>\n",
       "      <td>1</td>\n",
       "      <td>0</td>\n",
       "      <td>0</td>\n",
       "      <td>0</td>\n",
       "      <td>0</td>\n",
       "      <td>0</td>\n",
       "      <td>0</td>\n",
       "      <td>0</td>\n",
       "      <td>1</td>\n",
       "      <td>0</td>\n",
       "    </tr>\n",
       "    <tr>\n",
       "      <th>2128</th>\n",
       "      <td>3058-HJCUY</td>\n",
       "      <td>0</td>\n",
       "      <td>41</td>\n",
       "      <td>102.60</td>\n",
       "      <td>4213.35</td>\n",
       "      <td>1</td>\n",
       "      <td>1</td>\n",
       "      <td>1</td>\n",
       "      <td>1</td>\n",
       "      <td>1</td>\n",
       "      <td>...</td>\n",
       "      <td>1</td>\n",
       "      <td>0</td>\n",
       "      <td>1</td>\n",
       "      <td>1</td>\n",
       "      <td>0</td>\n",
       "      <td>1</td>\n",
       "      <td>0</td>\n",
       "      <td>0</td>\n",
       "      <td>1</td>\n",
       "      <td>0</td>\n",
       "    </tr>\n",
       "    <tr>\n",
       "      <th>3586</th>\n",
       "      <td>5081-NWSUP</td>\n",
       "      <td>0</td>\n",
       "      <td>10</td>\n",
       "      <td>64.90</td>\n",
       "      <td>685.55</td>\n",
       "      <td>0</td>\n",
       "      <td>0</td>\n",
       "      <td>0</td>\n",
       "      <td>1</td>\n",
       "      <td>0</td>\n",
       "      <td>...</td>\n",
       "      <td>0</td>\n",
       "      <td>0</td>\n",
       "      <td>1</td>\n",
       "      <td>1</td>\n",
       "      <td>0</td>\n",
       "      <td>0</td>\n",
       "      <td>0</td>\n",
       "      <td>0</td>\n",
       "      <td>0</td>\n",
       "      <td>1</td>\n",
       "    </tr>\n",
       "    <tr>\n",
       "      <th>6817</th>\n",
       "      <td>9681-KYGYB</td>\n",
       "      <td>1</td>\n",
       "      <td>49</td>\n",
       "      <td>88.20</td>\n",
       "      <td>4159.45</td>\n",
       "      <td>1</td>\n",
       "      <td>1</td>\n",
       "      <td>0</td>\n",
       "      <td>1</td>\n",
       "      <td>1</td>\n",
       "      <td>...</td>\n",
       "      <td>0</td>\n",
       "      <td>0</td>\n",
       "      <td>0</td>\n",
       "      <td>0</td>\n",
       "      <td>0</td>\n",
       "      <td>1</td>\n",
       "      <td>0</td>\n",
       "      <td>0</td>\n",
       "      <td>1</td>\n",
       "      <td>0</td>\n",
       "    </tr>\n",
       "  </tbody>\n",
       "</table>\n",
       "<p>3943 rows × 32 columns</p>\n",
       "</div>"
      ],
      "text/plain": [
       "     customer_id  senior_citizen  tenure  monthly_charges  total_charges  \\\n",
       "5310  7503-MIOGA               1      72            89.85        6697.35   \n",
       "3790  5329-KRDTM               1      72            77.35        5396.25   \n",
       "4398  6199-IWKGC               1      46           100.25        4753.85   \n",
       "2635  3748-FVMZZ               0       4            40.05         162.45   \n",
       "2986  4280-DLSHD               0       8            54.75         445.85   \n",
       "...          ...             ...     ...              ...            ...   \n",
       "6230  8809-RIHDD               0      72           103.40        7372.65   \n",
       "356   0523-VNGTF               1      52            50.50        2566.30   \n",
       "2128  3058-HJCUY               0      41           102.60        4213.35   \n",
       "3586  5081-NWSUP               0      10            64.90         685.55   \n",
       "6817  9681-KYGYB               1      49            88.20        4159.45   \n",
       "\n",
       "      gender_Male  partner_Yes  dependents_Yes  phone_service_Yes  \\\n",
       "5310            0            1               0                  1   \n",
       "3790            1            1               0                  1   \n",
       "4398            0            1               0                  1   \n",
       "2635            1            0               0                  0   \n",
       "2986            1            1               0                  1   \n",
       "...           ...          ...             ...                ...   \n",
       "6230            1            1               1                  1   \n",
       "356             0            0               0                  0   \n",
       "2128            1            1               1                  1   \n",
       "3586            0            0               0                  1   \n",
       "6817            1            1               0                  1   \n",
       "\n",
       "      paperless_billing_Yes  ...  streaming_tv_Yes  \\\n",
       "5310                      1  ...                 1   \n",
       "3790                      0  ...                 1   \n",
       "4398                      0  ...                 1   \n",
       "2635                      1  ...                 0   \n",
       "2986                      1  ...                 0   \n",
       "...                     ...  ...               ...   \n",
       "6230                      1  ...                 1   \n",
       "356                       1  ...                 1   \n",
       "2128                      1  ...                 1   \n",
       "3586                      0  ...                 0   \n",
       "6817                      1  ...                 0   \n",
       "\n",
       "      streaming_movies_No internet service  streaming_movies_Yes  \\\n",
       "5310                                     0                     1   \n",
       "3790                                     0                     0   \n",
       "4398                                     0                     1   \n",
       "2635                                     0                     1   \n",
       "2986                                     0                     0   \n",
       "...                                    ...                   ...   \n",
       "6230                                     0                     1   \n",
       "356                                      0                     0   \n",
       "2128                                     0                     1   \n",
       "3586                                     0                     1   \n",
       "6817                                     0                     0   \n",
       "\n",
       "      contract_type_One year  contract_type_Two year  \\\n",
       "5310                       0                       1   \n",
       "3790                       0                       1   \n",
       "4398                       1                       0   \n",
       "2635                       0                       0   \n",
       "2986                       0                       0   \n",
       "...                      ...                     ...   \n",
       "6230                       0                       1   \n",
       "356                        0                       0   \n",
       "2128                       1                       0   \n",
       "3586                       1                       0   \n",
       "6817                       0                       0   \n",
       "\n",
       "      internet_service_type_Fiber optic  internet_service_type_None  \\\n",
       "5310                                  0                           0   \n",
       "3790                                  0                           0   \n",
       "4398                                  1                           0   \n",
       "2635                                  0                           0   \n",
       "2986                                  0                           0   \n",
       "...                                 ...                         ...   \n",
       "6230                                  1                           0   \n",
       "356                                   0                           0   \n",
       "2128                                  1                           0   \n",
       "3586                                  0                           0   \n",
       "6817                                  1                           0   \n",
       "\n",
       "      payment_type_Credit card (automatic)  payment_type_Electronic check  \\\n",
       "5310                                     0                              0   \n",
       "3790                                     1                              0   \n",
       "4398                                     0                              1   \n",
       "2635                                     0                              1   \n",
       "2986                                     0                              0   \n",
       "...                                    ...                            ...   \n",
       "6230                                     0                              1   \n",
       "356                                      0                              1   \n",
       "2128                                     0                              1   \n",
       "3586                                     0                              0   \n",
       "6817                                     0                              1   \n",
       "\n",
       "      payment_type_Mailed check  \n",
       "5310                          0  \n",
       "3790                          0  \n",
       "4398                          0  \n",
       "2635                          0  \n",
       "2986                          1  \n",
       "...                         ...  \n",
       "6230                          0  \n",
       "356                           0  \n",
       "2128                          0  \n",
       "3586                          1  \n",
       "6817                          0  \n",
       "\n",
       "[3943 rows x 32 columns]"
      ]
     },
     "execution_count": 15,
     "metadata": {},
     "output_type": "execute_result"
    }
   ],
   "source": [
    "train"
   ]
  },
  {
   "cell_type": "code",
   "execution_count": 16,
   "metadata": {},
   "outputs": [
    {
     "data": {
      "text/html": [
       "<div>\n",
       "<style scoped>\n",
       "    .dataframe tbody tr th:only-of-type {\n",
       "        vertical-align: middle;\n",
       "    }\n",
       "\n",
       "    .dataframe tbody tr th {\n",
       "        vertical-align: top;\n",
       "    }\n",
       "\n",
       "    .dataframe thead th {\n",
       "        text-align: right;\n",
       "    }\n",
       "</style>\n",
       "<table border=\"1\" class=\"dataframe\">\n",
       "  <thead>\n",
       "    <tr style=\"text-align: right;\">\n",
       "      <th></th>\n",
       "      <th>customer_id</th>\n",
       "      <th>senior_citizen</th>\n",
       "      <th>tenure</th>\n",
       "      <th>monthly_charges</th>\n",
       "      <th>total_charges</th>\n",
       "      <th>gender_Male</th>\n",
       "      <th>partner_Yes</th>\n",
       "      <th>dependents_Yes</th>\n",
       "      <th>phone_service_Yes</th>\n",
       "      <th>paperless_billing_Yes</th>\n",
       "      <th>...</th>\n",
       "      <th>streaming_tv_Yes</th>\n",
       "      <th>streaming_movies_No internet service</th>\n",
       "      <th>streaming_movies_Yes</th>\n",
       "      <th>contract_type_One year</th>\n",
       "      <th>contract_type_Two year</th>\n",
       "      <th>internet_service_type_Fiber optic</th>\n",
       "      <th>internet_service_type_None</th>\n",
       "      <th>payment_type_Credit card (automatic)</th>\n",
       "      <th>payment_type_Electronic check</th>\n",
       "      <th>payment_type_Mailed check</th>\n",
       "    </tr>\n",
       "  </thead>\n",
       "  <tbody>\n",
       "    <tr>\n",
       "      <th>720</th>\n",
       "      <td>1062-LHZOD</td>\n",
       "      <td>0</td>\n",
       "      <td>1</td>\n",
       "      <td>69.90</td>\n",
       "      <td>69.90</td>\n",
       "      <td>1</td>\n",
       "      <td>1</td>\n",
       "      <td>1</td>\n",
       "      <td>1</td>\n",
       "      <td>1</td>\n",
       "      <td>...</td>\n",
       "      <td>0</td>\n",
       "      <td>0</td>\n",
       "      <td>0</td>\n",
       "      <td>0</td>\n",
       "      <td>0</td>\n",
       "      <td>1</td>\n",
       "      <td>0</td>\n",
       "      <td>0</td>\n",
       "      <td>0</td>\n",
       "      <td>1</td>\n",
       "    </tr>\n",
       "    <tr>\n",
       "      <th>5832</th>\n",
       "      <td>8205-OTCHB</td>\n",
       "      <td>0</td>\n",
       "      <td>22</td>\n",
       "      <td>43.75</td>\n",
       "      <td>903.60</td>\n",
       "      <td>1</td>\n",
       "      <td>0</td>\n",
       "      <td>0</td>\n",
       "      <td>0</td>\n",
       "      <td>1</td>\n",
       "      <td>...</td>\n",
       "      <td>0</td>\n",
       "      <td>0</td>\n",
       "      <td>1</td>\n",
       "      <td>1</td>\n",
       "      <td>0</td>\n",
       "      <td>0</td>\n",
       "      <td>0</td>\n",
       "      <td>0</td>\n",
       "      <td>0</td>\n",
       "      <td>0</td>\n",
       "    </tr>\n",
       "    <tr>\n",
       "      <th>4378</th>\n",
       "      <td>6173-GOLSU</td>\n",
       "      <td>1</td>\n",
       "      <td>67</td>\n",
       "      <td>94.65</td>\n",
       "      <td>60790.00</td>\n",
       "      <td>1</td>\n",
       "      <td>1</td>\n",
       "      <td>0</td>\n",
       "      <td>1</td>\n",
       "      <td>1</td>\n",
       "      <td>...</td>\n",
       "      <td>1</td>\n",
       "      <td>0</td>\n",
       "      <td>1</td>\n",
       "      <td>0</td>\n",
       "      <td>0</td>\n",
       "      <td>1</td>\n",
       "      <td>0</td>\n",
       "      <td>1</td>\n",
       "      <td>0</td>\n",
       "      <td>0</td>\n",
       "    </tr>\n",
       "    <tr>\n",
       "      <th>5553</th>\n",
       "      <td>7817-OMJNA</td>\n",
       "      <td>0</td>\n",
       "      <td>14</td>\n",
       "      <td>20.40</td>\n",
       "      <td>275.70</td>\n",
       "      <td>1</td>\n",
       "      <td>0</td>\n",
       "      <td>0</td>\n",
       "      <td>1</td>\n",
       "      <td>0</td>\n",
       "      <td>...</td>\n",
       "      <td>0</td>\n",
       "      <td>1</td>\n",
       "      <td>0</td>\n",
       "      <td>1</td>\n",
       "      <td>0</td>\n",
       "      <td>0</td>\n",
       "      <td>1</td>\n",
       "      <td>0</td>\n",
       "      <td>0</td>\n",
       "      <td>0</td>\n",
       "    </tr>\n",
       "    <tr>\n",
       "      <th>482</th>\n",
       "      <td>0702-PGIBZ</td>\n",
       "      <td>0</td>\n",
       "      <td>4</td>\n",
       "      <td>101.70</td>\n",
       "      <td>364.55</td>\n",
       "      <td>1</td>\n",
       "      <td>0</td>\n",
       "      <td>1</td>\n",
       "      <td>1</td>\n",
       "      <td>1</td>\n",
       "      <td>...</td>\n",
       "      <td>1</td>\n",
       "      <td>0</td>\n",
       "      <td>1</td>\n",
       "      <td>0</td>\n",
       "      <td>0</td>\n",
       "      <td>1</td>\n",
       "      <td>0</td>\n",
       "      <td>0</td>\n",
       "      <td>1</td>\n",
       "      <td>0</td>\n",
       "    </tr>\n",
       "    <tr>\n",
       "      <th>...</th>\n",
       "      <td>...</td>\n",
       "      <td>...</td>\n",
       "      <td>...</td>\n",
       "      <td>...</td>\n",
       "      <td>...</td>\n",
       "      <td>...</td>\n",
       "      <td>...</td>\n",
       "      <td>...</td>\n",
       "      <td>...</td>\n",
       "      <td>...</td>\n",
       "      <td>...</td>\n",
       "      <td>...</td>\n",
       "      <td>...</td>\n",
       "      <td>...</td>\n",
       "      <td>...</td>\n",
       "      <td>...</td>\n",
       "      <td>...</td>\n",
       "      <td>...</td>\n",
       "      <td>...</td>\n",
       "      <td>...</td>\n",
       "      <td>...</td>\n",
       "    </tr>\n",
       "    <tr>\n",
       "      <th>4506</th>\n",
       "      <td>6352-GIGGQ</td>\n",
       "      <td>0</td>\n",
       "      <td>67</td>\n",
       "      <td>88.80</td>\n",
       "      <td>5903.15</td>\n",
       "      <td>1</td>\n",
       "      <td>0</td>\n",
       "      <td>0</td>\n",
       "      <td>1</td>\n",
       "      <td>1</td>\n",
       "      <td>...</td>\n",
       "      <td>1</td>\n",
       "      <td>0</td>\n",
       "      <td>1</td>\n",
       "      <td>1</td>\n",
       "      <td>0</td>\n",
       "      <td>0</td>\n",
       "      <td>0</td>\n",
       "      <td>0</td>\n",
       "      <td>0</td>\n",
       "      <td>0</td>\n",
       "    </tr>\n",
       "    <tr>\n",
       "      <th>1602</th>\n",
       "      <td>2332-EFBJY</td>\n",
       "      <td>0</td>\n",
       "      <td>16</td>\n",
       "      <td>19.70</td>\n",
       "      <td>342.40</td>\n",
       "      <td>1</td>\n",
       "      <td>0</td>\n",
       "      <td>0</td>\n",
       "      <td>1</td>\n",
       "      <td>1</td>\n",
       "      <td>...</td>\n",
       "      <td>0</td>\n",
       "      <td>1</td>\n",
       "      <td>0</td>\n",
       "      <td>0</td>\n",
       "      <td>0</td>\n",
       "      <td>0</td>\n",
       "      <td>1</td>\n",
       "      <td>0</td>\n",
       "      <td>0</td>\n",
       "      <td>1</td>\n",
       "    </tr>\n",
       "    <tr>\n",
       "      <th>583</th>\n",
       "      <td>0856-NAOES</td>\n",
       "      <td>0</td>\n",
       "      <td>6</td>\n",
       "      <td>60.90</td>\n",
       "      <td>414.10</td>\n",
       "      <td>1</td>\n",
       "      <td>0</td>\n",
       "      <td>0</td>\n",
       "      <td>1</td>\n",
       "      <td>0</td>\n",
       "      <td>...</td>\n",
       "      <td>1</td>\n",
       "      <td>0</td>\n",
       "      <td>0</td>\n",
       "      <td>0</td>\n",
       "      <td>0</td>\n",
       "      <td>0</td>\n",
       "      <td>0</td>\n",
       "      <td>0</td>\n",
       "      <td>0</td>\n",
       "      <td>1</td>\n",
       "    </tr>\n",
       "    <tr>\n",
       "      <th>6134</th>\n",
       "      <td>8690-UPCZI</td>\n",
       "      <td>0</td>\n",
       "      <td>29</td>\n",
       "      <td>69.05</td>\n",
       "      <td>1958.45</td>\n",
       "      <td>1</td>\n",
       "      <td>1</td>\n",
       "      <td>1</td>\n",
       "      <td>1</td>\n",
       "      <td>0</td>\n",
       "      <td>...</td>\n",
       "      <td>1</td>\n",
       "      <td>0</td>\n",
       "      <td>0</td>\n",
       "      <td>1</td>\n",
       "      <td>0</td>\n",
       "      <td>0</td>\n",
       "      <td>0</td>\n",
       "      <td>0</td>\n",
       "      <td>0</td>\n",
       "      <td>0</td>\n",
       "    </tr>\n",
       "    <tr>\n",
       "      <th>3333</th>\n",
       "      <td>4749-OJKQU</td>\n",
       "      <td>0</td>\n",
       "      <td>4</td>\n",
       "      <td>75.65</td>\n",
       "      <td>302.35</td>\n",
       "      <td>0</td>\n",
       "      <td>0</td>\n",
       "      <td>0</td>\n",
       "      <td>1</td>\n",
       "      <td>1</td>\n",
       "      <td>...</td>\n",
       "      <td>0</td>\n",
       "      <td>0</td>\n",
       "      <td>0</td>\n",
       "      <td>0</td>\n",
       "      <td>0</td>\n",
       "      <td>1</td>\n",
       "      <td>0</td>\n",
       "      <td>0</td>\n",
       "      <td>1</td>\n",
       "      <td>0</td>\n",
       "    </tr>\n",
       "  </tbody>\n",
       "</table>\n",
       "<p>1691 rows × 32 columns</p>\n",
       "</div>"
      ],
      "text/plain": [
       "     customer_id  senior_citizen  tenure  monthly_charges  total_charges  \\\n",
       "720   1062-LHZOD               0       1            69.90          69.90   \n",
       "5832  8205-OTCHB               0      22            43.75         903.60   \n",
       "4378  6173-GOLSU               1      67            94.65       60790.00   \n",
       "5553  7817-OMJNA               0      14            20.40         275.70   \n",
       "482   0702-PGIBZ               0       4           101.70         364.55   \n",
       "...          ...             ...     ...              ...            ...   \n",
       "4506  6352-GIGGQ               0      67            88.80        5903.15   \n",
       "1602  2332-EFBJY               0      16            19.70         342.40   \n",
       "583   0856-NAOES               0       6            60.90         414.10   \n",
       "6134  8690-UPCZI               0      29            69.05        1958.45   \n",
       "3333  4749-OJKQU               0       4            75.65         302.35   \n",
       "\n",
       "      gender_Male  partner_Yes  dependents_Yes  phone_service_Yes  \\\n",
       "720             1            1               1                  1   \n",
       "5832            1            0               0                  0   \n",
       "4378            1            1               0                  1   \n",
       "5553            1            0               0                  1   \n",
       "482             1            0               1                  1   \n",
       "...           ...          ...             ...                ...   \n",
       "4506            1            0               0                  1   \n",
       "1602            1            0               0                  1   \n",
       "583             1            0               0                  1   \n",
       "6134            1            1               1                  1   \n",
       "3333            0            0               0                  1   \n",
       "\n",
       "      paperless_billing_Yes  ...  streaming_tv_Yes  \\\n",
       "720                       1  ...                 0   \n",
       "5832                      1  ...                 0   \n",
       "4378                      1  ...                 1   \n",
       "5553                      0  ...                 0   \n",
       "482                       1  ...                 1   \n",
       "...                     ...  ...               ...   \n",
       "4506                      1  ...                 1   \n",
       "1602                      1  ...                 0   \n",
       "583                       0  ...                 1   \n",
       "6134                      0  ...                 1   \n",
       "3333                      1  ...                 0   \n",
       "\n",
       "      streaming_movies_No internet service  streaming_movies_Yes  \\\n",
       "720                                      0                     0   \n",
       "5832                                     0                     1   \n",
       "4378                                     0                     1   \n",
       "5553                                     1                     0   \n",
       "482                                      0                     1   \n",
       "...                                    ...                   ...   \n",
       "4506                                     0                     1   \n",
       "1602                                     1                     0   \n",
       "583                                      0                     0   \n",
       "6134                                     0                     0   \n",
       "3333                                     0                     0   \n",
       "\n",
       "      contract_type_One year  contract_type_Two year  \\\n",
       "720                        0                       0   \n",
       "5832                       1                       0   \n",
       "4378                       0                       0   \n",
       "5553                       1                       0   \n",
       "482                        0                       0   \n",
       "...                      ...                     ...   \n",
       "4506                       1                       0   \n",
       "1602                       0                       0   \n",
       "583                        0                       0   \n",
       "6134                       1                       0   \n",
       "3333                       0                       0   \n",
       "\n",
       "      internet_service_type_Fiber optic  internet_service_type_None  \\\n",
       "720                                   1                           0   \n",
       "5832                                  0                           0   \n",
       "4378                                  1                           0   \n",
       "5553                                  0                           1   \n",
       "482                                   1                           0   \n",
       "...                                 ...                         ...   \n",
       "4506                                  0                           0   \n",
       "1602                                  0                           1   \n",
       "583                                   0                           0   \n",
       "6134                                  0                           0   \n",
       "3333                                  1                           0   \n",
       "\n",
       "      payment_type_Credit card (automatic)  payment_type_Electronic check  \\\n",
       "720                                      0                              0   \n",
       "5832                                     0                              0   \n",
       "4378                                     1                              0   \n",
       "5553                                     0                              0   \n",
       "482                                      0                              1   \n",
       "...                                    ...                            ...   \n",
       "4506                                     0                              0   \n",
       "1602                                     0                              0   \n",
       "583                                      0                              0   \n",
       "6134                                     0                              0   \n",
       "3333                                     0                              1   \n",
       "\n",
       "      payment_type_Mailed check  \n",
       "720                           1  \n",
       "5832                          0  \n",
       "4378                          0  \n",
       "5553                          0  \n",
       "482                           0  \n",
       "...                         ...  \n",
       "4506                          0  \n",
       "1602                          1  \n",
       "583                           1  \n",
       "6134                          0  \n",
       "3333                          0  \n",
       "\n",
       "[1691 rows x 32 columns]"
      ]
     },
     "execution_count": 16,
     "metadata": {},
     "output_type": "execute_result"
    }
   ],
   "source": [
    "validate"
   ]
  },
  {
   "cell_type": "code",
   "execution_count": 17,
   "metadata": {},
   "outputs": [
    {
     "data": {
      "text/html": [
       "<div>\n",
       "<style scoped>\n",
       "    .dataframe tbody tr th:only-of-type {\n",
       "        vertical-align: middle;\n",
       "    }\n",
       "\n",
       "    .dataframe tbody tr th {\n",
       "        vertical-align: top;\n",
       "    }\n",
       "\n",
       "    .dataframe thead th {\n",
       "        text-align: right;\n",
       "    }\n",
       "</style>\n",
       "<table border=\"1\" class=\"dataframe\">\n",
       "  <thead>\n",
       "    <tr style=\"text-align: right;\">\n",
       "      <th></th>\n",
       "      <th>customer_id</th>\n",
       "      <th>senior_citizen</th>\n",
       "      <th>tenure</th>\n",
       "      <th>monthly_charges</th>\n",
       "      <th>total_charges</th>\n",
       "      <th>gender_Male</th>\n",
       "      <th>partner_Yes</th>\n",
       "      <th>dependents_Yes</th>\n",
       "      <th>phone_service_Yes</th>\n",
       "      <th>paperless_billing_Yes</th>\n",
       "      <th>...</th>\n",
       "      <th>streaming_tv_Yes</th>\n",
       "      <th>streaming_movies_No internet service</th>\n",
       "      <th>streaming_movies_Yes</th>\n",
       "      <th>contract_type_One year</th>\n",
       "      <th>contract_type_Two year</th>\n",
       "      <th>internet_service_type_Fiber optic</th>\n",
       "      <th>internet_service_type_None</th>\n",
       "      <th>payment_type_Credit card (automatic)</th>\n",
       "      <th>payment_type_Electronic check</th>\n",
       "      <th>payment_type_Mailed check</th>\n",
       "    </tr>\n",
       "  </thead>\n",
       "  <tbody>\n",
       "    <tr>\n",
       "      <th>3160</th>\n",
       "      <td>4531-AUZNK</td>\n",
       "      <td>0</td>\n",
       "      <td>51</td>\n",
       "      <td>95.15</td>\n",
       "      <td>5000.05</td>\n",
       "      <td>0</td>\n",
       "      <td>1</td>\n",
       "      <td>1</td>\n",
       "      <td>1</td>\n",
       "      <td>1</td>\n",
       "      <td>...</td>\n",
       "      <td>1</td>\n",
       "      <td>0</td>\n",
       "      <td>0</td>\n",
       "      <td>1</td>\n",
       "      <td>0</td>\n",
       "      <td>1</td>\n",
       "      <td>0</td>\n",
       "      <td>0</td>\n",
       "      <td>0</td>\n",
       "      <td>1</td>\n",
       "    </tr>\n",
       "    <tr>\n",
       "      <th>1577</th>\n",
       "      <td>2296-DKZFP</td>\n",
       "      <td>0</td>\n",
       "      <td>65</td>\n",
       "      <td>71.00</td>\n",
       "      <td>4386.20</td>\n",
       "      <td>0</td>\n",
       "      <td>1</td>\n",
       "      <td>0</td>\n",
       "      <td>1</td>\n",
       "      <td>0</td>\n",
       "      <td>...</td>\n",
       "      <td>0</td>\n",
       "      <td>0</td>\n",
       "      <td>1</td>\n",
       "      <td>0</td>\n",
       "      <td>1</td>\n",
       "      <td>0</td>\n",
       "      <td>0</td>\n",
       "      <td>0</td>\n",
       "      <td>0</td>\n",
       "      <td>0</td>\n",
       "    </tr>\n",
       "    <tr>\n",
       "      <th>6823</th>\n",
       "      <td>9692-TUSXH</td>\n",
       "      <td>0</td>\n",
       "      <td>18</td>\n",
       "      <td>96.05</td>\n",
       "      <td>1740.70</td>\n",
       "      <td>0</td>\n",
       "      <td>0</td>\n",
       "      <td>0</td>\n",
       "      <td>1</td>\n",
       "      <td>1</td>\n",
       "      <td>...</td>\n",
       "      <td>1</td>\n",
       "      <td>0</td>\n",
       "      <td>1</td>\n",
       "      <td>0</td>\n",
       "      <td>0</td>\n",
       "      <td>1</td>\n",
       "      <td>0</td>\n",
       "      <td>0</td>\n",
       "      <td>1</td>\n",
       "      <td>0</td>\n",
       "    </tr>\n",
       "    <tr>\n",
       "      <th>3615</th>\n",
       "      <td>5129-JLPIS</td>\n",
       "      <td>0</td>\n",
       "      <td>25</td>\n",
       "      <td>105.50</td>\n",
       "      <td>2686.05</td>\n",
       "      <td>1</td>\n",
       "      <td>0</td>\n",
       "      <td>0</td>\n",
       "      <td>1</td>\n",
       "      <td>1</td>\n",
       "      <td>...</td>\n",
       "      <td>1</td>\n",
       "      <td>0</td>\n",
       "      <td>1</td>\n",
       "      <td>0</td>\n",
       "      <td>0</td>\n",
       "      <td>1</td>\n",
       "      <td>0</td>\n",
       "      <td>0</td>\n",
       "      <td>1</td>\n",
       "      <td>0</td>\n",
       "    </tr>\n",
       "    <tr>\n",
       "      <th>882</th>\n",
       "      <td>1273-MTETI</td>\n",
       "      <td>1</td>\n",
       "      <td>4</td>\n",
       "      <td>88.85</td>\n",
       "      <td>372.45</td>\n",
       "      <td>0</td>\n",
       "      <td>0</td>\n",
       "      <td>0</td>\n",
       "      <td>1</td>\n",
       "      <td>1</td>\n",
       "      <td>...</td>\n",
       "      <td>0</td>\n",
       "      <td>0</td>\n",
       "      <td>1</td>\n",
       "      <td>0</td>\n",
       "      <td>0</td>\n",
       "      <td>1</td>\n",
       "      <td>0</td>\n",
       "      <td>0</td>\n",
       "      <td>1</td>\n",
       "      <td>0</td>\n",
       "    </tr>\n",
       "    <tr>\n",
       "      <th>...</th>\n",
       "      <td>...</td>\n",
       "      <td>...</td>\n",
       "      <td>...</td>\n",
       "      <td>...</td>\n",
       "      <td>...</td>\n",
       "      <td>...</td>\n",
       "      <td>...</td>\n",
       "      <td>...</td>\n",
       "      <td>...</td>\n",
       "      <td>...</td>\n",
       "      <td>...</td>\n",
       "      <td>...</td>\n",
       "      <td>...</td>\n",
       "      <td>...</td>\n",
       "      <td>...</td>\n",
       "      <td>...</td>\n",
       "      <td>...</td>\n",
       "      <td>...</td>\n",
       "      <td>...</td>\n",
       "      <td>...</td>\n",
       "      <td>...</td>\n",
       "    </tr>\n",
       "    <tr>\n",
       "      <th>1097</th>\n",
       "      <td>1597-FZREH</td>\n",
       "      <td>0</td>\n",
       "      <td>2</td>\n",
       "      <td>76.40</td>\n",
       "      <td>160.80</td>\n",
       "      <td>0</td>\n",
       "      <td>0</td>\n",
       "      <td>0</td>\n",
       "      <td>1</td>\n",
       "      <td>0</td>\n",
       "      <td>...</td>\n",
       "      <td>1</td>\n",
       "      <td>0</td>\n",
       "      <td>1</td>\n",
       "      <td>0</td>\n",
       "      <td>0</td>\n",
       "      <td>0</td>\n",
       "      <td>0</td>\n",
       "      <td>0</td>\n",
       "      <td>1</td>\n",
       "      <td>0</td>\n",
       "    </tr>\n",
       "    <tr>\n",
       "      <th>6441</th>\n",
       "      <td>9117-SHLZX</td>\n",
       "      <td>0</td>\n",
       "      <td>1</td>\n",
       "      <td>45.70</td>\n",
       "      <td>45.70</td>\n",
       "      <td>1</td>\n",
       "      <td>0</td>\n",
       "      <td>0</td>\n",
       "      <td>1</td>\n",
       "      <td>1</td>\n",
       "      <td>...</td>\n",
       "      <td>0</td>\n",
       "      <td>0</td>\n",
       "      <td>0</td>\n",
       "      <td>0</td>\n",
       "      <td>0</td>\n",
       "      <td>0</td>\n",
       "      <td>0</td>\n",
       "      <td>0</td>\n",
       "      <td>0</td>\n",
       "      <td>1</td>\n",
       "    </tr>\n",
       "    <tr>\n",
       "      <th>5985</th>\n",
       "      <td>8441-SHIPE</td>\n",
       "      <td>0</td>\n",
       "      <td>67</td>\n",
       "      <td>25.60</td>\n",
       "      <td>1790.35</td>\n",
       "      <td>0</td>\n",
       "      <td>0</td>\n",
       "      <td>0</td>\n",
       "      <td>1</td>\n",
       "      <td>1</td>\n",
       "      <td>...</td>\n",
       "      <td>0</td>\n",
       "      <td>1</td>\n",
       "      <td>0</td>\n",
       "      <td>0</td>\n",
       "      <td>1</td>\n",
       "      <td>0</td>\n",
       "      <td>1</td>\n",
       "      <td>0</td>\n",
       "      <td>0</td>\n",
       "      <td>0</td>\n",
       "    </tr>\n",
       "    <tr>\n",
       "      <th>2452</th>\n",
       "      <td>3511-BFTJW</td>\n",
       "      <td>0</td>\n",
       "      <td>72</td>\n",
       "      <td>38.50</td>\n",
       "      <td>27630.00</td>\n",
       "      <td>1</td>\n",
       "      <td>1</td>\n",
       "      <td>1</td>\n",
       "      <td>0</td>\n",
       "      <td>0</td>\n",
       "      <td>...</td>\n",
       "      <td>0</td>\n",
       "      <td>0</td>\n",
       "      <td>0</td>\n",
       "      <td>0</td>\n",
       "      <td>1</td>\n",
       "      <td>0</td>\n",
       "      <td>0</td>\n",
       "      <td>1</td>\n",
       "      <td>0</td>\n",
       "      <td>0</td>\n",
       "    </tr>\n",
       "    <tr>\n",
       "      <th>983</th>\n",
       "      <td>1428-GTBJJ</td>\n",
       "      <td>0</td>\n",
       "      <td>11</td>\n",
       "      <td>74.55</td>\n",
       "      <td>824.75</td>\n",
       "      <td>1</td>\n",
       "      <td>0</td>\n",
       "      <td>0</td>\n",
       "      <td>1</td>\n",
       "      <td>1</td>\n",
       "      <td>...</td>\n",
       "      <td>0</td>\n",
       "      <td>0</td>\n",
       "      <td>0</td>\n",
       "      <td>0</td>\n",
       "      <td>0</td>\n",
       "      <td>1</td>\n",
       "      <td>0</td>\n",
       "      <td>0</td>\n",
       "      <td>1</td>\n",
       "      <td>0</td>\n",
       "    </tr>\n",
       "  </tbody>\n",
       "</table>\n",
       "<p>1409 rows × 32 columns</p>\n",
       "</div>"
      ],
      "text/plain": [
       "     customer_id  senior_citizen  tenure  monthly_charges  total_charges  \\\n",
       "3160  4531-AUZNK               0      51            95.15        5000.05   \n",
       "1577  2296-DKZFP               0      65            71.00        4386.20   \n",
       "6823  9692-TUSXH               0      18            96.05        1740.70   \n",
       "3615  5129-JLPIS               0      25           105.50        2686.05   \n",
       "882   1273-MTETI               1       4            88.85         372.45   \n",
       "...          ...             ...     ...              ...            ...   \n",
       "1097  1597-FZREH               0       2            76.40         160.80   \n",
       "6441  9117-SHLZX               0       1            45.70          45.70   \n",
       "5985  8441-SHIPE               0      67            25.60        1790.35   \n",
       "2452  3511-BFTJW               0      72            38.50       27630.00   \n",
       "983   1428-GTBJJ               0      11            74.55         824.75   \n",
       "\n",
       "      gender_Male  partner_Yes  dependents_Yes  phone_service_Yes  \\\n",
       "3160            0            1               1                  1   \n",
       "1577            0            1               0                  1   \n",
       "6823            0            0               0                  1   \n",
       "3615            1            0               0                  1   \n",
       "882             0            0               0                  1   \n",
       "...           ...          ...             ...                ...   \n",
       "1097            0            0               0                  1   \n",
       "6441            1            0               0                  1   \n",
       "5985            0            0               0                  1   \n",
       "2452            1            1               1                  0   \n",
       "983             1            0               0                  1   \n",
       "\n",
       "      paperless_billing_Yes  ...  streaming_tv_Yes  \\\n",
       "3160                      1  ...                 1   \n",
       "1577                      0  ...                 0   \n",
       "6823                      1  ...                 1   \n",
       "3615                      1  ...                 1   \n",
       "882                       1  ...                 0   \n",
       "...                     ...  ...               ...   \n",
       "1097                      0  ...                 1   \n",
       "6441                      1  ...                 0   \n",
       "5985                      1  ...                 0   \n",
       "2452                      0  ...                 0   \n",
       "983                       1  ...                 0   \n",
       "\n",
       "      streaming_movies_No internet service  streaming_movies_Yes  \\\n",
       "3160                                     0                     0   \n",
       "1577                                     0                     1   \n",
       "6823                                     0                     1   \n",
       "3615                                     0                     1   \n",
       "882                                      0                     1   \n",
       "...                                    ...                   ...   \n",
       "1097                                     0                     1   \n",
       "6441                                     0                     0   \n",
       "5985                                     1                     0   \n",
       "2452                                     0                     0   \n",
       "983                                      0                     0   \n",
       "\n",
       "      contract_type_One year  contract_type_Two year  \\\n",
       "3160                       1                       0   \n",
       "1577                       0                       1   \n",
       "6823                       0                       0   \n",
       "3615                       0                       0   \n",
       "882                        0                       0   \n",
       "...                      ...                     ...   \n",
       "1097                       0                       0   \n",
       "6441                       0                       0   \n",
       "5985                       0                       1   \n",
       "2452                       0                       1   \n",
       "983                        0                       0   \n",
       "\n",
       "      internet_service_type_Fiber optic  internet_service_type_None  \\\n",
       "3160                                  1                           0   \n",
       "1577                                  0                           0   \n",
       "6823                                  1                           0   \n",
       "3615                                  1                           0   \n",
       "882                                   1                           0   \n",
       "...                                 ...                         ...   \n",
       "1097                                  0                           0   \n",
       "6441                                  0                           0   \n",
       "5985                                  0                           1   \n",
       "2452                                  0                           0   \n",
       "983                                   1                           0   \n",
       "\n",
       "      payment_type_Credit card (automatic)  payment_type_Electronic check  \\\n",
       "3160                                     0                              0   \n",
       "1577                                     0                              0   \n",
       "6823                                     0                              1   \n",
       "3615                                     0                              1   \n",
       "882                                      0                              1   \n",
       "...                                    ...                            ...   \n",
       "1097                                     0                              1   \n",
       "6441                                     0                              0   \n",
       "5985                                     0                              0   \n",
       "2452                                     1                              0   \n",
       "983                                      0                              1   \n",
       "\n",
       "      payment_type_Mailed check  \n",
       "3160                          1  \n",
       "1577                          0  \n",
       "6823                          0  \n",
       "3615                          0  \n",
       "882                           0  \n",
       "...                         ...  \n",
       "1097                          0  \n",
       "6441                          1  \n",
       "5985                          0  \n",
       "2452                          0  \n",
       "983                           0  \n",
       "\n",
       "[1409 rows x 32 columns]"
      ]
     },
     "execution_count": 17,
     "metadata": {},
     "output_type": "execute_result"
    }
   ],
   "source": [
    "test"
   ]
  },
  {
   "cell_type": "code",
   "execution_count": 18,
   "metadata": {},
   "outputs": [
    {
     "name": "stdout",
     "output_type": "stream",
     "text": [
      "<class 'pandas.core.frame.DataFrame'>\n",
      "Int64Index: 3943 entries, 5310 to 6817\n",
      "Data columns (total 32 columns):\n",
      " #   Column                                 Non-Null Count  Dtype  \n",
      "---  ------                                 --------------  -----  \n",
      " 0   customer_id                            3943 non-null   object \n",
      " 1   senior_citizen                         3943 non-null   int64  \n",
      " 2   tenure                                 3943 non-null   int64  \n",
      " 3   monthly_charges                        3943 non-null   float64\n",
      " 4   total_charges                          3943 non-null   float64\n",
      " 5   gender_Male                            3943 non-null   uint8  \n",
      " 6   partner_Yes                            3943 non-null   uint8  \n",
      " 7   dependents_Yes                         3943 non-null   uint8  \n",
      " 8   phone_service_Yes                      3943 non-null   uint8  \n",
      " 9   paperless_billing_Yes                  3943 non-null   uint8  \n",
      " 10  churn_Yes                              3943 non-null   uint8  \n",
      " 11  multiple_lines_No phone service        3943 non-null   uint8  \n",
      " 12  multiple_lines_Yes                     3943 non-null   uint8  \n",
      " 13  online_security_No internet service    3943 non-null   uint8  \n",
      " 14  online_security_Yes                    3943 non-null   uint8  \n",
      " 15  online_backup_No internet service      3943 non-null   uint8  \n",
      " 16  online_backup_Yes                      3943 non-null   uint8  \n",
      " 17  device_protection_No internet service  3943 non-null   uint8  \n",
      " 18  device_protection_Yes                  3943 non-null   uint8  \n",
      " 19  tech_support_No internet service       3943 non-null   uint8  \n",
      " 20  tech_support_Yes                       3943 non-null   uint8  \n",
      " 21  streaming_tv_No internet service       3943 non-null   uint8  \n",
      " 22  streaming_tv_Yes                       3943 non-null   uint8  \n",
      " 23  streaming_movies_No internet service   3943 non-null   uint8  \n",
      " 24  streaming_movies_Yes                   3943 non-null   uint8  \n",
      " 25  contract_type_One year                 3943 non-null   uint8  \n",
      " 26  contract_type_Two year                 3943 non-null   uint8  \n",
      " 27  internet_service_type_Fiber optic      3943 non-null   uint8  \n",
      " 28  internet_service_type_None             3943 non-null   uint8  \n",
      " 29  payment_type_Credit card (automatic)   3943 non-null   uint8  \n",
      " 30  payment_type_Electronic check          3943 non-null   uint8  \n",
      " 31  payment_type_Mailed check              3943 non-null   uint8  \n",
      "dtypes: float64(2), int64(2), object(1), uint8(27)\n",
      "memory usage: 288.8+ KB\n"
     ]
    }
   ],
   "source": [
    "train.info()"
   ]
  },
  {
   "attachments": {},
   "cell_type": "markdown",
   "metadata": {},
   "source": [
    "- - -\n",
    "\n",
    "- - -"
   ]
  },
  {
   "attachments": {},
   "cell_type": "markdown",
   "metadata": {},
   "source": [
    "## Moving onto Exploratory Analysis and Statistical Testing"
   ]
  },
  {
   "cell_type": "code",
   "execution_count": 19,
   "metadata": {},
   "outputs": [],
   "source": [
    "# use only the train dataset for analaysis and testing"
   ]
  },
  {
   "cell_type": "code",
   "execution_count": 20,
   "metadata": {},
   "outputs": [
    {
     "name": "stdout",
     "output_type": "stream",
     "text": [
      "<class 'pandas.core.frame.DataFrame'>\n",
      "Int64Index: 3943 entries, 5310 to 6817\n",
      "Data columns (total 32 columns):\n",
      " #   Column                                 Non-Null Count  Dtype  \n",
      "---  ------                                 --------------  -----  \n",
      " 0   customer_id                            3943 non-null   object \n",
      " 1   senior_citizen                         3943 non-null   int64  \n",
      " 2   tenure                                 3943 non-null   int64  \n",
      " 3   monthly_charges                        3943 non-null   float64\n",
      " 4   total_charges                          3943 non-null   float64\n",
      " 5   gender_Male                            3943 non-null   uint8  \n",
      " 6   partner_Yes                            3943 non-null   uint8  \n",
      " 7   dependents_Yes                         3943 non-null   uint8  \n",
      " 8   phone_service_Yes                      3943 non-null   uint8  \n",
      " 9   paperless_billing_Yes                  3943 non-null   uint8  \n",
      " 10  churn_Yes                              3943 non-null   uint8  \n",
      " 11  multiple_lines_No phone service        3943 non-null   uint8  \n",
      " 12  multiple_lines_Yes                     3943 non-null   uint8  \n",
      " 13  online_security_No internet service    3943 non-null   uint8  \n",
      " 14  online_security_Yes                    3943 non-null   uint8  \n",
      " 15  online_backup_No internet service      3943 non-null   uint8  \n",
      " 16  online_backup_Yes                      3943 non-null   uint8  \n",
      " 17  device_protection_No internet service  3943 non-null   uint8  \n",
      " 18  device_protection_Yes                  3943 non-null   uint8  \n",
      " 19  tech_support_No internet service       3943 non-null   uint8  \n",
      " 20  tech_support_Yes                       3943 non-null   uint8  \n",
      " 21  streaming_tv_No internet service       3943 non-null   uint8  \n",
      " 22  streaming_tv_Yes                       3943 non-null   uint8  \n",
      " 23  streaming_movies_No internet service   3943 non-null   uint8  \n",
      " 24  streaming_movies_Yes                   3943 non-null   uint8  \n",
      " 25  contract_type_One year                 3943 non-null   uint8  \n",
      " 26  contract_type_Two year                 3943 non-null   uint8  \n",
      " 27  internet_service_type_Fiber optic      3943 non-null   uint8  \n",
      " 28  internet_service_type_None             3943 non-null   uint8  \n",
      " 29  payment_type_Credit card (automatic)   3943 non-null   uint8  \n",
      " 30  payment_type_Electronic check          3943 non-null   uint8  \n",
      " 31  payment_type_Mailed check              3943 non-null   uint8  \n",
      "dtypes: float64(2), int64(2), object(1), uint8(27)\n",
      "memory usage: 288.8+ KB\n"
     ]
    }
   ],
   "source": [
    "train.info()"
   ]
  },
  {
   "attachments": {},
   "cell_type": "markdown",
   "metadata": {},
   "source": [
    "## Questions I want to explore:\n",
    "\n",
    "1) Are customers with higher tenure less likely to churn?  \n",
    "2) Are individual customers more likely to churn than those with a partner or dependents?\n",
    "3) So higher monthly charges contribute to higher churn?\n",
    "4) Do certain contract types have higher churn?\n",
    "5) Does fiber optic service type  have lower churn?"
   ]
  },
  {
   "attachments": {},
   "cell_type": "markdown",
   "metadata": {},
   "source": [
    "1) Are customers with higher tenure less likely to churn?"
   ]
  },
  {
   "cell_type": "code",
   "execution_count": 21,
   "metadata": {},
   "outputs": [
    {
     "data": {
      "image/png": "[encoded data removed]",
      "text/plain": [
       "<Figure size 640x480 with 1 Axes>"
      ]
     },
     "metadata": {},
     "output_type": "display_data"
    }
   ],
   "source": [
    "tenure_churn_barplot = sns.barplot(data = train, x = 'churn_Yes', y = 'tenure')\n",
    "#this shows that higher tenure is less likely to churn\n",
    "#newer customers/lower tenure more likely to churn\n",
    "\n",
    "#continuous vs discrete\n",
    "#t-test"
   ]
  },
  {
   "attachments": {},
   "cell_type": "markdown",
   "metadata": {},
   "source": [
    "Takeaway:"
   ]
  },
  {
   "cell_type": "code",
   "execution_count": 22,
   "metadata": {},
   "outputs": [
    {
     "data": {
      "text/plain": [
       "<seaborn.axisgrid.FacetGrid at 0x13df44280>"
      ]
     },
     "execution_count": 22,
     "metadata": {},
     "output_type": "execute_result"
    },
    {
     "data": {
      "image/png": "[encoded data removed]",
      "text/plain": [
       "<Figure size 500x500 with 1 Axes>"
      ]
     },
     "metadata": {},
     "output_type": "display_data"
    }
   ],
   "source": [
    "sns.catplot(data = train, x = 'churn_Yes', y = 'tenure', hue = 'churn_Yes', kind = 'boxen')"
   ]
  },
  {
   "attachments": {},
   "cell_type": "markdown",
   "metadata": {},
   "source": [
    "2) Are individual customers more likely to churn than those with a partner or dependents?"
   ]
  },
  {
   "cell_type": "code",
   "execution_count": 23,
   "metadata": {},
   "outputs": [
    {
     "data": {
      "image/png": "[encoded data removed]",
      "text/plain": [
       "<Figure size 640x480 with 1 Axes>"
      ]
     },
     "metadata": {},
     "output_type": "display_data"
    }
   ],
   "source": [
    "online_security_vs_churn = sns.countplot(train.online_security_Yes, hue = train.churn_Yes)\n",
    "#discrete vs discrete\n",
    "#chi square"
   ]
  },
  {
   "cell_type": "code",
   "execution_count": 24,
   "metadata": {},
   "outputs": [
    {
     "data": {
      "text/plain": [
       "<AxesSubplot:xlabel='online_security_Yes', ylabel='count'>"
      ]
     },
     "execution_count": 24,
     "metadata": {},
     "output_type": "execute_result"
    },
    {
     "data": {
      "image/png": "[encoded data removed]",
      "text/plain": [
       "<Figure size 640x480 with 1 Axes>"
      ]
     },
     "metadata": {},
     "output_type": "display_data"
    }
   ],
   "source": [
    "sns.countplot(train['online_security_Yes'], hue = train.churn_Yes)\n",
    "#discrete vs discrete"
   ]
  },
  {
   "attachments": {},
   "cell_type": "markdown",
   "metadata": {},
   "source": [
    "3) So higher monthly charges contribute to higher churn?"
   ]
  },
  {
   "cell_type": "code",
   "execution_count": 25,
   "metadata": {},
   "outputs": [
    {
     "data": {
      "text/plain": [
       "<AxesSubplot:xlabel='tech_support_Yes', ylabel='count'>"
      ]
     },
     "execution_count": 25,
     "metadata": {},
     "output_type": "execute_result"
    },
    {
     "data": {
      "image/png": "[encoded data removed]",
      "text/plain": [
       "<Figure size 640x480 with 1 Axes>"
      ]
     },
     "metadata": {},
     "output_type": "display_data"
    }
   ],
   "source": [
    "sns.countplot(train.tech_support_Yes, hue = train.churn_Yes)\n",
    "#discrete vs discrete"
   ]
  },
  {
   "attachments": {},
   "cell_type": "markdown",
   "metadata": {},
   "source": [
    "- - -\n",
    "\n",
    "## Questions I want to explore:\n",
    "\n",
    "\n",
    "\n",
    "#### 1) Are customers with higher tenure less likely to churn?  \n",
    "#### 2) Are individual customers more likely to churn than those with a partner or dependents?\n",
    "#### 3) Do higher monthly charges contribute to higher churn?\n",
    "#### 4) Do certain contract types have higher churn?\n",
    "#### 5) Does fiber optic service type have lower churn?\n",
    "\n",
    "- - -"
   ]
  },
  {
   "attachments": {},
   "cell_type": "markdown",
   "metadata": {},
   "source": [
    "#### 1) Are customers with higher tenure less likely to churn? "
   ]
  },
  {
   "cell_type": "code",
   "execution_count": 26,
   "metadata": {},
   "outputs": [
    {
     "data": {
      "text/plain": [
       "<AxesSubplot:xlabel='churn_Yes', ylabel='tenure'>"
      ]
     },
     "execution_count": 26,
     "metadata": {},
     "output_type": "execute_result"
    },
    {
     "data": {
      "image/png": "[encoded data removed]",
      "text/plain": [
       "<Figure size 640x480 with 1 Axes>"
      ]
     },
     "metadata": {},
     "output_type": "display_data"
    }
   ],
   "source": [
    "sns.barplot(data = train, x = 'churn_Yes', y = 'tenure')\n",
    "# continuous vs discrete\n"
   ]
  },
  {
   "attachments": {},
   "cell_type": "markdown",
   "metadata": {},
   "source": [
    "Takeaway:\n",
    "\n",
    "Customers who do not churn generally have much higher tenure\n",
    "- - -"
   ]
  },
  {
   "attachments": {},
   "cell_type": "markdown",
   "metadata": {},
   "source": [
    "#### 2) Are individual customers more likely to churn than those with a partner?"
   ]
  },
  {
   "cell_type": "code",
   "execution_count": 27,
   "metadata": {},
   "outputs": [
    {
     "data": {
      "text/plain": [
       "<AxesSubplot:xlabel='churn_Yes', ylabel='partner_Yes'>"
      ]
     },
     "execution_count": 27,
     "metadata": {},
     "output_type": "execute_result"
    },
    {
     "data": {
      "image/png": "[encoded data removed]",
      "text/plain": [
       "<Figure size 640x480 with 1 Axes>"
      ]
     },
     "metadata": {},
     "output_type": "display_data"
    }
   ],
   "source": [
    "#individual customer more likely to churn than those with dependents or partners\n",
    "sns.barplot(data = train, x = 'churn_Yes', y = 'partner_Yes')\n",
    "#discrete vs discrete"
   ]
  },
  {
   "attachments": {},
   "cell_type": "markdown",
   "metadata": {},
   "source": [
    "#chi-2 test\n",
    "Ho = there is no correlation between churn and having a partner\n",
    "Ha = there is a correlation between churn and having a partner\n"
   ]
  },
  {
   "cell_type": "code",
   "execution_count": 28,
   "metadata": {},
   "outputs": [
    {
     "data": {
      "text/html": [
       "<div>\n",
       "<style scoped>\n",
       "    .dataframe tbody tr th:only-of-type {\n",
       "        vertical-align: middle;\n",
       "    }\n",
       "\n",
       "    .dataframe tbody tr th {\n",
       "        vertical-align: top;\n",
       "    }\n",
       "\n",
       "    .dataframe thead th {\n",
       "        text-align: right;\n",
       "    }\n",
       "</style>\n",
       "<table border=\"1\" class=\"dataframe\">\n",
       "  <thead>\n",
       "    <tr style=\"text-align: right;\">\n",
       "      <th>partner_Yes</th>\n",
       "      <th>0</th>\n",
       "      <th>1</th>\n",
       "    </tr>\n",
       "    <tr>\n",
       "      <th>churn_Yes</th>\n",
       "      <th></th>\n",
       "      <th></th>\n",
       "    </tr>\n",
       "  </thead>\n",
       "  <tbody>\n",
       "    <tr>\n",
       "      <th>0</th>\n",
       "      <td>1349</td>\n",
       "      <td>1548</td>\n",
       "    </tr>\n",
       "    <tr>\n",
       "      <th>1</th>\n",
       "      <td>675</td>\n",
       "      <td>371</td>\n",
       "    </tr>\n",
       "  </tbody>\n",
       "</table>\n",
       "</div>"
      ],
      "text/plain": [
       "partner_Yes     0     1\n",
       "churn_Yes              \n",
       "0            1349  1548\n",
       "1             675   371"
      ]
     },
     "execution_count": 28,
     "metadata": {},
     "output_type": "execute_result"
    }
   ],
   "source": [
    "observed_partner = pd.crosstab(train.churn_Yes, train.partner_Yes)\n",
    "observed_partner"
   ]
  },
  {
   "cell_type": "code",
   "execution_count": 29,
   "metadata": {},
   "outputs": [
    {
     "data": {
      "text/plain": [
       "(98.57794056736955,\n",
       " 3.124807670665349e-23,\n",
       " 1,\n",
       " array([[1487.07278722, 1409.92721278],\n",
       "        [ 536.92721278,  509.07278722]]))"
      ]
     },
     "execution_count": 29,
     "metadata": {},
     "output_type": "execute_result"
    }
   ],
   "source": [
    "chi2, p, degf, expected = stats.chi2_contingency(observed_partner)\n",
    "chi2, p, degf, expected"
   ]
  },
  {
   "cell_type": "code",
   "execution_count": 30,
   "metadata": {},
   "outputs": [
    {
     "name": "stdout",
     "output_type": "stream",
     "text": [
      "chi^2 = 98.5779\n",
      "p     = 0.000000000000000000000031248077\n"
     ]
    }
   ],
   "source": [
    "print(f'chi^2 = {chi2:.4f}') \n",
    "print(f'p     = {p:.30f}')"
   ]
  },
  {
   "cell_type": "code",
   "execution_count": 31,
   "metadata": {},
   "outputs": [
    {
     "data": {
      "text/plain": [
       "<AxesSubplot:xlabel='partner_Yes', ylabel='count'>"
      ]
     },
     "execution_count": 31,
     "metadata": {},
     "output_type": "execute_result"
    },
    {
     "data": {
      "image/png": "[encoded data removed]",
      "text/plain": [
       "<Figure size 640x480 with 1 Axes>"
      ]
     },
     "metadata": {},
     "output_type": "display_data"
    }
   ],
   "source": [
    "sns.countplot(data=train, x='partner_Yes', hue = 'churn_Yes')"
   ]
  },
  {
   "attachments": {},
   "cell_type": "markdown",
   "metadata": {},
   "source": [
    "Takeaway:\n",
    "\n",
    "This shows that customers with a partner are less likely to churn\n",
    "After performing a chi2 test, strong relationship between having a partner and not churning has been confirmed\n",
    "- - -"
   ]
  },
  {
   "cell_type": "code",
   "execution_count": 32,
   "metadata": {},
   "outputs": [
    {
     "data": {
      "text/plain": [
       "<AxesSubplot:xlabel='dependents_Yes', ylabel='count'>"
      ]
     },
     "execution_count": 32,
     "metadata": {},
     "output_type": "execute_result"
    },
    {
     "data": {
      "image/png": "[encoded data removed]",
      "text/plain": [
       "<Figure size 640x480 with 1 Axes>"
      ]
     },
     "metadata": {},
     "output_type": "display_data"
    }
   ],
   "source": [
    "sns.countplot(data=train, x='dependents_Yes', hue = 'churn_Yes')"
   ]
  },
  {
   "attachments": {},
   "cell_type": "markdown",
   "metadata": {},
   "source": [
    "Takeaway:\n",
    "\n",
    "Similar to customers with partners, customers with dependents are less likely to churn.\n",
    "- - -"
   ]
  },
  {
   "attachments": {},
   "cell_type": "markdown",
   "metadata": {},
   "source": [
    "#### 3) Do higher monthly charges contribute to higher churn?"
   ]
  },
  {
   "cell_type": "code",
   "execution_count": 33,
   "metadata": {},
   "outputs": [
    {
     "data": {
      "text/plain": [
       "<AxesSubplot:xlabel='churn_Yes', ylabel='monthly_charges'>"
      ]
     },
     "execution_count": 33,
     "metadata": {},
     "output_type": "execute_result"
    },
    {
     "data": {
      "image/png": "[encoded data removed]",
      "text/plain": [
       "<Figure size 640x480 with 1 Axes>"
      ]
     },
     "metadata": {},
     "output_type": "display_data"
    }
   ],
   "source": [
    "sns.barplot(data = train, x = 'churn_Yes', y = 'monthly_charges')"
   ]
  },
  {
   "cell_type": "code",
   "execution_count": 34,
   "metadata": {},
   "outputs": [
    {
     "data": {
      "text/plain": [
       "<AxesSubplot:xlabel='churn_Yes', ylabel='monthly_charges'>"
      ]
     },
     "execution_count": 34,
     "metadata": {},
     "output_type": "execute_result"
    },
    {
     "data": {
      "image/png": "[encoded data removed]",
      "text/plain": [
       "<Figure size 640x480 with 1 Axes>"
      ]
     },
     "metadata": {},
     "output_type": "display_data"
    }
   ],
   "source": [
    "sns.swarmplot(data=train, x='churn_Yes', y='monthly_charges', size = 2)"
   ]
  },
  {
   "cell_type": "code",
   "execution_count": 35,
   "metadata": {},
   "outputs": [],
   "source": [
    "#Do stats test for monthly_charges to churn\n",
    "#continuous vs discrete\n",
    "#t-test"
   ]
  },
  {
   "attachments": {},
   "cell_type": "markdown",
   "metadata": {},
   "source": [
    "Stats testing\n",
    "\n",
    "- Be sure you are using the correct statistical test for the type of variables you are testing\n",
    "- Be sure that you are not violating any of the assumptions for the statistical test you are choosing\n",
    "- Your notebook should run and produce the results of the test you are using (This may be done through imports)\n",
    "- Include an introduction to the kind of test you are doing\n",
    "- Include the Ho and Ha for the test\n",
    "- Include the alpha you are using\n",
    "- Include the readout of the p-value for the test\n",
    "- Interpret the results of the test in natural language (I reject the null hypothesis is not sufficient)"
   ]
  },
  {
   "attachments": {},
   "cell_type": "markdown",
   "metadata": {},
   "source": [
    "Ho = monthly charges has no affect on churn\n",
    "Ha = monthly charges does have an affect on churn"
   ]
  },
  {
   "cell_type": "code",
   "execution_count": 36,
   "metadata": {},
   "outputs": [],
   "source": [
    "alpha = .05\n",
    "#set alpha"
   ]
  },
  {
   "cell_type": "code",
   "execution_count": 37,
   "metadata": {},
   "outputs": [
    {
     "data": {
      "text/plain": [
       "0    2897\n",
       "1    1046\n",
       "Name: churn_Yes, dtype: int64"
      ]
     },
     "execution_count": 37,
     "metadata": {},
     "output_type": "execute_result"
    }
   ],
   "source": [
    "train.churn_Yes.value_counts()\n",
    "#verifying sample is large enough\n",
    "#it is large enough"
   ]
  },
  {
   "cell_type": "code",
   "execution_count": null,
   "metadata": {},
   "outputs": [],
   "source": []
  },
  {
   "attachments": {},
   "cell_type": "markdown",
   "metadata": {},
   "source": [
    "Takeaway:\n",
    "\n",
    "Customers with lower monthly charges are less likely to churn.\n",
    "- - -"
   ]
  },
  {
   "attachments": {},
   "cell_type": "markdown",
   "metadata": {},
   "source": [
    "#### 4) Do certain contract types have higher churn?"
   ]
  },
  {
   "cell_type": "code",
   "execution_count": 38,
   "metadata": {},
   "outputs": [
    {
     "data": {
      "text/plain": [
       "<AxesSubplot:xlabel='churn_Yes', ylabel='contract_type_One year'>"
      ]
     },
     "execution_count": 38,
     "metadata": {},
     "output_type": "execute_result"
    },
    {
     "data": {
      "image/png": "[encoded data removed]",
      "text/plain": [
       "<Figure size 640x480 with 1 Axes>"
      ]
     },
     "metadata": {},
     "output_type": "display_data"
    }
   ],
   "source": [
    "sns.barplot(data = train, x = 'churn_Yes', y = 'contract_type_One year')"
   ]
  },
  {
   "cell_type": "code",
   "execution_count": 39,
   "metadata": {},
   "outputs": [
    {
     "data": {
      "text/plain": [
       "<AxesSubplot:xlabel='churn_Yes', ylabel='count'>"
      ]
     },
     "execution_count": 39,
     "metadata": {},
     "output_type": "execute_result"
    },
    {
     "data": {
      "image/png": "[encoded data removed]",
      "text/plain": [
       "<Figure size 640x480 with 1 Axes>"
      ]
     },
     "metadata": {},
     "output_type": "display_data"
    }
   ],
   "source": [
    "sns.countplot(data = train, x = 'churn_Yes', hue = 'contract_type_One year')"
   ]
  },
  {
   "cell_type": "code",
   "execution_count": 40,
   "metadata": {},
   "outputs": [],
   "source": [
    "# sns.barplot(data = train, x = 'churn_Yes', y = 'contract_type_Two year')"
   ]
  },
  {
   "cell_type": "code",
   "execution_count": 41,
   "metadata": {},
   "outputs": [
    {
     "data": {
      "text/plain": [
       "<AxesSubplot:xlabel='churn_Yes', ylabel='count'>"
      ]
     },
     "execution_count": 41,
     "metadata": {},
     "output_type": "execute_result"
    },
    {
     "data": {
      "image/png": "[encoded data removed]",
      "text/plain": [
       "<Figure size 640x480 with 1 Axes>"
      ]
     },
     "metadata": {},
     "output_type": "display_data"
    }
   ],
   "source": [
    "sns.countplot(data = train, x = 'churn_Yes', hue = 'contract_type_Two year')"
   ]
  },
  {
   "cell_type": "markdown",
   "metadata": {},
   "source": []
  },
  {
   "attachments": {},
   "cell_type": "markdown",
   "metadata": {},
   "source": [
    "#Stats test for contract_types\n",
    "\n",
    "Ho = there is no relationship between two year contract and churn\n",
    "\n",
    "Ha = There is a correlation between two year contact and churn\n",
    "\n"
   ]
  },
  {
   "cell_type": "code",
   "execution_count": 42,
   "metadata": {},
   "outputs": [],
   "source": [
    "observed_contract_2_Year = pd.crosstab(train['contract_type_Two year'], train.churn_Yes)"
   ]
  },
  {
   "cell_type": "code",
   "execution_count": 43,
   "metadata": {},
   "outputs": [
    {
     "data": {
      "text/html": [
       "<div>\n",
       "<style scoped>\n",
       "    .dataframe tbody tr th:only-of-type {\n",
       "        vertical-align: middle;\n",
       "    }\n",
       "\n",
       "    .dataframe tbody tr th {\n",
       "        vertical-align: top;\n",
       "    }\n",
       "\n",
       "    .dataframe thead th {\n",
       "        text-align: right;\n",
       "    }\n",
       "</style>\n",
       "<table border=\"1\" class=\"dataframe\">\n",
       "  <thead>\n",
       "    <tr style=\"text-align: right;\">\n",
       "      <th>churn_Yes</th>\n",
       "      <th>0</th>\n",
       "      <th>1</th>\n",
       "    </tr>\n",
       "    <tr>\n",
       "      <th>contract_type_Two year</th>\n",
       "      <th></th>\n",
       "      <th></th>\n",
       "    </tr>\n",
       "  </thead>\n",
       "  <tbody>\n",
       "    <tr>\n",
       "      <th>0</th>\n",
       "      <td>2002</td>\n",
       "      <td>1017</td>\n",
       "    </tr>\n",
       "    <tr>\n",
       "      <th>1</th>\n",
       "      <td>895</td>\n",
       "      <td>29</td>\n",
       "    </tr>\n",
       "  </tbody>\n",
       "</table>\n",
       "</div>"
      ],
      "text/plain": [
       "churn_Yes                  0     1\n",
       "contract_type_Two year            \n",
       "0                       2002  1017\n",
       "1                        895    29"
      ]
     },
     "execution_count": 43,
     "metadata": {},
     "output_type": "execute_result"
    }
   ],
   "source": [
    "observed_contract_2_Year"
   ]
  },
  {
   "cell_type": "code",
   "execution_count": 44,
   "metadata": {},
   "outputs": [
    {
     "data": {
      "text/plain": [
       "(337.16221680297303,\n",
       " 2.6478708937714996e-75,\n",
       " 1,\n",
       " array([[2218.11894497,  800.88105503],\n",
       "        [ 678.88105503,  245.11894497]]))"
      ]
     },
     "execution_count": 44,
     "metadata": {},
     "output_type": "execute_result"
    }
   ],
   "source": [
    "chi2, p, degf, expected = stats.chi2_contingency(observed_contract_2_Year)\n",
    "chi2, p, degf, expected"
   ]
  },
  {
   "cell_type": "code",
   "execution_count": null,
   "metadata": {},
   "outputs": [],
   "source": []
  },
  {
   "cell_type": "code",
   "execution_count": null,
   "metadata": {},
   "outputs": [],
   "source": []
  },
  {
   "attachments": {},
   "cell_type": "markdown",
   "metadata": {},
   "source": [
    "Takeaway:\n",
    "\n",
    "Two year contracts have lower churn than one year contracts\n",
    "\n",
    "After performing chi2 test, can confirm there is a correlation between 2 year contract type and churn\n",
    "- - -"
   ]
  },
  {
   "attachments": {},
   "cell_type": "markdown",
   "metadata": {},
   "source": [
    "#### 5) Does fiber optic service type have lower churn?"
   ]
  },
  {
   "cell_type": "code",
   "execution_count": 45,
   "metadata": {},
   "outputs": [
    {
     "data": {
      "text/plain": [
       "<AxesSubplot:xlabel='churn_Yes', ylabel='count'>"
      ]
     },
     "execution_count": 45,
     "metadata": {},
     "output_type": "execute_result"
    },
    {
     "data": {
      "image/png": "[encoded data removed]",
      "text/plain": [
       "<Figure size 640x480 with 1 Axes>"
      ]
     },
     "metadata": {},
     "output_type": "display_data"
    }
   ],
   "source": [
    "sns.countplot(data = train, x = 'churn_Yes', hue = 'internet_service_type_Fiber optic')"
   ]
  },
  {
   "cell_type": "code",
   "execution_count": 46,
   "metadata": {},
   "outputs": [],
   "source": [
    "# Do stats test\n",
    "#chi2 on having fiber optic\n",
    "\n"
   ]
  },
  {
   "attachments": {},
   "cell_type": "markdown",
   "metadata": {},
   "source": [
    "Ho = Service type fiber optic has no relatioship with churn \n",
    "\n",
    "Ha = Service type fiber optic is related to churn"
   ]
  },
  {
   "cell_type": "code",
   "execution_count": 47,
   "metadata": {},
   "outputs": [
    {
     "data": {
      "text/html": [
       "<div>\n",
       "<style scoped>\n",
       "    .dataframe tbody tr th:only-of-type {\n",
       "        vertical-align: middle;\n",
       "    }\n",
       "\n",
       "    .dataframe tbody tr th {\n",
       "        vertical-align: top;\n",
       "    }\n",
       "\n",
       "    .dataframe thead th {\n",
       "        text-align: right;\n",
       "    }\n",
       "</style>\n",
       "<table border=\"1\" class=\"dataframe\">\n",
       "  <thead>\n",
       "    <tr style=\"text-align: right;\">\n",
       "      <th>churn_Yes</th>\n",
       "      <th>0</th>\n",
       "      <th>1</th>\n",
       "    </tr>\n",
       "    <tr>\n",
       "      <th>internet_service_type_Fiber optic</th>\n",
       "      <th></th>\n",
       "      <th></th>\n",
       "    </tr>\n",
       "  </thead>\n",
       "  <tbody>\n",
       "    <tr>\n",
       "      <th>0</th>\n",
       "      <td>1878</td>\n",
       "      <td>320</td>\n",
       "    </tr>\n",
       "    <tr>\n",
       "      <th>1</th>\n",
       "      <td>1019</td>\n",
       "      <td>726</td>\n",
       "    </tr>\n",
       "  </tbody>\n",
       "</table>\n",
       "</div>"
      ],
      "text/plain": [
       "churn_Yes                             0    1\n",
       "internet_service_type_Fiber optic           \n",
       "0                                  1878  320\n",
       "1                                  1019  726"
      ]
     },
     "execution_count": 47,
     "metadata": {},
     "output_type": "execute_result"
    }
   ],
   "source": [
    "observed_Fiber_Optic = pd.crosstab(train['internet_service_type_Fiber optic'], train.churn_Yes)\n",
    "observed_Fiber_Optic"
   ]
  },
  {
   "cell_type": "code",
   "execution_count": 48,
   "metadata": {},
   "outputs": [
    {
     "data": {
      "text/plain": [
       "(363.68055827796593,\n",
       " 4.447993420103704e-81,\n",
       " 1,\n",
       " array([[1614.91402485,  583.08597515],\n",
       "        [1282.08597515,  462.91402485]]))"
      ]
     },
     "execution_count": 48,
     "metadata": {},
     "output_type": "execute_result"
    }
   ],
   "source": [
    "chi2, p, degf, expected = stats.chi2_contingency(observed_Fiber_Optic)\n",
    "chi2, p, degf, expected"
   ]
  },
  {
   "cell_type": "code",
   "execution_count": null,
   "metadata": {},
   "outputs": [],
   "source": []
  },
  {
   "cell_type": "code",
   "execution_count": null,
   "metadata": {},
   "outputs": [],
   "source": []
  },
  {
   "attachments": {},
   "cell_type": "markdown",
   "metadata": {},
   "source": [
    "Takeaway:"
   ]
  },
  {
   "cell_type": "markdown",
   "metadata": {},
   "source": []
  },
  {
   "cell_type": "code",
   "execution_count": 49,
   "metadata": {},
   "outputs": [
    {
     "data": {
      "text/plain": [
       "<AxesSubplot:xlabel='churn_Yes', ylabel='count'>"
      ]
     },
     "execution_count": 49,
     "metadata": {},
     "output_type": "execute_result"
    },
    {
     "data": {
      "image/png": "[encoded data removed]",
      "text/plain": [
       "<Figure size 640x480 with 1 Axes>"
      ]
     },
     "metadata": {},
     "output_type": "display_data"
    }
   ],
   "source": [
    "sns.countplot(data = train, x = 'churn_Yes', hue = 'internet_service_type_Fiber optic')"
   ]
  },
  {
   "attachments": {},
   "cell_type": "markdown",
   "metadata": {},
   "source": [
    "Takeaway:"
   ]
  },
  {
   "cell_type": "code",
   "execution_count": null,
   "metadata": {},
   "outputs": [],
   "source": []
  },
  {
   "attachments": {},
   "cell_type": "markdown",
   "metadata": {},
   "source": [
    "### sending train, validate and test datasets from exploration to csv to use in a different scratch notebook for modeling"
   ]
  },
  {
   "cell_type": "code",
   "execution_count": 50,
   "metadata": {},
   "outputs": [],
   "source": [
    "train.to_csv('Telco_Train_CSV.csv')\n",
    "validate.to_csv('Telco_Validate_CSV.csv')\n",
    "test.to_csv('Telco_Test_CSV.csv')\n"
   ]
  },
  {
   "cell_type": "code",
   "execution_count": null,
   "metadata": {},
   "outputs": [],
   "source": []
  }
 ],
 "metadata": {
  "kernelspec": {
   "display_name": "base",
   "language": "python",
   "name": "python3"
  },
  "language_info": {
   "codemirror_mode": {
    "name": "ipython",
    "version": 3
   },
   "file_extension": ".py",
   "mimetype": "text/x-python",
   "name": "python",
   "nbconvert_exporter": "python",
   "pygments_lexer": "ipython3",
   "version": "3.9.13"
  },
  "orig_nbformat": 4,
  "vscode": {
   "interpreter": {
    "hash": "38cca0c38332a56087b24af0bc80247f4fced29cb4f7f437d91dc159adec9c4e"
   }
  }
 },
 "nbformat": 4,
 "nbformat_minor": 2
}
