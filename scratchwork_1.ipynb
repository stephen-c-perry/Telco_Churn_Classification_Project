{
 "cells": [
  {
   "cell_type": "code",
   "execution_count": 18,
   "metadata": {},
   "outputs": [],
   "source": [
    "#imports\n",
    "\n",
    "import pandas as pd\n",
    "import numpy as np\n",
    "import env\n",
    "import acquire\n",
    "import prepare\n",
    "import matplotlib.pyplot as plt\n",
    "import seaborn as sns\n",
    "from sklearn.model_selection import train_test_split\n",
    "import warnings\n",
    "warnings.filterwarnings(\"ignore\")\n",
    "from scipy import stats\n",
    "%matplotlib inline\n"
   ]
  },
  {
   "cell_type": "code",
   "execution_count": 19,
   "metadata": {},
   "outputs": [],
   "source": [
    "df_telco = acquire.get_telco_data()"
   ]
  },
  {
   "cell_type": "code",
   "execution_count": null,
   "metadata": {},
   "outputs": [],
   "source": [
    "df_telco.head()\n"
   ]
  },
  {
   "cell_type": "code",
   "execution_count": null,
   "metadata": {},
   "outputs": [],
   "source": [
    "#columns to get dummies\n",
    "#multiple_lines, online_security, online_backup, device_protection, tech_support, streaming_tv, streaming_movies, contract_type, internet_service_type, payment_type\n",
    "#churn change to int"
   ]
  },
  {
   "cell_type": "code",
   "execution_count": null,
   "metadata": {},
   "outputs": [],
   "source": [
    "def more_dummies(df):\n",
    "    cols_to_dummify = ['multiple_lines', 'online_security', 'online_backup', 'device_protection', 'tech_support', 'streaming_tv', 'streaming_movies,' 'contract_type', 'internet_service_type', 'payment_type']\n",
    "\n",
    "    for col in cols_to_dummify:\n",
    "       df_telco_dummies = pd.get_dummies(cols_to_dummify)\n",
    "    return df_telco_dummies\n",
    "    "
   ]
  },
  {
   "cell_type": "code",
   "execution_count": null,
   "metadata": {},
   "outputs": [],
   "source": [
    "df_telco_dummies = more_dummies(df_telco)"
   ]
  },
  {
   "cell_type": "code",
   "execution_count": null,
   "metadata": {},
   "outputs": [],
   "source": [
    "#finish cleaning data, then split (train, validate, test), then explore on the train dataset"
   ]
  },
  {
   "cell_type": "code",
   "execution_count": null,
   "metadata": {},
   "outputs": [],
   "source": [
    "#split data\n",
    "prepare.train_test_split(df_telco)"
   ]
  },
  {
   "cell_type": "code",
   "execution_count": null,
   "metadata": {},
   "outputs": [],
   "source": [
    "# sns.barplot(x = \"monthly_charges\", y = \"churn\", data = df_telco)\n",
    "# this one would be useful once the dataset is split "
   ]
  },
  {
   "cell_type": "code",
   "execution_count": 20,
   "metadata": {},
   "outputs": [],
   "source": [
    "prepped_telco = prepare.prep_telco(df_telco)\n"
   ]
  },
  {
   "cell_type": "code",
   "execution_count": null,
   "metadata": {},
   "outputs": [],
   "source": [
    "prepped_telco.info()"
   ]
  },
  {
   "cell_type": "code",
   "execution_count": null,
   "metadata": {},
   "outputs": [],
   "source": [
    "prepare.train_test_split(prepped_telco, prepped_telco.churn_Yes)"
   ]
  },
  {
   "cell_type": "code",
   "execution_count": null,
   "metadata": {},
   "outputs": [],
   "source": [
    "def split_data(df):\n",
    "    '''\n",
    "    take in a DataFrame and return train, validate, and test DataFrames; stratify on churn_Yes.\n",
    "    return train, validate, test DataFrames.\n",
    "    '''\n",
    "    train_validate, test = train_test_split(df, test_size=.2, random_state=123, stratify=df.churn_Yes)\n",
    "    train, validate = train_test_split(train_validate, \n",
    "                                       test_size=.3, \n",
    "                                       random_state=123, \n",
    "                                       stratify=train_validate.churn_Yes)\n",
    "    return train, validate, test\n"
   ]
  },
  {
   "cell_type": "code",
   "execution_count": 21,
   "metadata": {},
   "outputs": [],
   "source": [
    "train, validate, test = split_data(prepped_telco)"
   ]
  },
  {
   "cell_type": "code",
   "execution_count": 22,
   "metadata": {},
   "outputs": [
    {
     "data": {
      "text/html": [
       "<div>\n",
       "<style scoped>\n",
       "    .dataframe tbody tr th:only-of-type {\n",
       "        vertical-align: middle;\n",
       "    }\n",
       "\n",
       "    .dataframe tbody tr th {\n",
       "        vertical-align: top;\n",
       "    }\n",
       "\n",
       "    .dataframe thead th {\n",
       "        text-align: right;\n",
       "    }\n",
       "</style>\n",
       "<table border=\"1\" class=\"dataframe\">\n",
       "  <thead>\n",
       "    <tr style=\"text-align: right;\">\n",
       "      <th></th>\n",
       "      <th>customer_id</th>\n",
       "      <th>senior_citizen</th>\n",
       "      <th>tenure</th>\n",
       "      <th>monthly_charges</th>\n",
       "      <th>total_charges</th>\n",
       "      <th>gender_Male</th>\n",
       "      <th>partner_Yes</th>\n",
       "      <th>dependents_Yes</th>\n",
       "      <th>phone_service_Yes</th>\n",
       "      <th>paperless_billing_Yes</th>\n",
       "      <th>...</th>\n",
       "      <th>streaming_tv_Yes</th>\n",
       "      <th>streaming_movies_No internet service</th>\n",
       "      <th>streaming_movies_Yes</th>\n",
       "      <th>contract_type_One year</th>\n",
       "      <th>contract_type_Two year</th>\n",
       "      <th>internet_service_type_Fiber optic</th>\n",
       "      <th>internet_service_type_None</th>\n",
       "      <th>payment_type_Credit card (automatic)</th>\n",
       "      <th>payment_type_Electronic check</th>\n",
       "      <th>payment_type_Mailed check</th>\n",
       "    </tr>\n",
       "  </thead>\n",
       "  <tbody>\n",
       "    <tr>\n",
       "      <th>5310</th>\n",
       "      <td>7503-MIOGA</td>\n",
       "      <td>1</td>\n",
       "      <td>72</td>\n",
       "      <td>89.85</td>\n",
       "      <td>6697.35</td>\n",
       "      <td>0</td>\n",
       "      <td>1</td>\n",
       "      <td>0</td>\n",
       "      <td>1</td>\n",
       "      <td>1</td>\n",
       "      <td>...</td>\n",
       "      <td>1</td>\n",
       "      <td>0</td>\n",
       "      <td>1</td>\n",
       "      <td>0</td>\n",
       "      <td>1</td>\n",
       "      <td>0</td>\n",
       "      <td>0</td>\n",
       "      <td>0</td>\n",
       "      <td>0</td>\n",
       "      <td>0</td>\n",
       "    </tr>\n",
       "    <tr>\n",
       "      <th>3790</th>\n",
       "      <td>5329-KRDTM</td>\n",
       "      <td>1</td>\n",
       "      <td>72</td>\n",
       "      <td>77.35</td>\n",
       "      <td>5396.25</td>\n",
       "      <td>1</td>\n",
       "      <td>1</td>\n",
       "      <td>0</td>\n",
       "      <td>1</td>\n",
       "      <td>0</td>\n",
       "      <td>...</td>\n",
       "      <td>1</td>\n",
       "      <td>0</td>\n",
       "      <td>0</td>\n",
       "      <td>0</td>\n",
       "      <td>1</td>\n",
       "      <td>0</td>\n",
       "      <td>0</td>\n",
       "      <td>1</td>\n",
       "      <td>0</td>\n",
       "      <td>0</td>\n",
       "    </tr>\n",
       "    <tr>\n",
       "      <th>4398</th>\n",
       "      <td>6199-IWKGC</td>\n",
       "      <td>1</td>\n",
       "      <td>46</td>\n",
       "      <td>100.25</td>\n",
       "      <td>4753.85</td>\n",
       "      <td>0</td>\n",
       "      <td>1</td>\n",
       "      <td>0</td>\n",
       "      <td>1</td>\n",
       "      <td>0</td>\n",
       "      <td>...</td>\n",
       "      <td>1</td>\n",
       "      <td>0</td>\n",
       "      <td>1</td>\n",
       "      <td>1</td>\n",
       "      <td>0</td>\n",
       "      <td>1</td>\n",
       "      <td>0</td>\n",
       "      <td>0</td>\n",
       "      <td>1</td>\n",
       "      <td>0</td>\n",
       "    </tr>\n",
       "    <tr>\n",
       "      <th>2635</th>\n",
       "      <td>3748-FVMZZ</td>\n",
       "      <td>0</td>\n",
       "      <td>4</td>\n",
       "      <td>40.05</td>\n",
       "      <td>162.45</td>\n",
       "      <td>1</td>\n",
       "      <td>0</td>\n",
       "      <td>0</td>\n",
       "      <td>0</td>\n",
       "      <td>1</td>\n",
       "      <td>...</td>\n",
       "      <td>0</td>\n",
       "      <td>0</td>\n",
       "      <td>1</td>\n",
       "      <td>0</td>\n",
       "      <td>0</td>\n",
       "      <td>0</td>\n",
       "      <td>0</td>\n",
       "      <td>0</td>\n",
       "      <td>1</td>\n",
       "      <td>0</td>\n",
       "    </tr>\n",
       "    <tr>\n",
       "      <th>2986</th>\n",
       "      <td>4280-DLSHD</td>\n",
       "      <td>0</td>\n",
       "      <td>8</td>\n",
       "      <td>54.75</td>\n",
       "      <td>445.85</td>\n",
       "      <td>1</td>\n",
       "      <td>1</td>\n",
       "      <td>0</td>\n",
       "      <td>1</td>\n",
       "      <td>1</td>\n",
       "      <td>...</td>\n",
       "      <td>0</td>\n",
       "      <td>0</td>\n",
       "      <td>0</td>\n",
       "      <td>0</td>\n",
       "      <td>0</td>\n",
       "      <td>0</td>\n",
       "      <td>0</td>\n",
       "      <td>0</td>\n",
       "      <td>0</td>\n",
       "      <td>1</td>\n",
       "    </tr>\n",
       "    <tr>\n",
       "      <th>...</th>\n",
       "      <td>...</td>\n",
       "      <td>...</td>\n",
       "      <td>...</td>\n",
       "      <td>...</td>\n",
       "      <td>...</td>\n",
       "      <td>...</td>\n",
       "      <td>...</td>\n",
       "      <td>...</td>\n",
       "      <td>...</td>\n",
       "      <td>...</td>\n",
       "      <td>...</td>\n",
       "      <td>...</td>\n",
       "      <td>...</td>\n",
       "      <td>...</td>\n",
       "      <td>...</td>\n",
       "      <td>...</td>\n",
       "      <td>...</td>\n",
       "      <td>...</td>\n",
       "      <td>...</td>\n",
       "      <td>...</td>\n",
       "      <td>...</td>\n",
       "    </tr>\n",
       "    <tr>\n",
       "      <th>6230</th>\n",
       "      <td>8809-RIHDD</td>\n",
       "      <td>0</td>\n",
       "      <td>72</td>\n",
       "      <td>103.40</td>\n",
       "      <td>7372.65</td>\n",
       "      <td>1</td>\n",
       "      <td>1</td>\n",
       "      <td>1</td>\n",
       "      <td>1</td>\n",
       "      <td>1</td>\n",
       "      <td>...</td>\n",
       "      <td>1</td>\n",
       "      <td>0</td>\n",
       "      <td>1</td>\n",
       "      <td>0</td>\n",
       "      <td>1</td>\n",
       "      <td>1</td>\n",
       "      <td>0</td>\n",
       "      <td>0</td>\n",
       "      <td>1</td>\n",
       "      <td>0</td>\n",
       "    </tr>\n",
       "    <tr>\n",
       "      <th>356</th>\n",
       "      <td>0523-VNGTF</td>\n",
       "      <td>1</td>\n",
       "      <td>52</td>\n",
       "      <td>50.50</td>\n",
       "      <td>2566.30</td>\n",
       "      <td>0</td>\n",
       "      <td>0</td>\n",
       "      <td>0</td>\n",
       "      <td>0</td>\n",
       "      <td>1</td>\n",
       "      <td>...</td>\n",
       "      <td>1</td>\n",
       "      <td>0</td>\n",
       "      <td>0</td>\n",
       "      <td>0</td>\n",
       "      <td>0</td>\n",
       "      <td>0</td>\n",
       "      <td>0</td>\n",
       "      <td>0</td>\n",
       "      <td>1</td>\n",
       "      <td>0</td>\n",
       "    </tr>\n",
       "    <tr>\n",
       "      <th>2128</th>\n",
       "      <td>3058-HJCUY</td>\n",
       "      <td>0</td>\n",
       "      <td>41</td>\n",
       "      <td>102.60</td>\n",
       "      <td>4213.35</td>\n",
       "      <td>1</td>\n",
       "      <td>1</td>\n",
       "      <td>1</td>\n",
       "      <td>1</td>\n",
       "      <td>1</td>\n",
       "      <td>...</td>\n",
       "      <td>1</td>\n",
       "      <td>0</td>\n",
       "      <td>1</td>\n",
       "      <td>1</td>\n",
       "      <td>0</td>\n",
       "      <td>1</td>\n",
       "      <td>0</td>\n",
       "      <td>0</td>\n",
       "      <td>1</td>\n",
       "      <td>0</td>\n",
       "    </tr>\n",
       "    <tr>\n",
       "      <th>3586</th>\n",
       "      <td>5081-NWSUP</td>\n",
       "      <td>0</td>\n",
       "      <td>10</td>\n",
       "      <td>64.90</td>\n",
       "      <td>685.55</td>\n",
       "      <td>0</td>\n",
       "      <td>0</td>\n",
       "      <td>0</td>\n",
       "      <td>1</td>\n",
       "      <td>0</td>\n",
       "      <td>...</td>\n",
       "      <td>0</td>\n",
       "      <td>0</td>\n",
       "      <td>1</td>\n",
       "      <td>1</td>\n",
       "      <td>0</td>\n",
       "      <td>0</td>\n",
       "      <td>0</td>\n",
       "      <td>0</td>\n",
       "      <td>0</td>\n",
       "      <td>1</td>\n",
       "    </tr>\n",
       "    <tr>\n",
       "      <th>6817</th>\n",
       "      <td>9681-KYGYB</td>\n",
       "      <td>1</td>\n",
       "      <td>49</td>\n",
       "      <td>88.20</td>\n",
       "      <td>4159.45</td>\n",
       "      <td>1</td>\n",
       "      <td>1</td>\n",
       "      <td>0</td>\n",
       "      <td>1</td>\n",
       "      <td>1</td>\n",
       "      <td>...</td>\n",
       "      <td>0</td>\n",
       "      <td>0</td>\n",
       "      <td>0</td>\n",
       "      <td>0</td>\n",
       "      <td>0</td>\n",
       "      <td>1</td>\n",
       "      <td>0</td>\n",
       "      <td>0</td>\n",
       "      <td>1</td>\n",
       "      <td>0</td>\n",
       "    </tr>\n",
       "  </tbody>\n",
       "</table>\n",
       "<p>3943 rows × 32 columns</p>\n",
       "</div>"
      ],
      "text/plain": [
       "     customer_id  senior_citizen  tenure  monthly_charges  total_charges  \\\n",
       "5310  7503-MIOGA               1      72            89.85        6697.35   \n",
       "3790  5329-KRDTM               1      72            77.35        5396.25   \n",
       "4398  6199-IWKGC               1      46           100.25        4753.85   \n",
       "2635  3748-FVMZZ               0       4            40.05         162.45   \n",
       "2986  4280-DLSHD               0       8            54.75         445.85   \n",
       "...          ...             ...     ...              ...            ...   \n",
       "6230  8809-RIHDD               0      72           103.40        7372.65   \n",
       "356   0523-VNGTF               1      52            50.50        2566.30   \n",
       "2128  3058-HJCUY               0      41           102.60        4213.35   \n",
       "3586  5081-NWSUP               0      10            64.90         685.55   \n",
       "6817  9681-KYGYB               1      49            88.20        4159.45   \n",
       "\n",
       "      gender_Male  partner_Yes  dependents_Yes  phone_service_Yes  \\\n",
       "5310            0            1               0                  1   \n",
       "3790            1            1               0                  1   \n",
       "4398            0            1               0                  1   \n",
       "2635            1            0               0                  0   \n",
       "2986            1            1               0                  1   \n",
       "...           ...          ...             ...                ...   \n",
       "6230            1            1               1                  1   \n",
       "356             0            0               0                  0   \n",
       "2128            1            1               1                  1   \n",
       "3586            0            0               0                  1   \n",
       "6817            1            1               0                  1   \n",
       "\n",
       "      paperless_billing_Yes  ...  streaming_tv_Yes  \\\n",
       "5310                      1  ...                 1   \n",
       "3790                      0  ...                 1   \n",
       "4398                      0  ...                 1   \n",
       "2635                      1  ...                 0   \n",
       "2986                      1  ...                 0   \n",
       "...                     ...  ...               ...   \n",
       "6230                      1  ...                 1   \n",
       "356                       1  ...                 1   \n",
       "2128                      1  ...                 1   \n",
       "3586                      0  ...                 0   \n",
       "6817                      1  ...                 0   \n",
       "\n",
       "      streaming_movies_No internet service  streaming_movies_Yes  \\\n",
       "5310                                     0                     1   \n",
       "3790                                     0                     0   \n",
       "4398                                     0                     1   \n",
       "2635                                     0                     1   \n",
       "2986                                     0                     0   \n",
       "...                                    ...                   ...   \n",
       "6230                                     0                     1   \n",
       "356                                      0                     0   \n",
       "2128                                     0                     1   \n",
       "3586                                     0                     1   \n",
       "6817                                     0                     0   \n",
       "\n",
       "      contract_type_One year  contract_type_Two year  \\\n",
       "5310                       0                       1   \n",
       "3790                       0                       1   \n",
       "4398                       1                       0   \n",
       "2635                       0                       0   \n",
       "2986                       0                       0   \n",
       "...                      ...                     ...   \n",
       "6230                       0                       1   \n",
       "356                        0                       0   \n",
       "2128                       1                       0   \n",
       "3586                       1                       0   \n",
       "6817                       0                       0   \n",
       "\n",
       "      internet_service_type_Fiber optic  internet_service_type_None  \\\n",
       "5310                                  0                           0   \n",
       "3790                                  0                           0   \n",
       "4398                                  1                           0   \n",
       "2635                                  0                           0   \n",
       "2986                                  0                           0   \n",
       "...                                 ...                         ...   \n",
       "6230                                  1                           0   \n",
       "356                                   0                           0   \n",
       "2128                                  1                           0   \n",
       "3586                                  0                           0   \n",
       "6817                                  1                           0   \n",
       "\n",
       "      payment_type_Credit card (automatic)  payment_type_Electronic check  \\\n",
       "5310                                     0                              0   \n",
       "3790                                     1                              0   \n",
       "4398                                     0                              1   \n",
       "2635                                     0                              1   \n",
       "2986                                     0                              0   \n",
       "...                                    ...                            ...   \n",
       "6230                                     0                              1   \n",
       "356                                      0                              1   \n",
       "2128                                     0                              1   \n",
       "3586                                     0                              0   \n",
       "6817                                     0                              1   \n",
       "\n",
       "      payment_type_Mailed check  \n",
       "5310                          0  \n",
       "3790                          0  \n",
       "4398                          0  \n",
       "2635                          0  \n",
       "2986                          1  \n",
       "...                         ...  \n",
       "6230                          0  \n",
       "356                           0  \n",
       "2128                          0  \n",
       "3586                          1  \n",
       "6817                          0  \n",
       "\n",
       "[3943 rows x 32 columns]"
      ]
     },
     "execution_count": 22,
     "metadata": {},
     "output_type": "execute_result"
    }
   ],
   "source": [
    "train"
   ]
  },
  {
   "cell_type": "code",
   "execution_count": null,
   "metadata": {},
   "outputs": [],
   "source": [
    "validate"
   ]
  },
  {
   "cell_type": "code",
   "execution_count": null,
   "metadata": {},
   "outputs": [],
   "source": [
    "test"
   ]
  },
  {
   "cell_type": "code",
   "execution_count": null,
   "metadata": {},
   "outputs": [],
   "source": [
    "train.info()"
   ]
  },
  {
   "attachments": {},
   "cell_type": "markdown",
   "metadata": {},
   "source": [
    "- - -\n",
    "\n",
    "- - -"
   ]
  },
  {
   "attachments": {},
   "cell_type": "markdown",
   "metadata": {},
   "source": [
    "## Moving onto Exploratory Analysis and Statistical Testing"
   ]
  },
  {
   "cell_type": "code",
   "execution_count": 23,
   "metadata": {},
   "outputs": [],
   "source": [
    "# use only the train dataset for analaysis and testing"
   ]
  },
  {
   "cell_type": "code",
   "execution_count": 26,
   "metadata": {},
   "outputs": [
    {
     "name": "stdout",
     "output_type": "stream",
     "text": [
      "<class 'pandas.core.frame.DataFrame'>\n",
      "Int64Index: 3943 entries, 5310 to 6817\n",
      "Data columns (total 32 columns):\n",
      " #   Column                                 Non-Null Count  Dtype  \n",
      "---  ------                                 --------------  -----  \n",
      " 0   customer_id                            3943 non-null   object \n",
      " 1   senior_citizen                         3943 non-null   int64  \n",
      " 2   tenure                                 3943 non-null   int64  \n",
      " 3   monthly_charges                        3943 non-null   float64\n",
      " 4   total_charges                          3943 non-null   float64\n",
      " 5   gender_Male                            3943 non-null   uint8  \n",
      " 6   partner_Yes                            3943 non-null   uint8  \n",
      " 7   dependents_Yes                         3943 non-null   uint8  \n",
      " 8   phone_service_Yes                      3943 non-null   uint8  \n",
      " 9   paperless_billing_Yes                  3943 non-null   uint8  \n",
      " 10  churn_Yes                              3943 non-null   uint8  \n",
      " 11  multiple_lines_No phone service        3943 non-null   uint8  \n",
      " 12  multiple_lines_Yes                     3943 non-null   uint8  \n",
      " 13  online_security_No internet service    3943 non-null   uint8  \n",
      " 14  online_security_Yes                    3943 non-null   uint8  \n",
      " 15  online_backup_No internet service      3943 non-null   uint8  \n",
      " 16  online_backup_Yes                      3943 non-null   uint8  \n",
      " 17  device_protection_No internet service  3943 non-null   uint8  \n",
      " 18  device_protection_Yes                  3943 non-null   uint8  \n",
      " 19  tech_support_No internet service       3943 non-null   uint8  \n",
      " 20  tech_support_Yes                       3943 non-null   uint8  \n",
      " 21  streaming_tv_No internet service       3943 non-null   uint8  \n",
      " 22  streaming_tv_Yes                       3943 non-null   uint8  \n",
      " 23  streaming_movies_No internet service   3943 non-null   uint8  \n",
      " 24  streaming_movies_Yes                   3943 non-null   uint8  \n",
      " 25  contract_type_One year                 3943 non-null   uint8  \n",
      " 26  contract_type_Two year                 3943 non-null   uint8  \n",
      " 27  internet_service_type_Fiber optic      3943 non-null   uint8  \n",
      " 28  internet_service_type_None             3943 non-null   uint8  \n",
      " 29  payment_type_Credit card (automatic)   3943 non-null   uint8  \n",
      " 30  payment_type_Electronic check          3943 non-null   uint8  \n",
      " 31  payment_type_Mailed check              3943 non-null   uint8  \n",
      "dtypes: float64(2), int64(2), object(1), uint8(27)\n",
      "memory usage: 288.8+ KB\n"
     ]
    }
   ],
   "source": [
    "train.info()"
   ]
  },
  {
   "attachments": {},
   "cell_type": "markdown",
   "metadata": {},
   "source": [
    "## Questions I want to explore:\n",
    "\n",
    "1) Are customers with higher tenure less likely to churn?  \n",
    "2) Are individual customers more likely to churn than those with a partner or dependents?\n",
    "3) So higher monthly charges contribute to higher churn?\n",
    "4) Do certain contract types have higher churn?\n",
    "5) Does fiber optic service type  have lower churn?"
   ]
  },
  {
   "cell_type": "code",
   "execution_count": 41,
   "metadata": {},
   "outputs": [
    {
     "data": {
      "image/png": "[encoded data removed]",
      "text/plain": [
       "<Figure size 640x480 with 1 Axes>"
      ]
     },
     "metadata": {},
     "output_type": "display_data"
    }
   ],
   "source": [
    "tenure_churn_barplot = sns.barplot(data = train, x = 'churn_Yes', y = 'tenure')\n",
    "#this shows that higher tenure is less likely to churn\n",
    "#newer customers/lower tenure more likely to churn\n"
   ]
  },
  {
   "cell_type": "code",
   "execution_count": 46,
   "metadata": {},
   "outputs": [
    {
     "data": {
      "text/plain": [
       "<seaborn.axisgrid.FacetGrid at 0x2dcb40a60>"
      ]
     },
     "execution_count": 46,
     "metadata": {},
     "output_type": "execute_result"
    },
    {
     "data": {
      "image/png": "[encoded data removed]",
      "text/plain": [
       "<Figure size 500x500 with 1 Axes>"
      ]
     },
     "metadata": {},
     "output_type": "display_data"
    }
   ],
   "source": [
    "sns.catplot(data = train, x = 'churn_Yes', y = 'tenure', hue = 'churn_Yes', kind = 'boxen')"
   ]
  },
  {
   "cell_type": "code",
   "execution_count": 80,
   "metadata": {},
   "outputs": [
    {
     "data": {
      "image/png": "[encoded data removed]",
      "text/plain": [
       "<Figure size 640x480 with 1 Axes>"
      ]
     },
     "metadata": {},
     "output_type": "display_data"
    }
   ],
   "source": [
    "online_security_vs_churn = sns.countplot(train.online_security_Yes, hue = train.churn_Yes)"
   ]
  },
  {
   "cell_type": "code",
   "execution_count": 81,
   "metadata": {},
   "outputs": [
    {
     "data": {
      "text/plain": [
       "<AxesSubplot:xlabel='online_security_Yes', ylabel='count'>"
      ]
     },
     "execution_count": 81,
     "metadata": {},
     "output_type": "execute_result"
    },
    {
     "data": {
      "image/png": "[encoded data removed]",
      "text/plain": [
       "<Figure size 640x480 with 1 Axes>"
      ]
     },
     "metadata": {},
     "output_type": "display_data"
    }
   ],
   "source": [
    "sns.countplot(train['online_security_Yes'], hue = train.churn_Yes)"
   ]
  },
  {
   "cell_type": "code",
   "execution_count": 102,
   "metadata": {},
   "outputs": [
    {
     "data": {
      "text/plain": [
       "<AxesSubplot:xlabel='tech_support_Yes', ylabel='count'>"
      ]
     },
     "execution_count": 102,
     "metadata": {},
     "output_type": "execute_result"
    },
    {
     "data": {
      "image/png": "[encoded data removed]",
      "text/plain": [
       "<Figure size 640x480 with 1 Axes>"
      ]
     },
     "metadata": {},
     "output_type": "display_data"
    }
   ],
   "source": [
    "sns.countplot(train.tech_support_Yes, hue = train.churn_Yes)"
   ]
  },
  {
   "attachments": {},
   "cell_type": "markdown",
   "metadata": {},
   "source": [
    "## Questions I want to explore:\n",
    "\n",
    "copied from above\n",
    "\n",
    "1) Are customers with higher tenure less likely to churn?  \n",
    "2) Are individual customers more likely to churn than those with a partner or dependents?\n",
    "3) So higher monthly charges contribute to higher churn?\n",
    "4) Do certain contract types have higher churn?\n",
    "5) Does fiber optic service type  have lower churn?"
   ]
  },
  {
   "cell_type": "code",
   "execution_count": 110,
   "metadata": {},
   "outputs": [
    {
     "data": {
      "text/plain": [
       "<AxesSubplot:xlabel='churn_Yes', ylabel='tenure'>"
      ]
     },
     "execution_count": 110,
     "metadata": {},
     "output_type": "execute_result"
    }
   ],
   "source": [
    "# tenure vs churn\n",
    "tenure_churn_barplot\n",
    "#why is it not showing the graph?"
   ]
  },
  {
   "cell_type": "code",
   "execution_count": null,
   "metadata": {},
   "outputs": [],
   "source": [
    "#individual customer more likely to churn than those with dependents or partners\n"
   ]
  },
  {
   "cell_type": "code",
   "execution_count": null,
   "metadata": {},
   "outputs": [],
   "source": [
    "#higher monthly charges higher churn"
   ]
  },
  {
   "cell_type": "code",
   "execution_count": null,
   "metadata": {},
   "outputs": [],
   "source": [
    "#certain contract types have higher churn"
   ]
  },
  {
   "cell_type": "code",
   "execution_count": null,
   "metadata": {},
   "outputs": [],
   "source": [
    "#fiber optic has lower churn"
   ]
  }
 ],
 "metadata": {
  "kernelspec": {
   "display_name": "base",
   "language": "python",
   "name": "python3"
  },
  "language_info": {
   "codemirror_mode": {
    "name": "ipython",
    "version": 3
   },
   "file_extension": ".py",
   "mimetype": "text/x-python",
   "name": "python",
   "nbconvert_exporter": "python",
   "pygments_lexer": "ipython3",
   "version": "3.9.13"
  },
  "orig_nbformat": 4,
  "vscode": {
   "interpreter": {
    "hash": "38cca0c38332a56087b24af0bc80247f4fced29cb4f7f437d91dc159adec9c4e"
   }
  }
 },
 "nbformat": 4,
 "nbformat_minor": 2
}
